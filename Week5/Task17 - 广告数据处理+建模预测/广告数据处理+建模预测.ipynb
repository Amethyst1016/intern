{
 "cells": [
  {
   "cell_type": "code",
   "execution_count": 1,
   "id": "e0b2e4f2",
   "metadata": {},
   "outputs": [
    {
     "data": {
      "text/html": [
       "<div>\n",
       "<style scoped>\n",
       "    .dataframe tbody tr th:only-of-type {\n",
       "        vertical-align: middle;\n",
       "    }\n",
       "\n",
       "    .dataframe tbody tr th {\n",
       "        vertical-align: top;\n",
       "    }\n",
       "\n",
       "    .dataframe thead th {\n",
       "        text-align: right;\n",
       "    }\n",
       "</style>\n",
       "<table border=\"1\" class=\"dataframe\">\n",
       "  <thead>\n",
       "    <tr style=\"text-align: right;\">\n",
       "      <th></th>\n",
       "      <th>revenue</th>\n",
       "      <th>reach</th>\n",
       "      <th>local_tv</th>\n",
       "      <th>online</th>\n",
       "      <th>instore</th>\n",
       "      <th>person</th>\n",
       "      <th>event</th>\n",
       "    </tr>\n",
       "  </thead>\n",
       "  <tbody>\n",
       "    <tr>\n",
       "      <th>0</th>\n",
       "      <td>45860.28</td>\n",
       "      <td>2</td>\n",
       "      <td>31694.91</td>\n",
       "      <td>2115</td>\n",
       "      <td>3296</td>\n",
       "      <td>8</td>\n",
       "      <td>non_event</td>\n",
       "    </tr>\n",
       "    <tr>\n",
       "      <th>1</th>\n",
       "      <td>63588.23</td>\n",
       "      <td>2</td>\n",
       "      <td>35040.17</td>\n",
       "      <td>1826</td>\n",
       "      <td>2501</td>\n",
       "      <td>14</td>\n",
       "      <td>special</td>\n",
       "    </tr>\n",
       "    <tr>\n",
       "      <th>2</th>\n",
       "      <td>23272.69</td>\n",
       "      <td>4</td>\n",
       "      <td>30992.82</td>\n",
       "      <td>1851</td>\n",
       "      <td>2524</td>\n",
       "      <td>6</td>\n",
       "      <td>special</td>\n",
       "    </tr>\n",
       "    <tr>\n",
       "      <th>3</th>\n",
       "      <td>45911.23</td>\n",
       "      <td>2</td>\n",
       "      <td>29417.78</td>\n",
       "      <td>2437</td>\n",
       "      <td>3049</td>\n",
       "      <td>12</td>\n",
       "      <td>special</td>\n",
       "    </tr>\n",
       "    <tr>\n",
       "      <th>4</th>\n",
       "      <td>36644.23</td>\n",
       "      <td>2</td>\n",
       "      <td>35611.11</td>\n",
       "      <td>1122</td>\n",
       "      <td>1142</td>\n",
       "      <td>13</td>\n",
       "      <td>cobranding</td>\n",
       "    </tr>\n",
       "  </tbody>\n",
       "</table>\n",
       "</div>"
      ],
      "text/plain": [
       "    revenue  reach  local_tv  online  instore  person       event\n",
       "0  45860.28      2  31694.91    2115     3296       8   non_event\n",
       "1  63588.23      2  35040.17    1826     2501      14     special\n",
       "2  23272.69      4  30992.82    1851     2524       6     special\n",
       "3  45911.23      2  29417.78    2437     3049      12     special\n",
       "4  36644.23      2  35611.11    1122     1142      13  cobranding"
      ]
     },
     "execution_count": 1,
     "metadata": {},
     "output_type": "execute_result"
    }
   ],
   "source": [
    "import pandas as pd\n",
    "import warnings\n",
    "warnings.filterwarnings(\"ignore\")\n",
    "\n",
    "df = pd.read_csv('data.csv')\n",
    "df.dropna(inplace=True)\n",
    "df.head()"
   ]
  },
  {
   "cell_type": "markdown",
   "id": "835592be",
   "metadata": {},
   "source": [
    "## 特征对销售额的关联性\n",
    "reach(微信推送次数)与revenue(门店销售额)有负相关的关系，微信推动次数越多，销售额反而越低。\n",
    "<br>其余变量与销售额都是正相关关系。其中local_tv(本地电视广告投入)和person(门店销售人员投入)与销售额的正相关性较大。"
   ]
  },
  {
   "cell_type": "code",
   "execution_count": 2,
   "id": "d5f0eb6c",
   "metadata": {},
   "outputs": [
    {
     "data": {
      "text/plain": [
       "revenue     1.000000\n",
       "reach      -0.165286\n",
       "local_tv    0.602114\n",
       "online      0.174198\n",
       "instore     0.307361\n",
       "person      0.557475\n",
       "Name: revenue, dtype: float64"
      ]
     },
     "execution_count": 2,
     "metadata": {},
     "output_type": "execute_result"
    }
   ],
   "source": [
    "df.corr()['revenue']"
   ]
  },
  {
   "cell_type": "code",
   "execution_count": 3,
   "id": "1ccd22fa",
   "metadata": {},
   "outputs": [
    {
     "data": {
      "image/png": "[encoded data removed]",
      "text/plain": [
       "<Figure size 432x288 with 2 Axes>"
      ]
     },
     "metadata": {
      "needs_background": "light"
     },
     "output_type": "display_data"
    }
   ],
   "source": [
    "import seaborn as sns\n",
    "from matplotlib import pyplot as plt\n",
    "sns.heatmap(df.corr(),vmin=-1,vmax=1,cmap=sns.color_palette('RdBu'))\n",
    "plt.show()"
   ]
  },
  {
   "cell_type": "markdown",
   "id": "35baf530",
   "metadata": {},
   "source": [
    "event(门店促销事件)为离散变量，计算其correlation ratio [https://zhuanlan.zhihu.com/p/362258222] 。门店促销事件类型与销售额的关联性低。"
   ]
  },
  {
   "cell_type": "code",
   "execution_count": 4,
   "id": "7c32e83a",
   "metadata": {
    "scrolled": true
   },
   "outputs": [
    {
     "data": {
      "text/plain": [
       "0.04368009601916971"
      ]
     },
     "execution_count": 4,
     "metadata": {},
     "output_type": "execute_result"
    }
   ],
   "source": [
    "import numpy as np\n",
    "events = df[['event','revenue']]\n",
    "events_mean = events.groupby(by='event', as_index=False)['revenue'].mean()\n",
    "events_mean.columns = ['event','group_avg']\n",
    "events = pd.merge(events, events_mean, on='event', how='left')\n",
    "events['total_avg'] = df['revenue'].mean()\n",
    "events['square_diff'] = (events['revenue']-events['total_avg'])**2\n",
    "events_count = pd.DataFrame(df['event'].value_counts()).reset_index()\n",
    "events_count.columns = ['event','count']\n",
    "events_sum = events_count.merge(events_mean, on='event', how='inner')\n",
    "events_sum['total_avg'] = df['revenue'].mean()\n",
    "numerator = 0\n",
    "for i in range(len(events_sum)):\n",
    "    numerator += events_sum['count'][i]*(events_sum['group_avg'][i]-events_sum['total_avg'][i])**2\n",
    "np.sqrt(numerator/sum(events['square_diff']))"
   ]
  },
  {
   "cell_type": "code",
   "execution_count": 5,
   "id": "fa32245e",
   "metadata": {},
   "outputs": [
    {
     "data": {
      "text/html": [
       "\n",
       "<div id=\"altair-viz-aa8801e2a1e84c1f8c5eac8a513649bf\"></div>\n",
       "<script type=\"text/javascript\">\n",
       "  var VEGA_DEBUG = (typeof VEGA_DEBUG == \"undefined\") ? {} : VEGA_DEBUG;\n",
       "  (function(spec, embedOpt){\n",
       "    let outputDiv = document.currentScript.previousElementSibling;\n",
       "    if (outputDiv.id !== \"altair-viz-aa8801e2a1e84c1f8c5eac8a513649bf\") {\n",
       "      outputDiv = document.getElementById(\"altair-viz-aa8801e2a1e84c1f8c5eac8a513649bf\");\n",
       "    }\n",
       "    const paths = {\n",
       "      \"vega\": \"https://cdn.jsdelivr.net/npm//vega@5?noext\",\n",
       "      \"vega-lib\": \"https://cdn.jsdelivr.net/npm//vega-lib?noext\",\n",
       "      \"vega-lite\": \"https://cdn.jsdelivr.net/npm//vega-lite@4.17.0?noext\",\n",
       "      \"vega-embed\": \"https://cdn.jsdelivr.net/npm//vega-embed@6?noext\",\n",
       "    };\n",
       "\n",
       "    function maybeLoadScript(lib, version) {\n",
       "      var key = `${lib.replace(\"-\", \"\")}_version`;\n",
       "      return (VEGA_DEBUG[key] == version) ?\n",
       "        Promise.resolve(paths[lib]) :\n",
       "        new Promise(function(resolve, reject) {\n",
       "          var s = document.createElement('script');\n",
       "          document.getElementsByTagName(\"head\")[0].appendChild(s);\n",
       "          s.async = true;\n",
       "          s.onload = () => {\n",
       "            VEGA_DEBUG[key] = version;\n",
       "            return resolve(paths[lib]);\n",
       "          };\n",
       "          s.onerror = () => reject(`Error loading script: ${paths[lib]}`);\n",
       "          s.src = paths[lib];\n",
       "        });\n",
       "    }\n",
       "\n",
       "    function showError(err) {\n",
       "      outputDiv.innerHTML = `<div class=\"error\" style=\"color:red;\">${err}</div>`;\n",
       "      throw err;\n",
       "    }\n",
       "\n",
       "    function displayChart(vegaEmbed) {\n",
       "      vegaEmbed(outputDiv, spec, embedOpt)\n",
       "        .catch(err => showError(`Javascript Error: ${err.message}<br>This usually means there's a typo in your chart specification. See the javascript console for the full traceback.`));\n",
       "    }\n",
       "\n",
       "    if(typeof define === \"function\" && define.amd) {\n",
       "      requirejs.config({paths});\n",
       "      require([\"vega-embed\"], displayChart, err => showError(`Error loading script: ${err.message}`));\n",
       "    } else {\n",
       "      maybeLoadScript(\"vega\", \"5\")\n",
       "        .then(() => maybeLoadScript(\"vega-lite\", \"4.17.0\"))\n",
       "        .then(() => maybeLoadScript(\"vega-embed\", \"6\"))\n",
       "        .catch(showError)\n",
       "        .then(() => displayChart(vegaEmbed));\n",
       "    }\n",
       "  })({\"config\": {\"view\": {\"continuousWidth\": 400, \"continuousHeight\": 300}}, \"data\": {\"name\": \"data-c00e2f5a8ee266eff329db93558c13a2\"}, \"mark\": \"boxplot\", \"encoding\": {\"x\": {\"field\": \"event\", \"type\": \"nominal\"}, \"y\": {\"field\": \"revenue\", \"type\": \"quantitative\"}}, \"width\": 300, \"$schema\": \"https://vega.github.io/schema/vega-lite/v4.17.0.json\", \"datasets\": {\"data-c00e2f5a8ee266eff329db93558c13a2\": [{\"event\": \"non_event\", \"revenue\": 45860.28, \"group_avg\": 38029.0543956044, \"total_avg\": 38475.476652314326, \"square_diff\": 54535320.483989514}, {\"event\": \"special\", \"revenue\": 63588.23, \"group_avg\": 39237.94054545455, \"total_avg\": 38475.476652314326, \"square_diff\": 630650380.7016982}, {\"event\": \"special\", \"revenue\": 23272.69, \"group_avg\": 39237.94054545455, \"total_avg\": 38475.476652314326, \"square_diff\": 231124721.99578667}, {\"event\": \"special\", \"revenue\": 45911.23, \"group_avg\": 39237.94054545455, \"total_avg\": 38475.476652314326, \"square_diff\": 55290427.84761875}, {\"event\": \"cobranding\", \"revenue\": 36644.23, \"group_avg\": 38288.11901595745, \"total_avg\": 38475.476652314326, \"square_diff\": 3353464.301612415}, {\"event\": \"cobranding\", \"revenue\": 36172.81, \"group_avg\": 38288.11901595745, \"total_avg\": 38475.476652314326, \"square_diff\": 5302273.711680477}, {\"event\": \"cobranding\", \"revenue\": 43797.03, \"group_avg\": 38288.11901595745, \"total_avg\": 38475.476652314326, \"square_diff\": 28318930.03226459}, {\"event\": \"special\", \"revenue\": 41629.8, \"group_avg\": 39237.94054545455, \"total_avg\": 38475.476652314326, \"square_diff\": 9949755.781754974}, {\"event\": \"non_event\", \"revenue\": 21303.48, \"group_avg\": 38029.0543956044, \"total_avg\": 38475.476652314326, \"square_diff\": 294877469.0270944}, {\"event\": \"holiday\", \"revenue\": 20746.15, \"group_avg\": 37871.49489583333, \"total_avg\": 38475.476652314326, \"square_diff\": 314329023.54446304}, {\"event\": \"cobranding\", \"revenue\": 36692.43, \"group_avg\": 38288.11901595745, \"total_avg\": 38475.476652314326, \"square_diff\": 3179255.3643293246}, {\"event\": \"holiday\", \"revenue\": 29800.63, \"group_avg\": 37871.49489583333, \"total_avg\": 38475.476652314326, \"square_diff\": 75252964.44116905}, {\"event\": \"holiday\", \"revenue\": 38852.52, \"group_avg\": 37871.49489583333, \"total_avg\": 38475.476652314326, \"square_diff\": 142161.68603401748}, {\"event\": \"special\", \"revenue\": 44145.29, \"group_avg\": 39237.94054545455, \"total_avg\": 38475.476652314326, \"square_diff\": 32146783.39759464}, {\"event\": \"cobranding\", \"revenue\": 36346.82, \"group_avg\": 38288.11901595745, \"total_avg\": 38475.476652314326, \"square_diff\": 4531179.143442036}, {\"event\": \"non_event\", \"revenue\": 23607.01, \"group_avg\": 38029.0543956044, \"total_avg\": 38475.476652314326, \"square_diff\": 221071300.59098324}, {\"event\": \"special\", \"revenue\": 54522.25, \"group_avg\": 39237.94054545455, \"total_avg\": 38475.476652314326, \"square_diff\": 257498934.8719953}, {\"event\": \"special\", \"revenue\": 28820.97, \"group_avg\": 39237.94054545455, \"total_avg\": 38475.476652314326, \"square_diff\": 93209498.69958155}, {\"event\": \"non_event\", \"revenue\": 28618.06, \"group_avg\": 38029.0543956044, \"total_avg\": 38475.476652314326, \"square_diff\": 97168663.05732375}, {\"event\": \"cobranding\", \"revenue\": 35958.77, \"group_avg\": 38288.11901595745, \"total_avg\": 38475.476652314326, \"square_diff\": 6333812.373803199}, {\"event\": \"non_event\", \"revenue\": 14227.06, \"group_avg\": 38029.0543956044, \"total_avg\": 38475.476652314326, \"square_diff\": 587985710.1442348}, {\"event\": \"cobranding\", \"revenue\": 25067.79, \"group_avg\": 38288.11901595745, \"total_avg\": 38475.476652314326, \"square_diff\": 179766061.36664772}, {\"event\": \"cobranding\", \"revenue\": 41919.35, \"group_avg\": 38288.11901595745, \"total_avg\": 38475.476652314326, \"square_diff\": 11860263.63489972}, {\"event\": \"special\", \"revenue\": 50585.76, \"group_avg\": 39237.94054545455, \"total_avg\": 38475.476652314326, \"square_diff\": 146658962.76123297}, {\"event\": \"holiday\", \"revenue\": 54222.77, \"group_avg\": 37871.49489583333, \"total_avg\": 38475.476652314326, \"square_diff\": 247977247.77806538}, {\"event\": \"cobranding\", \"revenue\": 30858.42, \"group_avg\": 38288.11901595745, \"total_avg\": 38475.476652314326, \"square_diff\": 58019552.04456595}, {\"event\": \"cobranding\", \"revenue\": 35582.36, \"group_avg\": 38288.11901595745, \"total_avg\": 38475.476652314326, \"square_diff\": 8370123.96389845}, {\"event\": \"special\", \"revenue\": 59561.68, \"group_avg\": 39237.94054545455, \"total_avg\": 38475.476652314326, \"square_diff\": 444627971.61995053}, {\"event\": \"non_event\", \"revenue\": 43633.81, \"group_avg\": 38029.0543956044, \"total_avg\": 38475.476652314326, \"square_diff\": 26608402.925846066}, {\"event\": \"special\", \"revenue\": 33690.12, \"group_avg\": 39237.94054545455, \"total_avg\": 38475.476652314326, \"square_diff\": 22899638.28984895}, {\"event\": \"non_event\", \"revenue\": 57485.34, \"group_avg\": 38029.0543956044, \"total_avg\": 38475.476652314326, \"square_diff\": 361374904.49768305}, {\"event\": \"special\", \"revenue\": 16452.35, \"group_avg\": 39237.94054545455, \"total_avg\": 38475.476652314326, \"square_diff\": 485018107.54387766}, {\"event\": \"non_event\", \"revenue\": 22999.75, \"group_avg\": 38029.0543956044, \"total_avg\": 38475.476652314326, \"square_diff\": 239498115.417152}, {\"event\": \"holiday\", \"revenue\": 45079.28, \"group_avg\": 37871.49489583333, \"total_avg\": 38475.476652314326, \"square_diff\": 43610218.6549045}, {\"event\": \"cobranding\", \"revenue\": 51817.62, \"group_avg\": 38288.11901595745, \"total_avg\": 38475.476652314326, \"square_diff\": 178012789.11019316}, {\"event\": \"holiday\", \"revenue\": 26236.39, \"group_avg\": 37871.49489583333, \"total_avg\": 38475.476652314326, \"square_diff\": 149795242.0828587}, {\"event\": \"non_event\", \"revenue\": 61157.54, \"group_avg\": 38029.0543956044, \"total_avg\": 38475.476652314326, \"square_diff\": 514475997.7084259}, {\"event\": \"non_event\", \"revenue\": 24739.87, \"group_avg\": 38029.0543956044, \"total_avg\": 38475.476652314326, \"square_diff\": 188666890.1071016}, {\"event\": \"special\", \"revenue\": 25517.92, \"group_avg\": 39237.94054545455, \"total_avg\": 38475.476652314326, \"square_diff\": 167898274.3979353}, {\"event\": \"special\", \"revenue\": 53965.79, \"group_avg\": 39237.94054545455, \"total_avg\": 38475.476652314326, \"square_diff\": 239949807.60948896}, {\"event\": \"cobranding\", \"revenue\": 61361.42, \"group_avg\": 38288.11901595745, \"total_avg\": 38475.476652314326, \"square_diff\": 523766402.9134781}, {\"event\": \"special\", \"revenue\": 37870.63, \"group_avg\": 39237.94054545455, \"total_avg\": 38475.476652314326, \"square_diff\": 365839.4728158506}, {\"event\": \"non_event\", \"revenue\": 33910.98, \"group_avg\": 38029.0543956044, \"total_avg\": 38475.476652314326, \"square_diff\": 20834629.688988663}, {\"event\": \"special\", \"revenue\": 29497.39, \"group_avg\": 39237.94054545455, \"total_avg\": 38475.476652314326, \"square_diff\": 80606039.93646468}, {\"event\": \"special\", \"revenue\": 23550.04, \"group_avg\": 39237.94054545455, \"total_avg\": 38475.476652314326, \"square_diff\": 222768659.26224786}, {\"event\": \"special\", \"revenue\": 45305.14, \"group_avg\": 39237.94054545455, \"total_avg\": 38475.476652314326, \"square_diff\": 46644301.44272108}, {\"event\": \"non_event\", \"revenue\": 32545.74, \"group_avg\": 38029.0543956044, \"total_avg\": 38475.476652314326, \"square_diff\": 35161776.765799895}, {\"event\": \"cobranding\", \"revenue\": 27869.96, \"group_avg\": 38288.11901595745, \"total_avg\": 38475.476652314326, \"square_diff\": 112476983.46251649}, {\"event\": \"non_event\", \"revenue\": 37954.16, \"group_avg\": 38029.0543956044, \"total_avg\": 38475.476652314326, \"square_diff\": 271771.05198021245}, {\"event\": \"holiday\", \"revenue\": 31544.18, \"group_avg\": 37871.49489583333, \"total_avg\": 38475.476652314326, \"square_diff\": 48042873.282383785}, {\"event\": \"cobranding\", \"revenue\": 20300.99, \"group_avg\": 38288.11901595745, \"total_avg\": 38475.476652314326, \"square_diff\": 330311965.07515156}, {\"event\": \"cobranding\", \"revenue\": 41079.82, \"group_avg\": 38288.11901595745, \"total_avg\": 38475.476652314326, \"square_diff\": 6782604.272634621}, {\"event\": \"non_event\", \"revenue\": 51802.34, \"group_avg\": 38029.0543956044, \"total_avg\": 38475.476652314326, \"square_diff\": 177605286.6878877}, {\"event\": \"special\", \"revenue\": 18110.74, \"group_avg\": 39237.94054545455, \"total_avg\": 38475.476652314326, \"square_diff\": 414722498.9181144}, {\"event\": \"non_event\", \"revenue\": 26531.32, \"group_avg\": 38029.0543956044, \"total_avg\": 38475.476652314326, \"square_diff\": 142662878.13502458}, {\"event\": \"cobranding\", \"revenue\": 25500.34, \"group_avg\": 38288.11901595745, \"total_avg\": 38475.476652314326, \"square_diff\": 168354171.1462306}, {\"event\": \"holiday\", \"revenue\": 41768.53, \"group_avg\": 37871.49489583333, \"total_avg\": 38475.476652314326, \"square_diff\": 10844200.350703815}, {\"event\": \"special\", \"revenue\": 42400.99, \"group_avg\": 39237.94054545455, \"total_avg\": 38475.476652314326, \"square_diff\": 15409655.04285837}, {\"event\": \"special\", \"revenue\": 41233.78, \"group_avg\": 39237.94054545455, \"total_avg\": 38475.476652314326, \"square_diff\": 7608237.357853988}, {\"event\": \"non_event\", \"revenue\": 44207.74, \"group_avg\": 38029.0543956044, \"total_avg\": 38475.476652314326, \"square_diff\": 32858843.087220546}, {\"event\": \"cobranding\", \"revenue\": 34826.87, \"group_avg\": 38288.11901595745, \"total_avg\": 38475.476652314326, \"square_diff\": 13312330.503312334}, {\"event\": \"special\", \"revenue\": 10207.96, \"group_avg\": 39237.94054545455, \"total_avg\": 38475.476652314326, \"square_diff\": 799052497.6888678}, {\"event\": \"cobranding\", \"revenue\": 30631.22, \"group_avg\": 38288.11901595745, \"total_avg\": 38475.476652314326, \"square_diff\": 61532362.427377544}, {\"event\": \"cobranding\", \"revenue\": 33059.15, \"group_avg\": 38288.11901595745, \"total_avg\": 38475.476652314326, \"square_diff\": 29336594.4045705}, {\"event\": \"cobranding\", \"revenue\": 37635.98, \"group_avg\": 38288.11901595745, \"total_avg\": 38475.476652314326, \"square_diff\": 704754.6292469553}, {\"event\": \"cobranding\", \"revenue\": 23197.28, \"group_avg\": 38288.11901595745, \"total_avg\": 38475.476652314326, \"square_diff\": 233423292.94678873}, {\"event\": \"cobranding\", \"revenue\": 31711.67, \"group_avg\": 38288.11901595745, \"total_avg\": 38475.476652314326, \"square_diff\": 45749080.42989156}, {\"event\": \"special\", \"revenue\": 25691.81, \"group_avg\": 39237.94054545455, \"total_avg\": 38475.476652314326, \"square_diff\": 163422133.07749334}, {\"event\": \"holiday\", \"revenue\": 42166.8, \"group_avg\": 37871.49489583333, \"total_avg\": 38475.476652314326, \"square_diff\": 13625868.05716939}, {\"event\": \"special\", \"revenue\": 38817.5, \"group_avg\": 39237.94054545455, \"total_avg\": 38475.476652314326, \"square_diff\": 116979.9703621153}, {\"event\": \"cobranding\", \"revenue\": 53374.83, \"group_avg\": 38288.11901595745, \"total_avg\": 38475.476652314326, \"square_diff\": 221990730.17919233}, {\"event\": \"special\", \"revenue\": 47248.08, \"group_avg\": 39237.94054545455, \"total_avg\": 38475.476652314326, \"square_diff\": 76958569.49582592}, {\"event\": \"cobranding\", \"revenue\": 19451.79, \"group_avg\": 38288.11901595745, \"total_avg\": 38475.476652314326, \"square_diff\": 361900653.84544224}, {\"event\": \"cobranding\", \"revenue\": 38546.69, \"group_avg\": 38288.11901595745, \"total_avg\": 38475.476652314326, \"square_diff\": 5071.340888600993}, {\"event\": \"cobranding\", \"revenue\": 45798.11, \"group_avg\": 38288.11901595745, \"total_avg\": 38475.476652314326, \"square_diff\": 53620959.14463831}, {\"event\": \"non_event\", \"revenue\": 28435.23, \"group_avg\": 38029.0543956044, \"total_avg\": 38475.476652314326, \"square_diff\": 100806552.83930904}, {\"event\": \"special\", \"revenue\": 36776.47, \"group_avg\": 39237.94054545455, \"total_avg\": 38475.476652314326, \"square_diff\": 2886623.60460833}, {\"event\": \"cobranding\", \"revenue\": 24914.88, \"group_avg\": 38288.11901595745, \"total_avg\": 38475.476652314326, \"square_diff\": 183889781.56675848}, {\"event\": \"cobranding\", \"revenue\": 39373.32, \"group_avg\": 38288.11901595745, \"total_avg\": 38475.476652314326, \"square_diff\": 806122.6769834172}, {\"event\": \"non_event\", \"revenue\": 17464.9, \"group_avg\": 38029.0543956044, \"total_avg\": 38475.476652314326, \"square_diff\": 441444331.26277584}, {\"event\": \"holiday\", \"revenue\": 33880.35, \"group_avg\": 37871.49489583333, \"total_avg\": 38475.476652314326, \"square_diff\": 21115188.95080948}, {\"event\": \"cobranding\", \"revenue\": 47436.33, \"group_avg\": 38288.11901595745, \"total_avg\": 38475.476652314326, \"square_diff\": 80296892.71872959}, {\"event\": \"cobranding\", \"revenue\": 22773.04, \"group_avg\": 38288.11901595745, \"total_avg\": 38475.476652314326, \"square_diff\": 246566516.81994432}, {\"event\": \"special\", \"revenue\": 27637.04, \"group_avg\": 39237.94054545455, \"total_avg\": 38475.476652314326, \"square_diff\": 117471709.06623057}, {\"event\": \"cobranding\", \"revenue\": 40512.13, \"group_avg\": 38288.11901595745, \"total_avg\": 38475.476652314326, \"square_diff\": 4147956.8586392514}, {\"event\": \"special\", \"revenue\": 41373.29, \"group_avg\": 39237.94054545455, \"total_avg\": 38475.476652314326, \"square_diff\": 8397322.198025256}, {\"event\": \"holiday\", \"revenue\": 38165.42, \"group_avg\": 37871.49489583333, \"total_avg\": 38475.476652314326, \"square_diff\": 96135.12764436804}, {\"event\": \"non_event\", \"revenue\": 15071.66, \"group_avg\": 38029.0543956044, \"total_avg\": 38475.476652314326, \"square_diff\": 547738633.8951454}, {\"event\": \"special\", \"revenue\": 44311.86, \"group_avg\": 39237.94054545455, \"total_avg\": 38475.476652314326, \"square_diff\": 34063370.58114264}, {\"event\": \"cobranding\", \"revenue\": 31156.11, \"group_avg\": 38288.11901595745, \"total_avg\": 38475.476652314326, \"square_diff\": 53573128.19101102}, {\"event\": \"non_event\", \"revenue\": 57297.31, \"group_avg\": 38029.0543956044, \"total_avg\": 38475.476652314326, \"square_diff\": 354261410.5680524}, {\"event\": \"cobranding\", \"revenue\": 47174.12, \"group_avg\": 38288.11901595745, \"total_avg\": 38475.476652314326, \"square_diff\": 75666396.09023628}, {\"event\": \"holiday\", \"revenue\": 43841.35, \"group_avg\": 37871.49489583333, \"total_avg\": 38475.476652314326, \"square_diff\": 28792596.783403445}, {\"event\": \"special\", \"revenue\": 43501.86, \"group_avg\": 39237.94054545455, \"total_avg\": 38475.476652314326, \"square_diff\": 25264529.557891846}, {\"event\": \"cobranding\", \"revenue\": 31573.72, \"group_avg\": 38288.11901595745, \"total_avg\": 38475.476652314326, \"square_diff\": 47634244.88776504}, {\"event\": \"cobranding\", \"revenue\": 28271.4, \"group_avg\": 38288.11901595745, \"total_avg\": 38475.476652314326, \"square_diff\": 104123180.32630631}, {\"event\": \"cobranding\", \"revenue\": 43330.79, \"group_avg\": 38288.11901595745, \"total_avg\": 38475.476652314326, \"square_diff\": 23574067.704214673}, {\"event\": \"holiday\", \"revenue\": 21040.08, \"group_avg\": 37871.49489583333, \"total_avg\": 38475.476652314326, \"square_diff\": 303993056.42353356}, {\"event\": \"special\", \"revenue\": 33321.95, \"group_avg\": 39237.94054545455, \"total_avg\": 38475.476652314326, \"square_diff\": 26558836.956114136}, {\"event\": \"non_event\", \"revenue\": 41757.9, \"group_avg\": 38029.0543956044, \"total_avg\": 38475.476652314326, \"square_diff\": 10774303.033432035}, {\"event\": \"cobranding\", \"revenue\": 32004.95, \"group_avg\": 38288.11901595745, \"total_avg\": 38475.476652314326, \"square_diff\": 41867715.15831003}, {\"event\": \"special\", \"revenue\": 37713.05, \"group_avg\": 39237.94054545455, \"total_avg\": 38475.476652314326, \"square_diff\": 581294.400159226}, {\"event\": \"non_event\", \"revenue\": 38454.36, \"group_avg\": 38029.0543956044, \"total_avg\": 38475.476652314326, \"square_diff\": 445.91300496411355}, {\"event\": \"holiday\", \"revenue\": 46668.85, \"group_avg\": 37871.49489583333, \"total_avg\": 38475.476652314326, \"square_diff\": 67131366.81456593}, {\"event\": \"special\", \"revenue\": 54365.97, \"group_avg\": 39237.94054545455, \"total_avg\": 38475.476652314326, \"square_diff\": 252507778.83284268}, {\"event\": \"cobranding\", \"revenue\": 48363.43, \"group_avg\": 38288.11901595745, \"total_avg\": 38475.476652314326, \"square_diff\": 97771621.40600833}, {\"event\": \"special\", \"revenue\": 54058.99, \"group_avg\": 39237.94054545455, \"total_avg\": 38475.476652314326, \"square_diff\": 242845888.2574975}, {\"event\": \"special\", \"revenue\": 48207.7, \"group_avg\": 39237.94054545455, \"total_avg\": 38475.476652314326, \"square_diff\": 94716171.28923808}, {\"event\": \"cobranding\", \"revenue\": 34238.86, \"group_avg\": 38288.11901595745, \"total_avg\": 38475.476652314326, \"square_diff\": 17948920.658667043}, {\"event\": \"special\", \"revenue\": 42175.98, \"group_avg\": 39237.94054545455, \"total_avg\": 38475.476652314326, \"square_diff\": 13693725.026232902}, {\"event\": \"cobranding\", \"revenue\": 12356.14, \"group_avg\": 38288.11901595745, \"total_avg\": 38475.476652314326, \"square_diff\": 682219747.1569306}, {\"event\": \"special\", \"revenue\": 30542.97, \"group_avg\": 39237.94054545455, \"total_avg\": 38475.476652314326, \"square_diff\": 62924661.78901102}, {\"event\": \"non_event\", \"revenue\": 60993.85, \"group_avg\": 38029.0543956044, \"total_avg\": 38475.476652314326, \"square_diff\": 507077138.22576046}, {\"event\": \"cobranding\", \"revenue\": 37234.97, \"group_avg\": 38288.11901595745, \"total_avg\": 38475.476652314326, \"square_diff\": 1538856.7544360936}, {\"event\": \"non_event\", \"revenue\": 40753.19, \"group_avg\": 38029.0543956044, \"total_avg\": 38475.476652314326, \"square_diff\": 5187978.09422549}, {\"event\": \"special\", \"revenue\": 29030.29, \"group_avg\": 39237.94054545455, \"total_avg\": 38475.476652314326, \"square_diff\": 89211550.8970567}, {\"event\": \"cobranding\", \"revenue\": 23068.01, \"group_avg\": 38288.11901595745, \"total_avg\": 38475.476652314326, \"square_diff\": 237390028.6421781}, {\"event\": \"cobranding\", \"revenue\": 16730.12, \"group_avg\": 38288.11901595745, \"total_avg\": 38475.476652314326, \"square_diff\": 472860535.93635094}, {\"event\": \"cobranding\", \"revenue\": 49554.93, \"group_avg\": 38288.11901595745, \"total_avg\": 38475.476652314326, \"square_diff\": 122754286.48354329}, {\"event\": \"non_event\", \"revenue\": 32096.89, \"group_avg\": 38029.0543956044, \"total_avg\": 38475.476652314326, \"square_diff\": 40686367.68108249}, {\"event\": \"special\", \"revenue\": 28518.4, \"group_avg\": 39237.94054545455, \"total_avg\": 38475.476652314326, \"square_diff\": 99143375.46006304}, {\"event\": \"cobranding\", \"revenue\": 60646.45, \"group_avg\": 38288.11901595745, \"total_avg\": 38475.476652314326, \"square_diff\": 491552059.18378836}, {\"event\": \"special\", \"revenue\": 50945.71, \"group_avg\": 39237.94054545455, \"total_avg\": 38475.476652314326, \"square_diff\": 155506719.74573183}, {\"event\": \"cobranding\", \"revenue\": 30035.07, \"group_avg\": 38288.11901595745, \"total_avg\": 38475.476652314326, \"square_diff\": 71240464.45643194}, {\"event\": \"cobranding\", \"revenue\": 30192.95, \"group_avg\": 38288.11901595745, \"total_avg\": 38475.476652314326, \"square_diff\": 68600247.74629715}, {\"event\": \"cobranding\", \"revenue\": 40029.35, \"group_avg\": 38288.11901595745, \"total_avg\": 38475.476652314326, \"square_diff\": 2414522.380647878}, {\"event\": \"special\", \"revenue\": 38006.08, \"group_avg\": 39237.94054545455, \"total_avg\": 38475.476652314326, \"square_diff\": 220333.2172038948}, {\"event\": \"cobranding\", \"revenue\": 47149.54, \"group_avg\": 38288.11901595745, \"total_avg\": 38475.476652314326, \"square_diff\": 75239374.95966402}, {\"event\": \"cobranding\", \"revenue\": 24375.44, \"group_avg\": 38288.11901595745, \"total_avg\": 38475.476652314326, \"square_diff\": 198811033.59660742}, {\"event\": \"cobranding\", \"revenue\": 29542.01, \"group_avg\": 38288.11901595745, \"total_avg\": 38475.476652314326, \"square_diff\": 79806826.42801216}, {\"event\": \"special\", \"revenue\": 27253.28, \"group_avg\": 39237.94054545455, \"total_avg\": 38475.476652314326, \"square_diff\": 125937697.7032149}, {\"event\": \"cobranding\", \"revenue\": 38574.12, \"group_avg\": 38288.11901595745, \"total_avg\": 38475.476652314326, \"square_diff\": 9730.510042637243}, {\"event\": \"non_event\", \"revenue\": 23952.95, \"group_avg\": 38029.0543956044, \"total_avg\": 38475.476652314326, \"square_diff\": 210903780.36717993}, {\"event\": \"non_event\", \"revenue\": 36053.21, \"group_avg\": 38029.0543956044, \"total_avg\": 38475.476652314326, \"square_diff\": 5867375.734914057}, {\"event\": \"special\", \"revenue\": 37642.47, \"group_avg\": 39237.94054545455, \"total_avg\": 38475.476652314326, \"square_diff\": 693900.0827999188}, {\"event\": \"cobranding\", \"revenue\": 53594.11, \"group_avg\": 38288.11901595745, \"total_avg\": 38475.476652314326, \"square_diff\": 228573074.30175334}, {\"event\": \"cobranding\", \"revenue\": 43373.06, \"group_avg\": 38288.11901595745, \"total_avg\": 38475.476652314326, \"square_diff\": 23986322.64752799}, {\"event\": \"non_event\", \"revenue\": 56566.28, \"group_avg\": 38029.0543956044, \"total_avg\": 38475.476652314326, \"square_diff\": 327277165.76463515}, {\"event\": \"special\", \"revenue\": 42194.96, \"group_avg\": 39237.94054545455, \"total_avg\": 38475.476652314326, \"square_diff\": 13834556.37371102}, {\"event\": \"special\", \"revenue\": 46763.4, \"group_avg\": 39237.94054545455, \"total_avg\": 38475.476652314326, \"square_diff\": 68689673.41711333}, {\"event\": \"holiday\", \"revenue\": 33174.25, \"group_avg\": 37871.49489583333, \"total_avg\": 38475.476652314326, \"square_diff\": 28103004.019207757}, {\"event\": \"cobranding\", \"revenue\": 45259.21, \"group_avg\": 38288.11901595745, \"total_avg\": 38475.476652314326, \"square_diff\": 46019038.13250267}, {\"event\": \"cobranding\", \"revenue\": 32610.97, \"group_avg\": 38288.11901595745, \"total_avg\": 38475.476652314326, \"square_diff\": 34392438.27503897}, {\"event\": \"special\", \"revenue\": 45808.03, \"group_avg\": 39237.94054545455, \"total_avg\": 38475.476652314326, \"square_diff\": 53766338.59665637}, {\"event\": \"non_event\", \"revenue\": 38655.51, \"group_avg\": 38029.0543956044, \"total_avg\": 38475.476652314326, \"square_diff\": 32412.00627891144}, {\"event\": \"special\", \"revenue\": 26738.7, \"group_avg\": 39237.94054545455, \"total_avg\": 38475.476652314326, \"square_diff\": 137751926.18631068}, {\"event\": \"non_event\", \"revenue\": 39676.18, \"group_avg\": 38029.0543956044, \"total_avg\": 38475.476652314326, \"square_diff\": 1441688.5291435847}, {\"event\": \"cobranding\", \"revenue\": 35875.91, \"group_avg\": 38288.11901595745, \"total_avg\": 38475.476652314326, \"square_diff\": 6757746.779824695}, {\"event\": \"non_event\", \"revenue\": 36451.59, \"group_avg\": 38029.0543956044, \"total_avg\": 38475.476652314326, \"square_diff\": 4096117.1814161045}, {\"event\": \"special\", \"revenue\": 29339.32, \"group_avg\": 39237.94054545455, \"total_avg\": 38475.476652314326, \"square_diff\": 83469358.37562732}, {\"event\": \"cobranding\", \"revenue\": 34897.7, \"group_avg\": 38288.11901595745, \"total_avg\": 38475.476652314326, \"square_diff\": 12800485.773845527}, {\"event\": \"cobranding\", \"revenue\": 31801.55, \"group_avg\": 38288.11901595745, \"total_avg\": 38475.476652314326, \"square_diff\": 44541296.96047152}, {\"event\": \"holiday\", \"revenue\": 44659.15, \"group_avg\": 37871.49489583333, \"total_avg\": 38475.476652314326, \"square_diff\": 38237816.07087816}, {\"event\": \"non_event\", \"revenue\": 34102.6, \"group_avg\": 38029.0543956044, \"total_avg\": 38475.476652314326, \"square_diff\": 19122050.21635576}, {\"event\": \"cobranding\", \"revenue\": 40034.07, \"group_avg\": 38288.11901595745, \"total_avg\": 38475.476652314326, \"square_diff\": 2429213.223450035}, {\"event\": \"non_event\", \"revenue\": 22763.7, \"group_avg\": 38029.0543956044, \"total_avg\": 38475.476652314326, \"square_diff\": 246859925.57220957}, {\"event\": \"cobranding\", \"revenue\": 32081.81, \"group_avg\": 38288.11901595745, \"total_avg\": 38475.476652314326, \"square_diff\": 40878973.26091626}, {\"event\": \"non_event\", \"revenue\": 30409.71, \"group_avg\": 38029.0543956044, \"total_avg\": 38475.476652314326, \"square_diff\": 65056591.689585865}, {\"event\": \"cobranding\", \"revenue\": 63154.48, \"group_avg\": 38288.11901595745, \"total_avg\": 38475.476652314326, \"square_diff\": 609053206.2350808}, {\"event\": \"special\", \"revenue\": 35154.61, \"group_avg\": 39237.94054545455, \"total_avg\": 38475.476652314326, \"square_diff\": 11028155.322453355}, {\"event\": \"special\", \"revenue\": 45644.43, \"group_avg\": 39237.94054545455, \"total_avg\": 38475.476652314326, \"square_diff\": 51393892.10129363}, {\"event\": \"holiday\", \"revenue\": 30223.6, \"group_avg\": 37871.49489583333, \"total_avg\": 38475.476652314326, \"square_diff\": 68093468.28501031}, {\"event\": \"holiday\", \"revenue\": 34167.09, \"group_avg\": 37871.49489583333, \"total_avg\": 38475.476652314326, \"square_diff\": 18562195.54584028}, {\"event\": \"non_event\", \"revenue\": 57329.53, \"group_avg\": 38029.0543956044, \"total_avg\": 38475.476652314326, \"square_diff\": 355475327.6373773}, {\"event\": \"cobranding\", \"revenue\": 37069.81, \"group_avg\": 38288.11901595745, \"total_avg\": 38475.476652314326, \"square_diff\": 1975898.7374285713}, {\"event\": \"holiday\", \"revenue\": 58434.47, \"group_avg\": 37871.49489583333, \"total_avg\": 38475.476652314326, \"square_diff\": 398361415.452961}, {\"event\": \"cobranding\", \"revenue\": 14850.56, \"group_avg\": 38288.11901595745, \"total_avg\": 38475.476652314326, \"square_diff\": 558136686.8287989}, {\"event\": \"cobranding\", \"revenue\": 44080.31, \"group_avg\": 38288.11901595745, \"total_avg\": 38475.476652314326, \"square_diff\": 31414156.855329372}, {\"event\": \"cobranding\", \"revenue\": 41375.83, \"group_avg\": 38288.11901595745, \"total_avg\": 38475.476652314326, \"square_diff\": 8412049.541431505}, {\"event\": \"non_event\", \"revenue\": 22364.68, \"group_avg\": 38029.0543956044, \"total_avg\": 38475.476652314326, \"square_diff\": 259557768.7722225}, {\"event\": \"non_event\", \"revenue\": 40764.64, \"group_avg\": 38029.0543956044, \"total_avg\": 38475.476652314326, \"square_diff\": 5240268.832387478}, {\"event\": \"cobranding\", \"revenue\": 51647.22, \"group_avg\": 38288.11901595745, \"total_avg\": 38475.476652314326, \"square_diff\": 173494822.81730184}, {\"event\": \"cobranding\", \"revenue\": 37060.19, \"group_avg\": 38288.11901595745, \"total_avg\": 38475.476652314326, \"square_diff\": 2003036.308219086}, {\"event\": \"non_event\", \"revenue\": 50091.4, \"group_avg\": 38029.0543956044, \"total_avg\": 38475.476652314326, \"square_diff\": 134929675.21930918}, {\"event\": \"cobranding\", \"revenue\": 56622.0, \"group_avg\": 38288.11901595745, \"total_avg\": 38475.476652314326, \"square_diff\": 329296309.60810125}, {\"event\": \"cobranding\", \"revenue\": 16781.84, \"group_avg\": 38288.11901595745, \"total_avg\": 38475.476652314326, \"square_diff\": 470613871.2026355}, {\"event\": \"cobranding\", \"revenue\": 26967.87, \"group_avg\": 38288.11901595745, \"total_avg\": 38475.476652314326, \"square_diff\": 132425010.86438896}, {\"event\": \"special\", \"revenue\": 18959.71, \"group_avg\": 39237.94054545455, \"total_avg\": 38475.476652314326, \"square_diff\": 380865148.02758396}, {\"event\": \"special\", \"revenue\": 61484.08, \"group_avg\": 39237.94054545455, \"total_avg\": 38475.476652314326, \"square_diff\": 529395828.0111325}, {\"event\": \"special\", \"revenue\": 29803.96, \"group_avg\": 39237.94054545455, \"total_avg\": 38475.476652314326, \"square_diff\": 75195201.05136468}, {\"event\": \"special\", \"revenue\": 43160.98, \"group_avg\": 39237.94054545455, \"total_avg\": 38475.476652314326, \"square_diff\": 21953941.621173687}, {\"event\": \"holiday\", \"revenue\": 26519.6, \"group_avg\": 37871.49489583333, \"total_avg\": 38475.476652314326, \"square_diff\": 142942986.52535486}, {\"event\": \"cobranding\", \"revenue\": 32105.42, \"group_avg\": 38288.11901595745, \"total_avg\": 38475.476652314326, \"square_diff\": 40577621.75369402}, {\"event\": \"cobranding\", \"revenue\": 40243.88, \"group_avg\": 38288.11901595745, \"total_avg\": 38475.476652314326, \"square_diff\": 3127250.400105889}, {\"event\": \"special\", \"revenue\": 30327.08, \"group_avg\": 39237.94054545455, \"total_avg\": 38475.476652314326, \"square_diff\": 66396368.00344729}, {\"event\": \"special\", \"revenue\": 42768.9, \"group_avg\": 39237.94054545455, \"total_avg\": 38475.476652314326, \"square_diff\": 18433484.04245247}, {\"event\": \"holiday\", \"revenue\": 29872.02, \"group_avg\": 37871.49489583333, \"total_avg\": 38475.476652314326, \"square_diff\": 74019466.36825162}, {\"event\": \"cobranding\", \"revenue\": 19404.29, \"group_avg\": 38288.11901595745, \"total_avg\": 38475.476652314326, \"square_diff\": 363710160.32741207}, {\"event\": \"non_event\", \"revenue\": 39095.28, \"group_avg\": 38029.0543956044, \"total_avg\": 38475.476652314326, \"square_diff\": 384156.1898023668}, {\"event\": \"non_event\", \"revenue\": 25921.12, \"group_avg\": 38029.0543956044, \"total_avg\": 38475.476652314326, \"square_diff\": 157611870.953509}, {\"event\": \"cobranding\", \"revenue\": 43452.96, \"group_avg\": 38288.11901595745, \"total_avg\": 38475.476652314326, \"square_diff\": 24775340.476488173}, {\"event\": \"non_event\", \"revenue\": 29427.53, \"group_avg\": 38029.0543956044, \"total_avg\": 38475.476652314326, \"square_diff\": 81865338.62312604}, {\"event\": \"cobranding\", \"revenue\": 44539.87, \"group_avg\": 38288.11901595745, \"total_avg\": 38475.476652314326, \"square_diff\": 36776866.67545429}, {\"event\": \"non_event\", \"revenue\": 30262.56, \"group_avg\": 38029.0543956044, \"total_avg\": 38475.476652314326, \"square_diff\": 67451999.93786193}, {\"event\": \"cobranding\", \"revenue\": 50268.85, \"group_avg\": 38288.11901595745, \"total_avg\": 38475.476652314326, \"square_diff\": 139083654.91790277}, {\"event\": \"non_event\", \"revenue\": 40099.21, \"group_avg\": 38029.0543956044, \"total_avg\": 38475.476652314326, \"square_diff\": 2636509.9843865223}, {\"event\": \"non_event\", \"revenue\": 28817.49, \"group_avg\": 38029.0543956044, \"total_avg\": 38475.476652314326, \"square_diff\": 93276706.17628166}, {\"event\": \"special\", \"revenue\": 37867.16, \"group_avg\": 39237.94054545455, \"total_avg\": 38475.476652314326, \"square_diff\": 370049.1494829046}, {\"event\": \"cobranding\", \"revenue\": 47201.37, \"group_avg\": 38288.11901595745, \"total_avg\": 38475.476652314326, \"square_diff\": 76141214.71518514}, {\"event\": \"special\", \"revenue\": 48320.2, \"group_avg\": 39237.94054545455, \"total_avg\": 38475.476652314326, \"square_diff\": 96918577.79246736}, {\"event\": \"cobranding\", \"revenue\": 30735.7, \"group_avg\": 38288.11901595745, \"total_avg\": 38475.476652314326, \"square_diff\": 59904142.62770995}, {\"event\": \"non_event\", \"revenue\": 33777.92, \"group_avg\": 38029.0543956044, \"total_avg\": 38475.476652314326, \"square_diff\": 22067038.501702596}, {\"event\": \"special\", \"revenue\": 44359.5, \"group_avg\": 39237.94054545455, \"total_avg\": 38475.476652314326, \"square_diff\": 34621730.756110124}, {\"event\": \"non_event\", \"revenue\": 34085.51, \"group_avg\": 38029.0543956044, \"total_avg\": 38475.476652314326, \"square_diff\": 19271807.208431832}, {\"event\": \"cobranding\", \"revenue\": 43829.56, \"group_avg\": 38288.11901595745, \"total_avg\": 38475.476652314326, \"square_diff\": 28666208.493965007}, {\"event\": \"cobranding\", \"revenue\": 48370.64, \"group_avg\": 38288.11901595745, \"total_avg\": 38475.476652314326, \"square_diff\": 97914257.67738193}, {\"event\": \"special\", \"revenue\": 41524.22, \"group_avg\": 39237.94054545455, \"total_avg\": 38475.476652314326, \"square_diff\": 9294836.000057656}, {\"event\": \"cobranding\", \"revenue\": 29836.81, \"group_avg\": 38288.11901595745, \"total_avg\": 38475.476652314326, \"square_diff\": 74626561.52980758}, {\"event\": \"non_event\", \"revenue\": 52057.54, \"group_avg\": 38029.0543956044, \"total_avg\": 38475.476652314326, \"square_diff\": 184472444.7805466}, {\"event\": \"cobranding\", \"revenue\": 20234.52, \"group_avg\": 38288.11901595745, \"total_avg\": 38475.476652314326, \"square_diff\": 332732499.59161025}, {\"event\": \"holiday\", \"revenue\": 53600.4, \"group_avg\": 37871.49489583333, \"total_avg\": 38475.476652314326, \"square_diff\": 228763306.27336726}, {\"event\": \"holiday\", \"revenue\": 23947.23, \"group_avg\": 37871.49489583333, \"total_avg\": 38475.476652314326, \"square_diff\": 211069950.79048243}, {\"event\": \"special\", \"revenue\": 40483.07, \"group_avg\": 39237.94054545455, \"total_avg\": 38475.476652314326, \"square_diff\": 4030431.0496717696}, {\"event\": \"cobranding\", \"revenue\": 43713.71, \"group_avg\": 38288.11901595745, \"total_avg\": 38475.476652314326, \"square_diff\": 27439088.60480625}, {\"event\": \"special\", \"revenue\": 60415.35, \"group_avg\": 39237.94054545455, \"total_avg\": 38475.476652314326, \"square_diff\": 481358042.5124881}, {\"event\": \"holiday\", \"revenue\": 27880.27, \"group_avg\": 37871.49489583333, \"total_avg\": 38475.476652314326, \"square_diff\": 112258404.00524575}, {\"event\": \"special\", \"revenue\": 16637.63, \"group_avg\": 39237.94054545455, \"total_avg\": 38475.476652314326, \"square_diff\": 476891546.409996}, {\"event\": \"cobranding\", \"revenue\": 24124.83, \"group_avg\": 38288.11901595745, \"total_avg\": 38475.476652314326, \"square_diff\": 205941059.33958033}, {\"event\": \"cobranding\", \"revenue\": 42259.4, \"group_avg\": 38288.11901595745, \"total_avg\": 38475.476652314326, \"square_diff\": 14318075.901160767}, {\"event\": \"special\", \"revenue\": 31352.42, \"group_avg\": 39237.94054545455, \"total_avg\": 38475.476652314326, \"square_diff\": 50737936.0720794}, {\"event\": \"cobranding\", \"revenue\": 41518.59, \"group_avg\": 38288.11901595745, \"total_avg\": 38475.476652314326, \"square_diff\": 9260538.846862687}, {\"event\": \"special\", \"revenue\": 45720.5, \"group_avg\": 39237.94054545455, \"total_avg\": 38475.476652314326, \"square_diff\": 52490363.30851053}, {\"event\": \"holiday\", \"revenue\": 54664.36, \"group_avg\": 37871.49489583333, \"total_avg\": 38475.476652314326, \"square_diff\": 262079944.04497454}, {\"event\": \"special\", \"revenue\": 45826.52, \"group_avg\": 39237.94054545455, \"total_avg\": 38475.476652314326, \"square_diff\": 54037838.29955375}, {\"event\": \"non_event\", \"revenue\": 6874.43, \"group_avg\": 38029.0543956044, \"total_avg\": 38475.476652314326, \"square_diff\": 998626149.5217465}, {\"event\": \"cobranding\", \"revenue\": 31357.78, \"group_avg\": 38288.11901595745, \"total_avg\": 38475.476652314326, \"square_diff\": 50661605.63436658}, {\"event\": \"cobranding\", \"revenue\": 39824.02, \"group_avg\": 38288.11901595745, \"total_avg\": 38475.476652314326, \"square_diff\": 1818569.1605872754}, {\"event\": \"special\", \"revenue\": 41318.22, \"group_avg\": 39237.94054545455, \"total_avg\": 38475.476652314326, \"square_diff\": 8081189.740811158}, {\"event\": \"cobranding\", \"revenue\": 39395.97, \"group_avg\": 38288.11901595745, \"total_avg\": 38475.476652314326, \"square_diff\": 847308.0031335809}, {\"event\": \"holiday\", \"revenue\": 43885.88, \"group_avg\": 37871.49489583333, \"total_avg\": 38475.476652314326, \"square_diff\": 29272464.38464832}, {\"event\": \"cobranding\", \"revenue\": 50357.87, \"group_avg\": 38288.11901595745, \"total_avg\": 38475.476652314326, \"square_diff\": 141191271.6691248}, {\"event\": \"special\", \"revenue\": 45615.94, \"group_avg\": 39237.94054545455, \"total_avg\": 38475.476652314326, \"square_diff\": 50986216.81964254}, {\"event\": \"special\", \"revenue\": 47992.69, \"group_avg\": 39237.94054545455, \"total_avg\": 38475.476652314326, \"square_diff\": 90577349.90536639}, {\"event\": \"cobranding\", \"revenue\": 30364.97, \"group_avg\": 38288.11901595745, \"total_avg\": 38475.476652314326, \"square_diff\": 65780318.15723492}, {\"event\": \"cobranding\", \"revenue\": 37920.28, \"group_avg\": 38288.11901595745, \"total_avg\": 38475.476652314326, \"square_diff\": 308243.3227410361}, {\"event\": \"holiday\", \"revenue\": 47633.19, \"group_avg\": 37871.49489583333, \"total_avg\": 38475.476652314326, \"square_diff\": 83863713.7583804}, {\"event\": \"non_event\", \"revenue\": 45467.61, \"group_avg\": 38029.0543956044, \"total_avg\": 38475.476652314326, \"square_diff\": 48889928.751818076}, {\"event\": \"cobranding\", \"revenue\": 23067.02, \"group_avg\": 38288.11901595745, \"total_avg\": 38475.476652314326, \"square_diff\": 237420536.4062496}, {\"event\": \"cobranding\", \"revenue\": 74564.29, \"group_avg\": 38288.11901595745, \"total_avg\": 38475.476652314326, \"square_diff\": 1302402448.8440952}, {\"event\": \"non_event\", \"revenue\": 41626.79, \"group_avg\": 38029.0543956044, \"total_avg\": 38475.476652314326, \"square_diff\": 9930775.815301893}, {\"event\": \"special\", \"revenue\": 40252.7, \"group_avg\": 39237.94054545455, \"total_avg\": 38475.476652314326, \"square_diff\": 3158522.827559063}, {\"event\": \"cobranding\", \"revenue\": 37927.93, \"group_avg\": 38288.11901595745, \"total_avg\": 38475.476652314326, \"square_diff\": 299807.3364606253}, {\"event\": \"cobranding\", \"revenue\": 45789.14, \"group_avg\": 38288.11901595745, \"total_avg\": 38475.476652314326, \"square_diff\": 53489671.563280806}, {\"event\": \"special\", \"revenue\": 32627.5, \"group_avg\": 39237.94054545455, \"total_avg\": 38475.476652314326, \"square_diff\": 34198830.92601348}, {\"event\": \"cobranding\", \"revenue\": 47998.39, \"group_avg\": 38288.11901595745, \"total_avg\": 38475.476652314326, \"square_diff\": 90685878.62752995}, {\"event\": \"cobranding\", \"revenue\": 44898.68, \"group_avg\": 38288.11901595745, \"total_avg\": 38475.476652314326, \"square_diff\": 41257541.24572045}, {\"event\": \"cobranding\", \"revenue\": 50404.82, \"group_avg\": 38288.11901595745, \"total_avg\": 38475.476652314326, \"square_diff\": 142309232.70697242}, {\"event\": \"cobranding\", \"revenue\": 37663.28, \"group_avg\": 38288.11901595745, \"total_avg\": 38475.476652314326, \"square_diff\": 659663.4020306004}, {\"event\": \"cobranding\", \"revenue\": 33629.74, \"group_avg\": 38288.11901595745, \"total_avg\": 38475.476652314326, \"square_diff\": 23481163.703582473}, {\"event\": \"special\", \"revenue\": 39776.62, \"group_avg\": 39237.94054545455, \"total_avg\": 38475.476652314326, \"square_diff\": 1692974.011226689}, {\"event\": \"cobranding\", \"revenue\": 46689.11, \"group_avg\": 38288.11901595745, \"total_avg\": 38475.476652314326, \"square_diff\": 67463772.77021419}, {\"event\": \"holiday\", \"revenue\": 39749.84, \"group_avg\": 37871.49489583333, \"total_avg\": 38475.476652314326, \"square_diff\": 1624001.9419246286}, {\"event\": \"cobranding\", \"revenue\": 61443.7, \"group_avg\": 38288.11901595745, \"total_avg\": 38475.476652314326, \"square_diff\": 527539283.74917316}, {\"event\": \"cobranding\", \"revenue\": 43026.99, \"group_avg\": 38288.11901595745, \"total_avg\": 38475.476652314326, \"square_diff\": 20716273.75416083}, {\"event\": \"non_event\", \"revenue\": 42231.68, \"group_avg\": 38029.0543956044, \"total_avg\": 38475.476652314326, \"square_diff\": 14109063.589165065}, {\"event\": \"cobranding\", \"revenue\": 31513.91, \"group_avg\": 38288.11901595745, \"total_avg\": 38475.476652314326, \"square_diff\": 48463410.2546149}, {\"event\": \"special\", \"revenue\": 49741.26, \"group_avg\": 39237.94054545455, \"total_avg\": 38475.476652314326, \"square_diff\": 126917874.43699187}, {\"event\": \"holiday\", \"revenue\": 49033.78, \"group_avg\": 37871.49489583333, \"total_avg\": 38475.476652314326, \"square_diff\": 111477769.58175048}, {\"event\": \"cobranding\", \"revenue\": 15010.45, \"group_avg\": 38288.11901595745, \"total_avg\": 38475.476652314326, \"square_diff\": 550607475.7938217}, {\"event\": \"non_event\", \"revenue\": 14999.06, \"group_avg\": 38029.0543956044, \"total_avg\": 38475.476652314326, \"square_diff\": 551142138.8330615}, {\"event\": \"cobranding\", \"revenue\": 37833.61, \"group_avg\": 38288.11901595745, \"total_avg\": 38475.476652314326, \"square_diff\": 411992.79935319937}, {\"event\": \"special\", \"revenue\": 33690.49, \"group_avg\": 39237.94054545455, \"total_avg\": 38475.476652314326, \"square_diff\": 22896097.262826283}, {\"event\": \"special\", \"revenue\": 25322.02, \"group_avg\": 39237.94054545455, \"total_avg\": 38475.476652314326, \"square_diff\": 173013421.90431198}, {\"event\": \"special\", \"revenue\": 43929.09, \"group_avg\": 39237.94054545455, \"total_avg\": 38475.476652314326, \"square_diff\": 29741898.546055302}, {\"event\": \"cobranding\", \"revenue\": 59823.3, \"group_avg\": 38288.11901595745, \"total_avg\": 38475.476652314326, \"square_diff\": 455729561.6839937}, {\"event\": \"cobranding\", \"revenue\": 49113.04, \"group_avg\": 38288.11901595745, \"total_avg\": 38475.476652314326, \"square_diff\": 113157753.97602566}, {\"event\": \"cobranding\", \"revenue\": 45643.54, \"group_avg\": 38288.11901595745, \"total_avg\": 38475.476652314326, \"square_diff\": 51381132.15643476}, {\"event\": \"cobranding\", \"revenue\": 26520.81, \"group_avg\": 38288.11901595745, \"total_avg\": 38475.476652314326, \"square_diff\": 142914054.7679562}, {\"event\": \"special\", \"revenue\": 43860.38, \"group_avg\": 39237.94054545455, \"total_avg\": 38475.476652314326, \"square_diff\": 28997184.063916348}, {\"event\": \"non_event\", \"revenue\": 29118.85, \"group_avg\": 38029.0543956044, \"total_avg\": 38475.476652314326, \"square_diff\": 87546462.31079882}, {\"event\": \"cobranding\", \"revenue\": 41679.06, \"group_avg\": 38288.11901595745, \"total_avg\": 38475.476652314326, \"square_diff\": 10262946.265568934}, {\"event\": \"cobranding\", \"revenue\": 50408.44, \"group_avg\": 38288.11901595745, \"total_avg\": 38475.476652314326, \"square_diff\": 142395614.25720975}, {\"event\": \"special\", \"revenue\": 55132.93, \"group_avg\": 39237.94054545455, \"total_avg\": 38475.476652314326, \"square_diff\": 277470752.0303247}, {\"event\": \"cobranding\", \"revenue\": 35593.3, \"group_avg\": 38288.11901595745, \"total_avg\": 38475.476652314326, \"square_diff\": 8306942.255145799}, {\"event\": \"cobranding\", \"revenue\": 39637.38, \"group_avg\": 38288.11901595745, \"total_avg\": 38475.476652314326, \"square_diff\": 1350019.3893631697}, {\"event\": \"cobranding\", \"revenue\": 28903.01, \"group_avg\": 38288.11901595745, \"total_avg\": 38475.476652314326, \"square_diff\": 91632117.80966987}, {\"event\": \"non_event\", \"revenue\": 39544.58, \"group_avg\": 38029.0543956044, \"total_avg\": 38475.476652314326, \"square_diff\": 1142981.9680327184}, {\"event\": \"cobranding\", \"revenue\": 31262.79, \"group_avg\": 38288.11901595745, \"total_avg\": 38475.476652314326, \"square_diff\": 52022848.74447323}, {\"event\": \"non_event\", \"revenue\": 36432.88, \"group_avg\": 38029.0543956044, \"total_avg\": 38475.476652314326, \"square_diff\": 4172201.084045703}, {\"event\": \"special\", \"revenue\": 65351.28, \"group_avg\": 39237.94054545455, \"total_avg\": 38475.476652314326, \"square_diff\": 722308805.5834724}, {\"event\": \"non_event\", \"revenue\": 50905.39, \"group_avg\": 38029.0543956044, \"total_avg\": 38475.476652314326, \"square_diff\": 154502745.83097446}, {\"event\": \"special\", \"revenue\": 39342.86, \"group_avg\": 39237.94054545455, \"total_avg\": 38475.476652314326, \"square_diff\": 752353.8718424075}, {\"event\": \"cobranding\", \"revenue\": 39887.67, \"group_avg\": 38288.11901595745, \"total_avg\": 38475.476652314326, \"square_diff\": 1994290.0512476654}, {\"event\": \"non_event\", \"revenue\": 36925.1, \"group_avg\": 38029.0543956044, \"total_avg\": 38475.476652314326, \"square_diff\": 2403667.7640413814}, {\"event\": \"special\", \"revenue\": 70094.92, \"group_avg\": 39237.94054545455, \"total_avg\": 38475.476652314326, \"square_diff\": 999789197.6175036}, {\"event\": \"cobranding\", \"revenue\": 22980.15, \"group_avg\": 38288.11901595745, \"total_avg\": 38475.476652314326, \"square_diff\": 240105148.06192267}, {\"event\": \"special\", \"revenue\": 28534.98, \"group_avg\": 39237.94054545455, \"total_avg\": 38475.476652314326, \"square_diff\": 98813473.69467233}, {\"event\": \"cobranding\", \"revenue\": 51394.2, \"group_avg\": 38288.11901595745, \"total_avg\": 38475.476652314326, \"square_diff\": 166893412.93403888}, {\"event\": \"special\", \"revenue\": 24525.42, \"group_avg\": 39237.94054545455, \"total_avg\": 38475.476652314326, \"square_diff\": 194604080.60277924}, {\"event\": \"non_event\", \"revenue\": 45099.53, \"group_avg\": 38029.0543956044, \"total_avg\": 38475.476652314326, \"square_diff\": 43878082.75298577}, {\"event\": \"non_event\", \"revenue\": 49347.14, \"group_avg\": 38029.0543956044, \"total_avg\": 38475.476652314326, \"square_diff\": 118193063.94541205}, {\"event\": \"cobranding\", \"revenue\": 48697.84, \"group_avg\": 38288.11901595745, \"total_avg\": 38475.476652314326, \"square_diff\": 104496712.41210738}, {\"event\": \"special\", \"revenue\": 38075.18, \"group_avg\": 39237.94054545455, \"total_avg\": 38475.476652314326, \"square_diff\": 160237.4098540563}, {\"event\": \"special\", \"revenue\": 43128.95, \"group_avg\": 39237.94054545455, \"total_avg\": 38475.476652314326, \"square_diff\": 21654814.197620884}, {\"event\": \"holiday\", \"revenue\": 31287.92, \"group_avg\": 37871.49489583333, \"total_avg\": 38475.476652314326, \"square_diff\": 51660970.630227946}, {\"event\": \"special\", \"revenue\": 40837.97, \"group_avg\": 39237.94054545455, \"total_avg\": 38475.476652314326, \"square_diff\": 5581374.817859068}, {\"event\": \"cobranding\", \"revenue\": 35535.46, \"group_avg\": 38288.11901595745, \"total_avg\": 38475.476652314326, \"square_diff\": 8643697.915885543}, {\"event\": \"special\", \"revenue\": 39553.46, \"group_avg\": 39237.94054545455, \"total_avg\": 38475.476652314326, \"square_diff\": 1162048.0978876103}, {\"event\": \"non_event\", \"revenue\": 21291.17, \"group_avg\": 38029.0543956044, \"total_avg\": 38475.476652314326, \"square_diff\": 295300395.12077445}, {\"event\": \"special\", \"revenue\": 37843.97, \"group_avg\": 39237.94054545455, \"total_avg\": 38475.476652314326, \"square_diff\": 398800.6519172458}, {\"event\": \"holiday\", \"revenue\": 24551.16, \"group_avg\": 37871.49489583333, \"total_avg\": 38475.476652314326, \"square_diff\": 193886594.23391804}, {\"event\": \"special\", \"revenue\": 35916.74, \"group_avg\": 39237.94054545455, \"total_avg\": 38475.476652314326, \"square_diff\": 6547133.255896736}, {\"event\": \"holiday\", \"revenue\": 32931.66, \"group_avg\": 37871.49489583333, \"total_avg\": 38475.476652314326, \"square_diff\": 30733903.074477583}, {\"event\": \"holiday\", \"revenue\": 31178.0, \"group_avg\": 37871.49489583333, \"total_avg\": 38475.476652314326, \"square_diff\": 53253165.49107271}, {\"event\": \"cobranding\", \"revenue\": 23322.52, \"group_avg\": 38288.11901595745, \"total_avg\": 38475.476652314326, \"square_diff\": 229612095.30691698}, {\"event\": \"non_event\", \"revenue\": 47279.62, \"group_avg\": 38029.0543956044, \"total_avg\": 38475.476652314326, \"square_diff\": 77512940.08659795}, {\"event\": \"cobranding\", \"revenue\": 38377.32, \"group_avg\": 38288.11901595745, \"total_avg\": 38475.476652314326, \"square_diff\": 9634.728393555577}, {\"event\": \"holiday\", \"revenue\": 41151.9, \"group_avg\": 37871.49489583333, \"total_avg\": 38475.476652314326, \"square_diff\": 7163241.936036997}, {\"event\": \"special\", \"revenue\": 32962.66, \"group_avg\": 39237.94054545455, \"total_avg\": 38475.476652314326, \"square_diff\": 30391147.442034096}, {\"event\": \"holiday\", \"revenue\": 25812.36, \"group_avg\": 37871.49489583333, \"total_avg\": 38475.476652314326, \"square_diff\": 160354523.35012037}, {\"event\": \"cobranding\", \"revenue\": 37942.2, \"group_avg\": 38288.11901595745, \"total_avg\": 38475.476652314326, \"square_diff\": 284383.98790357786}, {\"event\": \"special\", \"revenue\": 34154.48, \"group_avg\": 39237.94054545455, \"total_avg\": 38475.476652314326, \"square_diff\": 18671012.069311585}, {\"event\": \"holiday\", \"revenue\": 38628.37, \"group_avg\": 37871.49489583333, \"total_avg\": 38475.476652314326, \"square_diff\": 23376.375766533136}, {\"event\": \"special\", \"revenue\": 64044.91, \"group_avg\": 39237.94054545455, \"total_avg\": 38475.476652314326, \"square_diff\": 653795921.7217404}, {\"event\": \"non_event\", \"revenue\": 25316.93, \"group_avg\": 38029.0543956044, \"total_avg\": 38475.476652314326, \"square_diff\": 173147350.00113255}, {\"event\": \"cobranding\", \"revenue\": 10321.22, \"group_avg\": 38288.11901595745, \"total_avg\": 38475.476652314326, \"square_diff\": 792662167.6443855}, {\"event\": \"non_event\", \"revenue\": 43560.74, \"group_avg\": 38029.0543956044, \"total_avg\": 38475.476652314326, \"square_diff\": 25859903.315315284}, {\"event\": \"holiday\", \"revenue\": 40076.97, \"group_avg\": 37871.49489583333, \"total_avg\": 38475.476652314326, \"square_diff\": 2564780.9426814704}, {\"event\": \"holiday\", \"revenue\": 55586.85, \"group_avg\": 37871.49489583333, \"total_avg\": 38475.476652314326, \"square_diff\": 292799097.84388757}, {\"event\": \"special\", \"revenue\": 17468.82, \"group_avg\": 39237.94054545455, \"total_avg\": 38475.476652314326, \"square_diff\": 441279623.70822173}, {\"event\": \"cobranding\", \"revenue\": 13312.97, \"group_avg\": 38288.11901595745, \"total_avg\": 38475.476652314326, \"square_diff\": 633151741.0277627}, {\"event\": \"non_event\", \"revenue\": 31257.31, \"group_avg\": 38029.0543956044, \"total_avg\": 38475.476652314326, \"square_diff\": 52101929.82058259}, {\"event\": \"special\", \"revenue\": 23895.2, \"group_avg\": 39237.94054545455, \"total_avg\": 38475.476652314326, \"square_diff\": 212584467.25802225}, {\"event\": \"special\", \"revenue\": 20454.09, \"group_avg\": 39237.94054545455, \"total_avg\": 38475.476652314326, \"square_diff\": 324770376.87221295}, {\"event\": \"non_event\", \"revenue\": 36974.13, \"group_avg\": 38029.0543956044, \"total_avg\": 38475.476652314326, \"square_diff\": 2254041.770415442}, {\"event\": \"cobranding\", \"revenue\": 58934.4, \"group_avg\": 38288.11901595745, \"total_avg\": 38475.476652314326, \"square_diff\": 418567544.54647803}, {\"event\": \"cobranding\", \"revenue\": 63024.21, \"group_avg\": 38288.11901595745, \"total_avg\": 38475.476652314326, \"square_diff\": 602640308.9757746}, {\"event\": \"special\", \"revenue\": 52916.07, \"group_avg\": 39237.94054545455, \"total_avg\": 38475.476652314326, \"square_diff\": 208530736.23322374}, {\"event\": \"special\", \"revenue\": 55132.49, \"group_avg\": 39237.94054545455, \"total_avg\": 38475.476652314326, \"square_diff\": 277456093.6649786}, {\"event\": \"cobranding\", \"revenue\": 52037.28, \"group_avg\": 38288.11901595745, \"total_avg\": 38475.476652314326, \"square_diff\": 183922510.04129833}, {\"event\": \"non_event\", \"revenue\": 40074.91, \"group_avg\": 38029.0543956044, \"total_avg\": 38475.476652314326, \"square_diff\": 2558187.0336890128}, {\"event\": \"cobranding\", \"revenue\": 29302.91, \"group_avg\": 38288.11901595745, \"total_avg\": 38475.476652314326, \"square_diff\": 84135978.99114884}, {\"event\": \"cobranding\", \"revenue\": 23777.5, \"group_avg\": 38288.11901595745, \"total_avg\": 38475.476652314326, \"square_diff\": 216030517.67197704}, {\"event\": \"special\", \"revenue\": 46757.79, \"group_avg\": 39237.94054545455, \"total_avg\": 38475.476652314326, \"square_diff\": 68596714.38925229}, {\"event\": \"special\", \"revenue\": 59542.35, \"group_avg\": 39237.94054545455, \"total_avg\": 38475.476652314326, \"square_diff\": 443813152.64742893}, {\"event\": \"special\", \"revenue\": 45892.31, \"group_avg\": 39237.94054545455, \"total_avg\": 38475.476652314326, \"square_diff\": 55009416.90734225}, {\"event\": \"special\", \"revenue\": 55947.91, \"group_avg\": 39237.94054545455, \"total_avg\": 38475.476652314326, \"square_diff\": 305285927.0893185}, {\"event\": \"special\", \"revenue\": 38052.85, \"group_avg\": 39237.94054545455, \"total_avg\": 38475.476652314326, \"square_diff\": 178613.2872464156}, {\"event\": \"special\", \"revenue\": 30322.01, \"group_avg\": 39237.94054545455, \"total_avg\": 38475.476652314326, \"square_diff\": 66479018.45040181}, {\"event\": \"cobranding\", \"revenue\": 21981.72, \"group_avg\": 38288.11901595745, \"total_avg\": 38475.476652314326, \"square_diff\": 272044008.50576305}, {\"event\": \"special\", \"revenue\": 41812.84, \"group_avg\": 39237.94054545455, \"total_avg\": 38475.476652314326, \"square_diff\": 11137994.114475705}, {\"event\": \"special\", \"revenue\": 44085.76, \"group_avg\": 39237.94054545455, \"total_avg\": 38475.476652314326, \"square_diff\": 31475279.241319194}, {\"event\": \"non_event\", \"revenue\": 42851.24, \"group_avg\": 38029.0543956044, \"total_avg\": 38475.476652314326, \"square_diff\": 19147304.874949317}, {\"event\": \"cobranding\", \"revenue\": 33483.81, \"group_avg\": 38288.11901595745, \"total_avg\": 38475.476652314326, \"square_diff\": 24916735.967826936}, {\"event\": \"special\", \"revenue\": 23319.33, \"group_avg\": 39237.94054545455, \"total_avg\": 38475.476652314326, \"square_diff\": 229708781.3464587}, {\"event\": \"special\", \"revenue\": 46358.31, \"group_avg\": 39237.94054545455, \"total_avg\": 38475.476652314326, \"square_diff\": 62139061.58738529}, {\"event\": \"cobranding\", \"revenue\": 56939.37, \"group_avg\": 38288.11901595745, \"total_avg\": 38475.476652314326, \"square_diff\": 340915357.5547114}, {\"event\": \"non_event\", \"revenue\": 26421.26, \"group_avg\": 38029.0543956044, \"total_avg\": 38475.476652314326, \"square_diff\": 145304139.10093203}, {\"event\": \"non_event\", \"revenue\": 25595.6, \"group_avg\": 38029.0543956044, \"total_avg\": 38475.476652314326, \"square_diff\": 165891222.57883173}, {\"event\": \"cobranding\", \"revenue\": 45170.17, \"group_avg\": 38288.11901595745, \"total_avg\": 38475.476652314326, \"square_diff\": 44818919.01954679}, {\"event\": \"cobranding\", \"revenue\": 24043.89, \"group_avg\": 38288.11901595745, \"total_avg\": 38475.476652314326, \"square_diff\": 208270693.30325705}, {\"event\": \"cobranding\", \"revenue\": 48341.63, \"group_avg\": 38288.11901595745, \"total_avg\": 38475.476652314326, \"square_diff\": 97340981.88004917}, {\"event\": \"non_event\", \"revenue\": 29292.93, \"group_avg\": 38029.0543956044, \"total_avg\": 38475.476652314326, \"square_diff\": 84319163.02192904}, {\"event\": \"non_event\", \"revenue\": 28752.04, \"group_avg\": 38029.0543956044, \"total_avg\": 38475.476652314326, \"square_diff\": 94545220.33156961}, {\"event\": \"cobranding\", \"revenue\": 37487.67, \"group_avg\": 38288.11901595745, \"total_avg\": 38475.476652314326, \"square_diff\": 975761.9823564396}, {\"event\": \"cobranding\", \"revenue\": 56697.84, \"group_avg\": 38288.11901595745, \"total_avg\": 38475.476652314326, \"square_diff\": 332054525.9750781}, {\"event\": \"non_event\", \"revenue\": 32324.69, \"group_avg\": 38029.0543956044, \"total_avg\": 38475.476652314326, \"square_diff\": 37832176.44228809}, {\"event\": \"cobranding\", \"revenue\": 25434.26, \"group_avg\": 38288.11901595745, \"total_avg\": 38475.476652314326, \"square_diff\": 170073331.77260053}, {\"event\": \"cobranding\", \"revenue\": 65578.24, \"group_avg\": 38288.11901595745, \"total_avg\": 38475.476652314326, \"square_diff\": 734559781.0806543}, {\"event\": \"cobranding\", \"revenue\": 77546.6, \"group_avg\": 38288.11901595745, \"total_avg\": 38475.476652314326, \"square_diff\": 1526552679.650069}, {\"event\": \"cobranding\", \"revenue\": 31465.65, \"group_avg\": 38288.11901595745, \"total_avg\": 38475.476652314326, \"square_diff\": 49137669.69549625}, {\"event\": \"special\", \"revenue\": 30087.68, \"group_avg\": 39237.94054545455, \"total_avg\": 38475.476652314326, \"square_diff\": 70355132.68057542}, {\"event\": \"special\", \"revenue\": 24315.16, \"group_avg\": 39237.94054545455, \"total_avg\": 38475.476652314326, \"square_diff\": 200514567.6938104}, {\"event\": \"non_event\", \"revenue\": 37684.1, \"group_avg\": 38029.0543956044, \"total_avg\": 38475.476652314326, \"square_diff\": 626277.0058282323}, {\"event\": \"non_event\", \"revenue\": 44600.12, \"group_avg\": 38029.0543956044, \"total_avg\": 38475.476652314326, \"square_diff\": 37511256.13635041}, {\"event\": \"cobranding\", \"revenue\": 26729.2, \"group_avg\": 38288.11901595745, \"total_avg\": 38475.476652314326, \"square_diff\": 137975015.19270465}, {\"event\": \"cobranding\", \"revenue\": 31299.75, \"group_avg\": 38288.11901595745, \"total_avg\": 38475.476652314326, \"square_diff\": 51491052.98873416}, {\"event\": \"holiday\", \"revenue\": 34627.42, \"group_avg\": 37871.49489583333, \"total_avg\": 38475.476652314326, \"square_diff\": 14807539.999420553}, {\"event\": \"non_event\", \"revenue\": 43286.78, \"group_avg\": 38029.0543956044, \"total_avg\": 38475.476652314326, \"square_diff\": 23148639.90345136}, {\"event\": \"special\", \"revenue\": 51012.2, \"group_avg\": 39237.94054545455, \"total_avg\": 38475.476652314326, \"square_diff\": 157169432.296407}, {\"event\": \"special\", \"revenue\": 36929.76, \"group_avg\": 39237.94054545455, \"total_avg\": 38475.476652314326, \"square_diff\": 2389239.969241801}, {\"event\": \"special\", \"revenue\": 25325.78, \"group_avg\": 39237.94054545455, \"total_avg\": 38475.476652314326, \"square_diff\": 172914522.04788664}, {\"event\": \"non_event\", \"revenue\": 42788.25, \"group_avg\": 38029.0543956044, \"total_avg\": 38475.476652314326, \"square_diff\": 18600013.948507894}, {\"event\": \"cobranding\", \"revenue\": 17492.63, \"group_avg\": 38288.11901595745, \"total_avg\": 38475.476652314326, \"square_diff\": 440279853.6345385}, {\"event\": \"special\", \"revenue\": 49807.84, \"group_avg\": 39237.94054545455, \"total_avg\": 38475.476652314326, \"square_diff\": 128422459.04396957}, {\"event\": \"non_event\", \"revenue\": 21324.86, \"group_avg\": 38029.0543956044, \"total_avg\": 38475.476652314326, \"square_diff\": 294143651.5546414}, {\"event\": \"special\", \"revenue\": 41385.84, \"group_avg\": 39237.94054545455, \"total_avg\": 38475.476652314326, \"square_diff\": 8470214.815552142}, {\"event\": \"holiday\", \"revenue\": 73377.15, \"group_avg\": 37871.49489583333, \"total_avg\": 38475.476652314326, \"square_diff\": 1218126802.468552}, {\"event\": \"cobranding\", \"revenue\": 40329.99, \"group_avg\": 38288.11901595745, \"total_avg\": 38475.476652314326, \"square_diff\": 3439219.7567443172}, {\"event\": \"non_event\", \"revenue\": 48031.93, \"group_avg\": 38029.0543956044, \"total_avg\": 38475.476652314326, \"square_diff\": 91325800.58649273}, {\"event\": \"holiday\", \"revenue\": 50298.77, \"group_avg\": 37871.49489583333, \"total_avg\": 38475.476652314326, \"square_diff\": 139790265.58542824}, {\"event\": \"special\", \"revenue\": 33616.62, \"group_avg\": 39237.94054545455, \"total_avg\": 38475.476652314326, \"square_diff\": 23608487.967739157}, {\"event\": \"non_event\", \"revenue\": 57120.54, \"group_avg\": 38029.0543956044, \"total_avg\": 38475.476652314326, \"square_diff\": 347638387.23921174}, {\"event\": \"special\", \"revenue\": 48689.58, \"group_avg\": 39237.94054545455, \"total_avg\": 38475.476652314326, \"square_diff\": 104327907.19720373}, {\"event\": \"cobranding\", \"revenue\": 44452.3, \"group_avg\": 38288.11901595745, \"total_avg\": 38475.476652314326, \"square_diff\": 35722417.329440616}, {\"event\": \"special\", \"revenue\": 36985.24, \"group_avg\": 39237.94054545455, \"total_avg\": 38475.476652314326, \"square_diff\": 2220805.279901016}, {\"event\": \"cobranding\", \"revenue\": 50462.07, \"group_avg\": 38288.11901595745, \"total_avg\": 38475.476652314326, \"square_diff\": 143678420.08278245}, {\"event\": \"cobranding\", \"revenue\": 48774.4, \"group_avg\": 38288.11901595745, \"total_avg\": 38475.476652314326, \"square_diff\": 106067822.12150511}, {\"event\": \"non_event\", \"revenue\": 34446.64, \"group_avg\": 38029.0543956044, \"total_avg\": 38475.476652314326, \"square_diff\": 16231524.77103131}, {\"event\": \"special\", \"revenue\": 23510.02, \"group_avg\": 39237.94054545455, \"total_avg\": 38475.476652314326, \"square_diff\": 223964892.8122991}, {\"event\": \"special\", \"revenue\": 41677.55, \"group_avg\": 39237.94054545455, \"total_avg\": 38475.476652314326, \"square_diff\": 10253273.723958956}, {\"event\": \"cobranding\", \"revenue\": 34288.71, \"group_avg\": 38288.11901595745, \"total_avg\": 38475.476652314326, \"square_diff\": 17529015.00093132}, {\"event\": \"cobranding\", \"revenue\": 27652.56, \"group_avg\": 38288.11901595745, \"total_avg\": 38475.476652314326, \"square_diff\": 117135524.86294271}, {\"event\": \"special\", \"revenue\": 34890.39, \"group_avg\": 39237.94054545455, \"total_avg\": 38475.476652314326, \"square_diff\": 12852846.304602347}, {\"event\": \"cobranding\", \"revenue\": 31837.56, \"group_avg\": 38288.11901595745, \"total_avg\": 38475.476652314326, \"square_diff\": 44061937.48307181}, {\"event\": \"cobranding\", \"revenue\": 27791.59, \"group_avg\": 38288.11901595745, \"total_avg\": 38475.476652314326, \"square_diff\": 114145433.99950022}, {\"event\": \"special\", \"revenue\": 44137.75, \"group_avg\": 39237.94054545455, \"total_avg\": 38475.476652314326, \"square_diff\": 32061339.463911526}, {\"event\": \"cobranding\", \"revenue\": 26618.6, \"group_avg\": 38288.11901595745, \"total_avg\": 38475.476652314326, \"square_diff\": 140585523.94819662}, {\"event\": \"cobranding\", \"revenue\": 20331.37, \"group_avg\": 38288.11901595745, \"total_avg\": 38475.476652314326, \"square_diff\": 329208606.21055704}, {\"event\": \"special\", \"revenue\": 22458.65, \"group_avg\": 39237.94054545455, \"total_avg\": 38475.476652314326, \"square_diff\": 256538736.0102865}, {\"event\": \"non_event\", \"revenue\": 47466.23, \"group_avg\": 38029.0543956044, \"total_avg\": 38475.476652314326, \"square_diff\": 80833645.7589212}, {\"event\": \"cobranding\", \"revenue\": 38597.53, \"group_avg\": 38288.11901595745, \"total_avg\": 38475.476652314326, \"square_diff\": 14897.01968127969}, {\"event\": \"cobranding\", \"revenue\": 38626.58, \"group_avg\": 38288.11901595745, \"total_avg\": 38475.476652314326, \"square_diff\": 22832.221681818148}, {\"event\": \"special\", \"revenue\": 41719.29, \"group_avg\": 39237.94054545455, \"total_avg\": 38475.476652314326, \"square_diff\": 10522325.034623744}, {\"event\": \"cobranding\", \"revenue\": 39093.23, \"group_avg\": 38288.11901595745, \"total_avg\": 38475.476652314326, \"square_diff\": 381619.19857686094}, {\"event\": \"holiday\", \"revenue\": 52408.96, \"group_avg\": 37871.49489583333, \"total_avg\": 38475.476652314326, \"square_diff\": 194141958.20023394}, {\"event\": \"non_event\", \"revenue\": 40286.81, \"group_avg\": 38029.0543956044, \"total_avg\": 38475.476652314326, \"square_diff\": 3280928.4964381815}, {\"event\": \"cobranding\", \"revenue\": 54753.73, \"group_avg\": 38288.11901595745, \"total_avg\": 38475.476652314326, \"square_diff\": 264981532.05143994}, {\"event\": \"holiday\", \"revenue\": 29271.18, \"group_avg\": 37871.49489583333, \"total_avg\": 38475.476652314326, \"square_diff\": 84719076.86380471}, {\"event\": \"cobranding\", \"revenue\": 50201.45, \"group_avg\": 38288.11901595745, \"total_avg\": 38475.476652314326, \"square_diff\": 137498450.9506347}, {\"event\": \"non_event\", \"revenue\": 62890.57, \"group_avg\": 38029.0543956044, \"total_avg\": 38475.476652314326, \"square_diff\": 596096783.1762053}, {\"event\": \"special\", \"revenue\": 27021.03, \"group_avg\": 39237.94054545455, \"total_avg\": 38475.476652314326, \"square_diff\": 131204348.1107149}, {\"event\": \"special\", \"revenue\": 23787.84, \"group_avg\": 39237.94054545455, \"total_avg\": 38475.476652314326, \"square_diff\": 215726670.4304072}, {\"event\": \"cobranding\", \"revenue\": 52240.91, \"group_avg\": 38288.11901595745, \"total_avg\": 38475.476652314326, \"square_diff\": 189487155.24957693}, {\"event\": \"cobranding\", \"revenue\": 30476.48, \"group_avg\": 38288.11901595745, \"total_avg\": 38475.476652314326, \"square_diff\": 63983947.44373581}, {\"event\": \"non_event\", \"revenue\": 41038.77, \"group_avg\": 38029.0543956044, \"total_avg\": 38475.476652314326, \"square_diff\": 6570472.786289612}, {\"event\": \"cobranding\", \"revenue\": 47233.72, \"group_avg\": 38288.11901595745, \"total_avg\": 38475.476652314326, \"square_diff\": 76706826.53728038}, {\"event\": \"holiday\", \"revenue\": 28167.32, \"group_avg\": 37871.49489583333, \"total_avg\": 38475.476652314326, \"square_diff\": 106258093.56865211}, {\"event\": \"cobranding\", \"revenue\": 37292.82, \"group_avg\": 38288.11901595745, \"total_avg\": 38475.476652314326, \"square_diff\": 1398676.7572633298}, {\"event\": \"special\", \"revenue\": 63488.6, \"group_avg\": 39237.94054545455, \"total_avg\": 38475.476652314326, \"square_diff\": 625656339.606538}, {\"event\": \"special\", \"revenue\": 19183.01, \"group_avg\": 39237.94054545455, \"total_avg\": 38475.476652314326, \"square_diff\": 372199269.5306604}, {\"event\": \"cobranding\", \"revenue\": 55229.72, \"group_avg\": 38288.11901595745, \"total_avg\": 38475.476652314326, \"square_diff\": 280704670.1534697}, {\"event\": \"non_event\", \"revenue\": 40352.76, \"group_avg\": 38029.0543956044, \"total_avg\": 38475.476652314326, \"square_diff\": 3524192.767497938}, {\"event\": \"special\", \"revenue\": 36277.74, \"group_avg\": 39237.94054545455, \"total_avg\": 38475.476652314326, \"square_diff\": 4830046.3929257905}, {\"event\": \"holiday\", \"revenue\": 49517.17, \"group_avg\": 37871.49489583333, \"total_avg\": 38475.476652314326, \"square_diff\": 121918991.98432602}, {\"event\": \"special\", \"revenue\": 41134.12, \"group_avg\": 39237.94054545455, \"total_avg\": 38475.476652314326, \"square_diff\": 7068384.450193301}, {\"event\": \"special\", \"revenue\": 39161.4, \"group_avg\": 39237.94054545455, \"total_avg\": 38475.476652314326, \"square_diff\": 470490.8389003237}, {\"event\": \"special\", \"revenue\": 47776.02, \"group_avg\": 39237.94054545455, \"total_avg\": 38475.476652314326, \"square_diff\": 86500106.56218018}, {\"event\": \"special\", \"revenue\": 26585.8, \"group_avg\": 39237.94054545455, \"total_avg\": 38475.476652314326, \"square_diff\": 141364410.89658841}, {\"event\": \"non_event\", \"revenue\": 32520.6, \"group_avg\": 38029.0543956044, \"total_avg\": 38475.476652314326, \"square_diff\": 35460555.94427829}, {\"event\": \"cobranding\", \"revenue\": 50687.46, \"group_avg\": 38288.11901595745, \"total_avg\": 38475.476652314326, \"square_diff\": 149132537.28415218}, {\"event\": \"cobranding\", \"revenue\": 53207.1, \"group_avg\": 38288.11901595745, \"total_avg\": 38475.476652314326, \"square_diff\": 217020726.4580776}, {\"event\": \"special\", \"revenue\": 31909.74, \"group_avg\": 39237.94054545455, \"total_avg\": 38475.476652314326, \"square_diff\": 43108897.787543714}, {\"event\": \"special\", \"revenue\": 45297.33, \"group_avg\": 39237.94054545455, \"total_avg\": 38475.476652314326, \"square_diff\": 46537683.09733026}, {\"event\": \"cobranding\", \"revenue\": 30357.38, \"group_avg\": 38288.11901595745, \"total_avg\": 38475.476652314326, \"square_diff\": 65903493.25631706}, {\"event\": \"cobranding\", \"revenue\": 61157.64, \"group_avg\": 38288.11901595745, \"total_avg\": 38475.476652314326, \"square_diff\": 514480534.13109535}, {\"event\": \"special\", \"revenue\": 33832.02, \"group_avg\": 39237.94054545455, \"total_avg\": 38475.476652314326, \"square_diff\": 21561689.681922197}, {\"event\": \"cobranding\", \"revenue\": 43886.97, \"group_avg\": 38288.11901595745, \"total_avg\": 38475.476652314326, \"square_diff\": 29284260.252046313}, {\"event\": \"special\", \"revenue\": 42709.11, \"group_avg\": 39237.94054545455, \"total_avg\": 38475.476652314326, \"square_diff\": 17923651.32263621}, {\"event\": \"non_event\", \"revenue\": 39859.69, \"group_avg\": 38029.0543956044, \"total_avg\": 38475.476652314326, \"square_diff\": 1916046.5919111865}, {\"event\": \"non_event\", \"revenue\": 34418.4, \"group_avg\": 38029.0543956044, \"total_avg\": 38475.476652314326, \"square_diff\": 16459870.962754007}, {\"event\": \"cobranding\", \"revenue\": 52662.37, \"group_avg\": 38288.11901595745, \"total_avg\": 38475.476652314326, \"square_diff\": 201267942.8586081}, {\"event\": \"cobranding\", \"revenue\": 63328.05, \"group_avg\": 38288.11901595745, \"total_avg\": 38475.476652314326, \"square_diff\": 617650402.0020964}, {\"event\": \"special\", \"revenue\": 44074.1, \"group_avg\": 39237.94054545455, \"total_avg\": 38475.476652314326, \"square_diff\": 31344583.389251124}, {\"event\": \"cobranding\", \"revenue\": 41848.52, \"group_avg\": 38288.11901595745, \"total_avg\": 38475.476652314326, \"square_diff\": 11377421.425366556}, {\"event\": \"special\", \"revenue\": 30074.72, \"group_avg\": 39237.94054545455, \"total_avg\": 38475.476652314326, \"square_diff\": 70572712.33140339}, {\"event\": \"special\", \"revenue\": 32028.99, \"group_avg\": 39237.94054545455, \"total_avg\": 38475.476652314326, \"square_diff\": 41557190.15846675}, {\"event\": \"cobranding\", \"revenue\": 54150.0, \"group_avg\": 38288.11901595745, \"total_avg\": 38475.476652314326, \"square_diff\": 245690682.1771433}, {\"event\": \"cobranding\", \"revenue\": 28732.49, \"group_avg\": 38288.11901595745, \"total_avg\": 38475.476652314326, \"square_diff\": 94925788.9071751}, {\"event\": \"cobranding\", \"revenue\": 24832.47, \"group_avg\": 38288.11901595745, \"total_avg\": 38475.476652314326, \"square_diff\": 186131630.51509294}, {\"event\": \"cobranding\", \"revenue\": 23328.83, \"group_avg\": 38288.11901595745, \"total_avg\": 38475.476652314326, \"square_diff\": 229420904.81006473}, {\"event\": \"non_event\", \"revenue\": 38268.87, \"group_avg\": 38029.0543956044, \"total_avg\": 38475.476652314326, \"square_diff\": 42686.30878053179}, {\"event\": \"special\", \"revenue\": 57946.42, \"group_avg\": 39237.94054545455, \"total_avg\": 38475.476652314326, \"square_diff\": 379117634.8487849}, {\"event\": \"special\", \"revenue\": 43872.08, \"group_avg\": 39237.94054545455, \"total_avg\": 38475.476652314326, \"square_diff\": 29123327.69225224}, {\"event\": \"cobranding\", \"revenue\": 39738.22, \"group_avg\": 38288.11901595745, \"total_avg\": 38475.476652314326, \"square_diff\": 1594520.7621244255}, {\"event\": \"non_event\", \"revenue\": 43339.71, \"group_avg\": 38029.0543956044, \"total_avg\": 38475.476652314326, \"square_diff\": 23660766.060737368}, {\"event\": \"holiday\", \"revenue\": 39488.31, \"group_avg\": 37871.49489583333, \"total_avg\": 38475.476652314326, \"square_diff\": 1025831.3901841643}, {\"event\": \"non_event\", \"revenue\": 43364.44, \"group_avg\": 38029.0543956044, \"total_avg\": 38475.476652314326, \"square_diff\": 23901962.615013935}, {\"event\": \"cobranding\", \"revenue\": 46341.53, \"group_avg\": 38288.11901595745, \"total_avg\": 38475.476652314326, \"square_diff\": 61874795.26863698}, {\"event\": \"cobranding\", \"revenue\": 25140.13, \"group_avg\": 38288.11901595745, \"total_avg\": 38475.476652314326, \"square_diff\": 177831470.33739087}, {\"event\": \"cobranding\", \"revenue\": 44943.19, \"group_avg\": 38288.11901595745, \"total_avg\": 38475.476652314326, \"square_diff\": 41831315.94783146}, {\"event\": \"non_event\", \"revenue\": 54455.55, \"group_avg\": 38029.0543956044, \"total_avg\": 38475.476652314326, \"square_diff\": 255362744.1974141}, {\"event\": \"cobranding\", \"revenue\": 24912.56, \"group_avg\": 38288.11901595745, \"total_avg\": 38475.476652314326, \"square_diff\": 183952708.1176252}, {\"event\": \"non_event\", \"revenue\": 33632.69, \"group_avg\": 38029.0543956044, \"total_avg\": 38475.476652314326, \"square_diff\": 23452582.559833776}, {\"event\": \"special\", \"revenue\": 54119.1, \"group_avg\": 39237.94054545455, \"total_avg\": 38475.476652314326, \"square_diff\": 244722951.44425628}, {\"event\": \"cobranding\", \"revenue\": 30184.74, \"group_avg\": 38288.11901595745, \"total_avg\": 38475.476652314326, \"square_diff\": 68736314.23802814}, {\"event\": \"non_event\", \"revenue\": 39223.79, \"group_avg\": 38029.0543956044, \"total_avg\": 38475.476652314326, \"square_diff\": 559972.8663245414}, {\"event\": \"non_event\", \"revenue\": 49554.27, \"group_avg\": 38029.0543956044, \"total_avg\": 38475.476652314326, \"square_diff\": 122739662.04072426}, {\"event\": \"special\", \"revenue\": 15752.05, \"group_avg\": 39237.94054545455, \"total_avg\": 38475.476652314326, \"square_diff\": 516354118.8231091}, {\"event\": \"special\", \"revenue\": 48097.64, \"group_avg\": 39237.94054545455, \"total_avg\": 38475.476652314326, \"square_diff\": 92586027.48954557}, {\"event\": \"special\", \"revenue\": 42190.23, \"group_avg\": 39237.94054545455, \"total_avg\": 38475.476652314326, \"square_diff\": 13799392.434141945}, {\"event\": \"cobranding\", \"revenue\": 33950.87, \"group_avg\": 38288.11901595745, \"total_avg\": 38475.476652314326, \"square_diff\": 20472065.35816703}, {\"event\": \"special\", \"revenue\": 36194.27, \"group_avg\": 39237.94054545455, \"total_avg\": 38475.476652314326, \"square_diff\": 5203903.790563149}, {\"event\": \"holiday\", \"revenue\": 36914.96, \"group_avg\": 37871.49489583333, \"total_avg\": 38475.476652314326, \"square_diff\": 2435212.2221503146}, {\"event\": \"non_event\", \"revenue\": 35377.56, \"group_avg\": 38029.0543956044, \"total_avg\": 38475.476652314326, \"square_diff\": 9597087.584686417}, {\"event\": \"cobranding\", \"revenue\": 50764.24, \"group_avg\": 38288.11901595745, \"total_avg\": 38475.476652314326, \"square_diff\": 151013704.61542276}, {\"event\": \"holiday\", \"revenue\": 52396.67, \"group_avg\": 37871.49489583333, \"total_avg\": 38475.476652314326, \"square_diff\": 193799624.2236478}, {\"event\": \"cobranding\", \"revenue\": 34421.56, \"group_avg\": 38288.11901595745, \"total_avg\": 38475.476652314326, \"square_diff\": 16434240.223911412}, {\"event\": \"special\", \"revenue\": 41423.28, \"group_avg\": 39237.94054545455, \"total_avg\": 38475.476652314326, \"square_diff\": 8689544.576626858}, {\"event\": \"cobranding\", \"revenue\": 13197.12, \"group_avg\": 38288.11901595745, \"total_avg\": 38475.476652314326, \"square_diff\": 638995315.0416038}, {\"event\": \"special\", \"revenue\": 45404.47, \"group_avg\": 39237.94054545455, \"total_avg\": 38475.476652314326, \"square_diff\": 48010948.81227234}, {\"event\": \"cobranding\", \"revenue\": 42687.58, \"group_avg\": 38288.11901595745, \"total_avg\": 38475.476652314326, \"square_diff\": 17741814.611584876}, {\"event\": \"non_event\", \"revenue\": 33928.72, \"group_avg\": 38029.0543956044, \"total_avg\": 38475.476652314326, \"square_diff\": 20672996.055364568}, {\"event\": \"holiday\", \"revenue\": 21081.72, \"group_avg\": 37871.49489583333, \"total_avg\": 38475.476652314326, \"square_diff\": 302542770.47992885}, {\"event\": \"cobranding\", \"revenue\": 37320.59, \"group_avg\": 38288.11901595745, \"total_avg\": 38475.476652314326, \"square_diff\": 1333763.1796937995}, {\"event\": \"special\", \"revenue\": 27602.79, \"group_avg\": 39237.94054545455, \"total_avg\": 38475.476652314326, \"square_diff\": 118215315.0394141}, {\"event\": \"special\", \"revenue\": 35515.89, \"group_avg\": 39237.94054545455, \"total_avg\": 38475.476652314326, \"square_diff\": 8759153.152557123}, {\"event\": \"cobranding\", \"revenue\": 59264.66, \"group_avg\": 38288.11901595745, \"total_avg\": 38475.476652314326, \"square_diff\": 432190144.2636915}, {\"event\": \"holiday\", \"revenue\": 37702.18, \"group_avg\": 37871.49489583333, \"total_avg\": 38475.476652314326, \"square_diff\": 597987.7124805434}, {\"event\": \"special\", \"revenue\": 32982.53, \"group_avg\": 39237.94054545455, \"total_avg\": 38475.476652314326, \"square_diff\": 30172462.925171178}, {\"event\": \"cobranding\", \"revenue\": 39943.52, \"group_avg\": 38288.11901595745, \"total_avg\": 38475.476652314326, \"square_diff\": 2155151.2706841505}, {\"event\": \"non_event\", \"revenue\": 55573.94, \"group_avg\": 38029.0543956044, \"total_avg\": 38475.476652314326, \"square_diff\": 292357448.85215044}, {\"event\": \"cobranding\", \"revenue\": 50222.01, \"group_avg\": 38288.11901595745, \"total_avg\": 38475.476652314326, \"square_diff\": 137981045.68829164}, {\"event\": \"special\", \"revenue\": 54134.8, \"group_avg\": 39237.94054545455, \"total_avg\": 38475.476652314326, \"square_diff\": 245214407.70737374}, {\"event\": \"special\", \"revenue\": 33582.15, \"group_avg\": 39237.94054545455, \"total_avg\": 38475.476652314326, \"square_diff\": 23944645.726249717}, {\"event\": \"special\", \"revenue\": 44461.44, \"group_avg\": 39237.94054545455, \"total_avg\": 38475.476652314326, \"square_diff\": 35831757.199836306}, {\"event\": \"cobranding\", \"revenue\": 15993.22, \"group_avg\": 38288.11901595745, \"total_avg\": 38475.476652314326, \"square_diff\": 505451864.18053174}, {\"event\": \"non_event\", \"revenue\": 51067.82, \"group_avg\": 38029.0543956044, \"total_avg\": 38475.476652314326, \"square_diff\": 158567110.98600364}, {\"event\": \"non_event\", \"revenue\": 39809.09, \"group_avg\": 38029.0543956044, \"total_avg\": 38475.476652314326, \"square_diff\": 1778524.5611253805}, {\"event\": \"cobranding\", \"revenue\": 45585.2, \"group_avg\": 38288.11901595745, \"total_avg\": 38475.476652314326, \"square_diff\": 50548166.08062674}, {\"event\": \"cobranding\", \"revenue\": 13669.62, \"group_avg\": 38288.11901595745, \"total_avg\": 38475.476652314326, \"square_diff\": 615330524.2551668}, {\"event\": \"cobranding\", \"revenue\": 50132.69, \"group_avg\": 38288.11901595745, \"total_avg\": 38475.476652314326, \"square_diff\": 135890623.0334611}, {\"event\": \"cobranding\", \"revenue\": 23371.24, \"group_avg\": 38288.11901595745, \"total_avg\": 38475.476652314326, \"square_diff\": 228137964.84911543}, {\"event\": \"special\", \"revenue\": 45694.16, \"group_avg\": 39237.94054545455, \"total_avg\": 38475.476652314326, \"square_diff\": 52109389.2741545}, {\"event\": \"non_event\", \"revenue\": 33096.88, \"group_avg\": 38029.0543956044, \"total_avg\": 38475.476652314326, \"square_diff\": 28929301.948286906}, {\"event\": \"holiday\", \"revenue\": 60967.47, \"group_avg\": 37871.49489583333, \"total_avg\": 38475.476652314326, \"square_diff\": 505889764.7523367}, {\"event\": \"cobranding\", \"revenue\": 39087.63, \"group_avg\": 38288.11901595745, \"total_avg\": 38475.476652314326, \"square_diff\": 374731.7210827742}, {\"event\": \"cobranding\", \"revenue\": 42747.87, \"group_avg\": 38288.11901595745, \"total_avg\": 38475.476652314326, \"square_diff\": 18253344.91734882}, {\"event\": \"non_event\", \"revenue\": 43493.59, \"group_avg\": 38029.0543956044, \"total_avg\": 38475.476652314326, \"square_diff\": 25181461.570221085}, {\"event\": \"cobranding\", \"revenue\": 25193.7, \"group_avg\": 38288.11901595745, \"total_avg\": 38475.476652314326, \"square_diff\": 176405591.04196194}, {\"event\": \"cobranding\", \"revenue\": 42946.68, \"group_avg\": 38288.11901595745, \"total_avg\": 38475.476652314326, \"square_diff\": 19991659.376355577}, {\"event\": \"holiday\", \"revenue\": 43568.38, \"group_avg\": 37871.49489583333, \"total_avg\": 38475.476652314326, \"square_diff\": 25937664.508867916}, {\"event\": \"non_event\", \"revenue\": 55198.73, \"group_avg\": 38029.0543956044, \"total_avg\": 38475.476652314326, \"square_diff\": 279667202.5308802}, {\"event\": \"cobranding\", \"revenue\": 36653.66, \"group_avg\": 38288.11901595745, \"total_avg\": 38475.476652314326, \"square_diff\": 3319015.914649766}, {\"event\": \"special\", \"revenue\": 39370.6, \"group_avg\": 39237.94054545455, \"total_avg\": 38475.476652314326, \"square_diff\": 801245.8075720051}, {\"event\": \"holiday\", \"revenue\": 22081.84, \"group_avg\": 37871.49489583333, \"total_avg\": 38475.476652314326, \"square_diff\": 268751322.6881037}, {\"event\": \"cobranding\", \"revenue\": 44325.96, \"group_avg\": 38288.11901595745, \"total_avg\": 38475.476652314326, \"square_diff\": 34228155.40154736}, {\"event\": \"non_event\", \"revenue\": 42154.66, \"group_avg\": 38029.0543956044, \"total_avg\": 38475.476652314326, \"square_diff\": 13536390.105887588}, {\"event\": \"cobranding\", \"revenue\": 28507.52, \"group_avg\": 38288.11901595745, \"total_avg\": 38475.476652314326, \"square_diff\": 99360159.82241742}, {\"event\": \"cobranding\", \"revenue\": 46649.18, \"group_avg\": 38288.11901595745, \"total_avg\": 38475.476652314326, \"square_diff\": 66809426.41596799}, {\"event\": \"special\", \"revenue\": 36617.3, \"group_avg\": 39237.94054545455, \"total_avg\": 38475.476652314326, \"square_diff\": 3452820.4712060657}, {\"event\": \"cobranding\", \"revenue\": 48565.53, \"group_avg\": 38288.11901595745, \"total_avg\": 38475.476652314326, \"square_diff\": 101809176.55914284}, {\"event\": \"cobranding\", \"revenue\": 30767.96, \"group_avg\": 38288.11901595745, \"total_avg\": 38475.476652314326, \"square_diff\": 59405812.94570265}, {\"event\": \"special\", \"revenue\": 23237.55, \"group_avg\": 39237.94054545455, \"total_avg\": 38475.476652314326, \"square_diff\": 232194408.6613113}, {\"event\": \"non_event\", \"revenue\": 52801.92, \"group_avg\": 38029.0543956044, \"total_avg\": 38475.476652314326, \"square_diff\": 205246978.99444705}, {\"event\": \"special\", \"revenue\": 31418.35, \"group_avg\": 39237.94054545455, \"total_avg\": 38475.476652314326, \"square_diff\": 49803036.58680523}, {\"event\": \"non_event\", \"revenue\": 29570.17, \"group_avg\": 38029.0543956044, \"total_avg\": 38475.476652314326, \"square_diff\": 79304486.57175383}, {\"event\": \"cobranding\", \"revenue\": 49725.22, \"group_avg\": 38288.11901595745, \"total_avg\": 38475.476652314326, \"square_diff\": 126556725.3887981}, {\"event\": \"special\", \"revenue\": 18056.8, \"group_avg\": 39237.94054545455, \"total_avg\": 38475.476652314326, \"square_diff\": 416922356.2317662}, {\"event\": \"cobranding\", \"revenue\": 57175.23, \"group_avg\": 38288.11901595745, \"total_avg\": 38475.476652314326, \"square_diff\": 349680775.2642817}, {\"event\": \"holiday\", \"revenue\": 50388.64, \"group_avg\": 37871.49489583333, \"total_avg\": 38475.476652314326, \"square_diff\": 141923460.94864133}, {\"event\": \"special\", \"revenue\": 12517.17, \"group_avg\": 39237.94054545455, \"total_avg\": 38475.476652314326, \"square_diff\": 673833684.2555863}, {\"event\": \"cobranding\", \"revenue\": 49208.16, \"group_avg\": 38288.11901595745, \"total_avg\": 38475.476652314326, \"square_diff\": 115190491.84168944}, {\"event\": \"cobranding\", \"revenue\": 37894.7, \"group_avg\": 38288.11901595745, \"total_avg\": 38475.476652314326, \"square_diff\": 337301.5198734391}, {\"event\": \"non_event\", \"revenue\": 34141.54, \"group_avg\": 38029.0543956044, \"total_avg\": 38475.476652314326, \"square_diff\": 18783006.906273503}, {\"event\": \"cobranding\", \"revenue\": 46536.66, \"group_avg\": 38288.11901595745, \"total_avg\": 38475.476652314326, \"square_diff\": 64982676.96500486}, {\"event\": \"special\", \"revenue\": 35243.11, \"group_avg\": 39237.94054545455, \"total_avg\": 38475.476652314326, \"square_diff\": 10448194.17499372}, {\"event\": \"holiday\", \"revenue\": 25042.1, \"group_avg\": 37871.49489583333, \"total_avg\": 38475.476652314326, \"square_diff\": 180455608.2829437}, {\"event\": \"special\", \"revenue\": 70334.57, \"group_avg\": 39237.94054545455, \"total_avg\": 38475.476652314326, \"square_diff\": 1015001828.93655}, {\"event\": \"special\", \"revenue\": 58782.94, \"group_avg\": 39237.94054545455, \"total_avg\": 38475.476652314326, \"square_diff\": 412393067.6175971}, {\"event\": \"non_event\", \"revenue\": 40226.41, \"group_avg\": 38029.0543956044, \"total_avg\": 38475.476652314326, \"square_diff\": 3065767.588037773}, {\"event\": \"holiday\", \"revenue\": 49957.12, \"group_avg\": 37871.49489583333, \"total_avg\": 38475.476652314326, \"square_diff\": 131828133.96345475}, {\"event\": \"holiday\", \"revenue\": 38432.78, \"group_avg\": 37871.49489583333, \"total_avg\": 38475.476652314326, \"square_diff\": 1823.0041188505563}, {\"event\": \"non_event\", \"revenue\": 30214.12, \"group_avg\": 38029.0543956044, \"total_avg\": 38475.476652314326, \"square_diff\": 68250013.73673819}, {\"event\": \"cobranding\", \"revenue\": 35099.29, \"group_avg\": 38288.11901595745, \"total_avg\": 38475.476652314326, \"square_diff\": 11398636.31126541}, {\"event\": \"cobranding\", \"revenue\": 7146.99, \"group_avg\": 38288.11901595745, \"total_avg\": 38475.476652314326, \"square_diff\": 981474075.924237}, {\"event\": \"special\", \"revenue\": 40602.55, \"group_avg\": 39237.94054545455, \"total_avg\": 38475.476652314326, \"square_diff\": 4524441.026434752}, {\"event\": \"holiday\", \"revenue\": 46090.1, \"group_avg\": 37871.49489583333, \"total_avg\": 38475.476652314326, \"square_diff\": 57982488.72711976}, {\"event\": \"cobranding\", \"revenue\": 46243.71, \"group_avg\": 38288.11901595745, \"total_avg\": 38475.476652314326, \"square_diff\": 60345449.34409576}, {\"event\": \"holiday\", \"revenue\": 42761.34, \"group_avg\": 37871.49489583333, \"total_avg\": 38475.476652314326, \"square_diff\": 18368624.63503542}, {\"event\": \"cobranding\", \"revenue\": 53453.47, \"group_avg\": 38288.11901595745, \"total_avg\": 38475.476652314326, \"square_diff\": 224340284.72331634}, {\"event\": \"cobranding\", \"revenue\": 41267.62, \"group_avg\": 38288.11901595745, \"total_avg\": 38475.476652314326, \"square_diff\": 7796064.474025376}, {\"event\": \"cobranding\", \"revenue\": 28858.32, \"group_avg\": 38288.11901595745, \"total_avg\": 38475.476652314326, \"square_diff\": 92489702.07515371}, {\"event\": \"special\", \"revenue\": 65428.82, \"group_avg\": 39237.94054545455, \"total_avg\": 38475.476652314326, \"square_diff\": 726482717.6182315}, {\"event\": \"holiday\", \"revenue\": 23072.92, \"group_avg\": 37871.49489583333, \"total_avg\": 38475.476652314326, \"square_diff\": 237238751.42775235}, {\"event\": \"cobranding\", \"revenue\": 55767.01, \"group_avg\": 38288.11901595745, \"total_avg\": 38475.476652314326, \"square_diff\": 298997125.5141258}, {\"event\": \"special\", \"revenue\": 42388.67, \"group_avg\": 39237.94054545455, \"total_avg\": 38475.476652314326, \"square_diff\": 15313082.176371397}, {\"event\": \"holiday\", \"revenue\": 15492.83, \"group_avg\": 37871.49489583333, \"total_avg\": 38475.476652314326, \"square_diff\": 528202047.1451348}, {\"event\": \"cobranding\", \"revenue\": 42146.15, \"group_avg\": 38288.11901595745, \"total_avg\": 38475.476652314326, \"square_diff\": 13473842.825409962}, {\"event\": \"cobranding\", \"revenue\": 33404.14, \"group_avg\": 38288.11901595745, \"total_avg\": 38475.476652314326, \"square_diff\": 25718455.441106685}, {\"event\": \"cobranding\", \"revenue\": 25365.65, \"group_avg\": 38288.11901595745, \"total_avg\": 38475.476652314326, \"square_diff\": 171867554.853731}, {\"event\": \"special\", \"revenue\": 22080.47, \"group_avg\": 39237.94054545455, \"total_avg\": 38475.476652314326, \"square_diff\": 268796243.12943095}, {\"event\": \"cobranding\", \"revenue\": 30517.5, \"group_avg\": 38288.11901595745, \"total_avg\": 38475.476652314326, \"square_diff\": 63329392.39877993}, {\"event\": \"special\", \"revenue\": 41940.41, \"group_avg\": 39237.94054545455, \"total_avg\": 38475.476652314326, \"square_diff\": 12005763.103904275}, {\"event\": \"special\", \"revenue\": 43795.92, \"group_avg\": 39237.94054545455, \"total_avg\": 38475.476652314326, \"square_diff\": 28307117.415932722}, {\"event\": \"cobranding\", \"revenue\": 10001.8, \"group_avg\": 38288.11901595745, \"total_avg\": 38475.476652314326, \"square_diff\": 810750262.10055}, {\"event\": \"non_event\", \"revenue\": 40462.74, \"group_avg\": 38029.0543956044, \"total_avg\": 38475.476652314326, \"square_diff\": 3949215.613054863}, {\"event\": \"non_event\", \"revenue\": 50991.75, \"group_avg\": 38029.0543956044, \"total_avg\": 38475.476652314326, \"square_diff\": 156657098.51398674}, {\"event\": \"special\", \"revenue\": 34734.11, \"group_avg\": 39237.94054545455, \"total_avg\": 38475.476652314326, \"square_diff\": 13997824.427049704}, {\"event\": \"special\", \"revenue\": 32084.17, \"group_avg\": 39237.94054545455, \"total_avg\": 38475.476652314326, \"square_diff\": 40848800.72391738}, {\"event\": \"non_event\", \"revenue\": 57586.89, \"group_avg\": 38029.0543956044, \"total_avg\": 38475.476652314326, \"square_diff\": 365246120.14609814}, {\"event\": \"special\", \"revenue\": 25949.38, \"group_avg\": 39237.94054545455, \"total_avg\": 38475.476652314326, \"square_diff\": 156903097.34312016}, {\"event\": \"special\", \"revenue\": 46911.29, \"group_avg\": 39237.94054545455, \"total_avg\": 38475.476652314326, \"square_diff\": 71162946.83699179}, {\"event\": \"special\", \"revenue\": 34084.96, \"group_avg\": 39237.94054545455, \"total_avg\": 38475.476652314326, \"square_diff\": 19276636.474249404}, {\"event\": \"holiday\", \"revenue\": 25045.8, \"group_avg\": 37871.49489583333, \"total_avg\": 38475.476652314326, \"square_diff\": 180356214.98571655}, {\"event\": \"cobranding\", \"revenue\": 40528.18, \"group_avg\": 38288.11901595745, \"total_avg\": 38475.476652314326, \"square_diff\": 4213591.033599974}, {\"event\": \"cobranding\", \"revenue\": 44422.7, \"group_avg\": 38288.11901595745, \"total_avg\": 38475.476652314326, \"square_diff\": 35369465.54725756}, {\"event\": \"cobranding\", \"revenue\": 28819.37, \"group_avg\": 38288.11901595745, \"total_avg\": 38475.476652314326, \"square_diff\": 93240395.680869}, {\"event\": \"cobranding\", \"revenue\": 35417.85, \"group_avg\": 38288.11901595745, \"total_avg\": 38475.476652314326, \"square_diff\": 9349080.744942922}, {\"event\": \"cobranding\", \"revenue\": 37562.01, \"group_avg\": 38288.11901595745, \"total_avg\": 38475.476652314326, \"square_diff\": 834421.3248903384}, {\"event\": \"cobranding\", \"revenue\": 25912.92, \"group_avg\": 38288.11901595745, \"total_avg\": 38475.476652314326, \"square_diff\": 157817829.64260697}, {\"event\": \"non_event\", \"revenue\": 17700.8, \"group_avg\": 38029.0543956044, \"total_avg\": 38475.476652314326, \"square_diff\": 431587190.008214}, {\"event\": \"non_event\", \"revenue\": 57533.77, \"group_avg\": 38029.0543956044, \"total_avg\": 38475.476652314326, \"square_diff\": 363218545.32643986}, {\"event\": \"special\", \"revenue\": 51180.02, \"group_avg\": 39237.94054545455, \"total_avg\": 38475.476652314326, \"square_diff\": 161405421.67322424}, {\"event\": \"non_event\", \"revenue\": 44240.34, \"group_avg\": 38029.0543956044, \"total_avg\": 38475.476652314326, \"square_diff\": 33233649.417489633}, {\"event\": \"holiday\", \"revenue\": 41908.39, \"group_avg\": 37871.49489583333, \"total_avg\": 38475.476652314326, \"square_diff\": 11784894.052718455}, {\"event\": \"cobranding\", \"revenue\": 18617.76, \"group_avg\": 38288.11901595745, \"total_avg\": 38475.476652314326, \"square_diff\": 394328910.6436018}, {\"event\": \"special\", \"revenue\": 21253.85, \"group_avg\": 39237.94054545455, \"total_avg\": 38475.476652314326, \"square_diff\": 296584424.5517032}, {\"event\": \"cobranding\", \"revenue\": 37830.66, \"group_avg\": 38288.11901595745, \"total_avg\": 38475.476652314326, \"square_diff\": 415788.51510185015}, {\"event\": \"special\", \"revenue\": 42852.23, \"group_avg\": 39237.94054545455, \"total_avg\": 38475.476652314326, \"square_diff\": 19155969.86647778}, {\"event\": \"cobranding\", \"revenue\": 27501.97, \"group_avg\": 38288.11901595745, \"total_avg\": 38475.476652314326, \"square_diff\": 120417848.24838674}, {\"event\": \"holiday\", \"revenue\": 37067.2, \"group_avg\": 37871.49489583333, \"total_avg\": 38475.476652314326, \"square_diff\": 1983243.1294536537}, {\"event\": \"special\", \"revenue\": 33598.94, \"group_avg\": 39237.94054545455, \"total_avg\": 38475.476652314326, \"square_diff\": 23780609.721364994}, {\"event\": \"holiday\", \"revenue\": 54866.6, \"group_avg\": 37871.49489583333, \"total_avg\": 38475.476652314326, \"square_diff\": 268668924.59904635}, {\"event\": \"cobranding\", \"revenue\": 31638.34, \"group_avg\": 38288.11901595745, \"total_avg\": 38475.476652314326, \"square_diff\": 46746437.60241995}, {\"event\": \"cobranding\", \"revenue\": 49101.47, \"group_avg\": 38288.11901595745, \"total_avg\": 38475.476652314326, \"square_diff\": 112911734.62506022}, {\"event\": \"special\", \"revenue\": 50771.07, \"group_avg\": 39237.94054545455, \"total_avg\": 38475.476652314326, \"square_diff\": 151181615.7716522}, {\"event\": \"special\", \"revenue\": 24196.68, \"group_avg\": 39237.94054545455, \"total_avg\": 38475.476652314326, \"square_diff\": 203884033.8381428}, {\"event\": \"cobranding\", \"revenue\": 27856.08, \"group_avg\": 38288.11901595745, \"total_avg\": 38475.476652314326, \"square_diff\": 112771585.25918469}, {\"event\": \"special\", \"revenue\": 47825.43, \"group_avg\": 39237.94054545455, \"total_avg\": 38475.476652314326, \"square_diff\": 87421627.60389854}, {\"event\": \"cobranding\", \"revenue\": 37788.81, \"group_avg\": 38288.11901595745, \"total_avg\": 38475.476652314326, \"square_diff\": 471511.0914005669}, {\"event\": \"cobranding\", \"revenue\": 37773.69, \"group_avg\": 38288.11901595745, \"total_avg\": 38475.476652314326, \"square_diff\": 492504.5053665457}, {\"event\": \"special\", \"revenue\": 19019.47, \"group_avg\": 39237.94054545455, \"total_avg\": 38475.476652314326, \"square_diff\": 378536194.8548993}, {\"event\": \"cobranding\", \"revenue\": 42745.11, \"group_avg\": 38288.11901595745, \"total_avg\": 38475.476652314326, \"square_diff\": 18229768.92366958}, {\"event\": \"cobranding\", \"revenue\": 52196.35, \"group_avg\": 38288.11901595745, \"total_avg\": 38475.476652314326, \"square_diff\": 188262365.42323104}, {\"event\": \"cobranding\", \"revenue\": 31426.68, \"group_avg\": 38288.11901595745, \"total_avg\": 38475.476652314326, \"square_diff\": 49685534.24567765}, {\"event\": \"cobranding\", \"revenue\": 34242.61, \"group_avg\": 38288.11901595745, \"total_avg\": 38475.476652314326, \"square_diff\": 17917160.096274685}, {\"event\": \"special\", \"revenue\": 41873.84, \"group_avg\": 39237.94054545455, \"total_avg\": 38475.476652314326, \"square_diff\": 11548873.442893356}, {\"event\": \"holiday\", \"revenue\": 47444.54, \"group_avg\": 37871.49489583333, \"total_avg\": 38475.476652314326, \"square_diff\": 80444097.33479856}, {\"event\": \"cobranding\", \"revenue\": 25828.04, \"group_avg\": 38288.11901595745, \"total_avg\": 38475.476652314326, \"square_diff\": 159957653.8743038}, {\"event\": \"special\", \"revenue\": 63702.1, \"group_avg\": 39237.94054545455, \"total_avg\": 38475.476652314326, \"square_diff\": 636382525.5259999}, {\"event\": \"non_event\", \"revenue\": 57651.25, \"group_avg\": 38029.0543956044, \"total_avg\": 38475.476652314326, \"square_diff\": 367710283.48181224}, {\"event\": \"special\", \"revenue\": 36616.53, \"group_avg\": 39237.94054545455, \"total_avg\": 38475.476652314326, \"square_diff\": 3455682.6561506446}, {\"event\": \"special\", \"revenue\": 42007.8, \"group_avg\": 39237.94054545455, \"total_avg\": 38475.476652314326, \"square_diff\": 12477308.232605346}, {\"event\": \"cobranding\", \"revenue\": 30470.71, \"group_avg\": 38288.11901595745, \"total_avg\": 38475.476652314326, \"square_diff\": 64076289.15800352}, {\"event\": \"special\", \"revenue\": 60831.03, \"group_avg\": 39237.94054545455, \"total_avg\": 38475.476652314326, \"square_diff\": 499770765.48122007}, {\"event\": \"cobranding\", \"revenue\": 39436.39, \"group_avg\": 38288.11901595745, \"total_avg\": 38475.476652314326, \"square_diff\": 923354.4617604875}, {\"event\": \"cobranding\", \"revenue\": 36997.37, \"group_avg\": 38288.11901595745, \"total_avg\": 38475.476652314326, \"square_diff\": 2184799.2756158565}, {\"event\": \"special\", \"revenue\": 38225.81, \"group_avg\": 39237.94054545455, \"total_avg\": 38475.476652314326, \"square_diff\": 62333.437277843805}, {\"event\": \"cobranding\", \"revenue\": 32363.56, \"group_avg\": 38288.11901595745, \"total_avg\": 38475.476652314326, \"square_diff\": 37355525.164837144}, {\"event\": \"non_event\", \"revenue\": 59271.59, \"group_avg\": 38029.0543956044, \"total_avg\": 38475.476652314326, \"square_diff\": 432478330.3697901}, {\"event\": \"non_event\", \"revenue\": 26813.65, \"group_avg\": 38029.0543956044, \"total_avg\": 38475.476652314326, \"square_diff\": 135998200.86862874}, {\"event\": \"cobranding\", \"revenue\": 25632.79, \"group_avg\": 38288.11901595745, \"total_avg\": 38475.476652314326, \"square_diff\": 164934600.44953254}, {\"event\": \"special\", \"revenue\": 38159.11, \"group_avg\": 39237.94054545455, \"total_avg\": 38475.476652314326, \"square_diff\": 100087.8586965734}, {\"event\": \"cobranding\", \"revenue\": 21067.02, \"group_avg\": 38288.11901595745, \"total_avg\": 38475.476652314326, \"square_diff\": 303054363.0155069}, {\"event\": \"cobranding\", \"revenue\": 18878.57, \"group_avg\": 38288.11901595745, \"total_avg\": 38475.476652314326, \"square_diff\": 384038750.3395215}, {\"event\": \"holiday\", \"revenue\": 30709.87, \"group_avg\": 37871.49489583333, \"total_avg\": 38475.476652314326, \"square_diff\": 60304646.67846853}, {\"event\": \"special\", \"revenue\": 41497.2, \"group_avg\": 39237.94054545455, \"total_avg\": 38475.476652314326, \"square_diff\": 9130811.989948697}, {\"event\": \"non_event\", \"revenue\": 40192.34, \"group_avg\": 38029.0543956044, \"total_avg\": 38475.476652314326, \"square_diff\": 2947619.754626447}, {\"event\": \"cobranding\", \"revenue\": 34349.84, \"group_avg\": 38288.11901595745, \"total_avg\": 38475.476652314326, \"square_diff\": 17020877.78691939}, {\"event\": \"non_event\", \"revenue\": 34352.83, \"group_avg\": 38029.0543956044, \"total_avg\": 38475.476652314326, \"square_diff\": 16996215.419838507}, {\"event\": \"cobranding\", \"revenue\": 26189.18, \"group_avg\": 38288.11901595745, \"total_avg\": 38475.476652314326, \"square_diff\": 150953085.4286702}, {\"event\": \"cobranding\", \"revenue\": 44480.0, \"group_avg\": 38288.11901595745, \"total_avg\": 38475.476652314326, \"square_diff\": 36054300.63290237}, {\"event\": \"holiday\", \"revenue\": 42878.43, \"group_avg\": 37871.49489583333, \"total_avg\": 38475.476652314326, \"square_diff\": 19385998.181896485}, {\"event\": \"special\", \"revenue\": 28006.95, \"group_avg\": 39237.94054545455, \"total_avg\": 38475.476652314326, \"square_diff\": 109590050.27021538}, {\"event\": \"non_event\", \"revenue\": 52473.15, \"group_avg\": 38029.0543956044, \"total_avg\": 38475.476652314326, \"square_diff\": 195934859.1485099}, {\"event\": \"special\", \"revenue\": 41624.78, \"group_avg\": 39237.94054545455, \"total_avg\": 38475.476652314326, \"square_diff\": 9918111.575744184}, {\"event\": \"special\", \"revenue\": 35451.16, \"group_avg\": 39237.94054545455, \"total_avg\": 38475.476652314326, \"square_diff\": 9146491.213465711}, {\"event\": \"special\", \"revenue\": 39133.33, \"group_avg\": 39237.94054545455, \"total_avg\": 38475.476652314326, \"square_diff\": 432771.0270612503}, {\"event\": \"non_event\", \"revenue\": 33024.04, \"group_avg\": 38029.0543956044, \"total_avg\": 38475.476652314326, \"square_diff\": 29718161.57419602}, {\"event\": \"cobranding\", \"revenue\": 49263.31, \"group_avg\": 38288.11901595745, \"total_avg\": 38475.476652314326, \"square_diff\": 116377348.33743905}, {\"event\": \"non_event\", \"revenue\": 36679.4, \"group_avg\": 38029.0543956044, \"total_avg\": 38475.476652314326, \"square_diff\": 3225891.340988632}, {\"event\": \"non_event\", \"revenue\": 21316.33, \"group_avg\": 38029.0543956044, \"total_avg\": 38475.476652314326, \"square_diff\": 294436313.8356299}, {\"event\": \"cobranding\", \"revenue\": 37717.6, \"group_avg\": 38288.11901595745, \"total_avg\": 38475.476652314326, \"square_diff\": 574377.0201231723}, {\"event\": \"holiday\", \"revenue\": 25625.48, \"group_avg\": 37871.49489583333, \"total_avg\": 38475.476652314326, \"square_diff\": 165122413.9644894}, {\"event\": \"cobranding\", \"revenue\": 25451.94, \"group_avg\": 38288.11901595745, \"total_avg\": 38475.476652314326, \"square_diff\": 169612506.9341747}, {\"event\": \"cobranding\", \"revenue\": 42856.94, \"group_avg\": 38288.11901595745, \"total_avg\": 38475.476652314326, \"square_diff\": 19197221.06711297}, {\"event\": \"non_event\", \"revenue\": 31817.16, \"group_avg\": 38029.0543956044, \"total_avg\": 38475.476652314326, \"square_diff\": 44333180.64248626}, {\"event\": \"non_event\", \"revenue\": 44587.41, \"group_avg\": 38029.0543956044, \"total_avg\": 38475.476652314326, \"square_diff\": 37355729.24655225}, {\"event\": \"cobranding\", \"revenue\": 13086.27, \"group_avg\": 38288.11901595745, \"total_avg\": 38475.476652314326, \"square_diff\": 644611814.433922}, {\"event\": \"special\", \"revenue\": 45914.96, \"group_avg\": 39237.94054545455, \"total_avg\": 38475.476652314326, \"square_diff\": 55345912.48049243}, {\"event\": \"special\", \"revenue\": 34572.85, \"group_avg\": 39237.94054545455, \"total_avg\": 38475.476652314326, \"square_diff\": 15230494.787354136}, {\"event\": \"cobranding\", \"revenue\": 35882.32, \"group_avg\": 38288.11901595745, \"total_avg\": 38475.476652314326, \"square_diff\": 6724461.423442045}, {\"event\": \"special\", \"revenue\": 47333.58, \"group_avg\": 39237.94054545455, \"total_avg\": 38475.476652314326, \"square_diff\": 78465994.91828017}, {\"event\": \"cobranding\", \"revenue\": 42009.11, \"group_avg\": 38288.11901595745, \"total_avg\": 38475.476652314326, \"square_diff\": 12486564.635876266}, {\"event\": \"cobranding\", \"revenue\": 34115.27, \"group_avg\": 38288.11901595745, \"total_avg\": 38475.476652314326, \"square_diff\": 19011402.05088613}, {\"event\": \"cobranding\", \"revenue\": 21825.76, \"group_avg\": 38288.11901595745, \"total_avg\": 38475.476652314326, \"square_diff\": 277213064.60235304}, {\"event\": \"non_event\", \"revenue\": 45718.27, \"group_avg\": 38029.0543956044, \"total_avg\": 38475.476652314326, \"square_diff\": 52458055.477279805}, {\"event\": \"cobranding\", \"revenue\": 20997.59, \"group_avg\": 38288.11901595745, \"total_avg\": 38475.476652314326, \"square_diff\": 305476521.83114725}, {\"event\": \"non_event\", \"revenue\": 69429.39, \"group_avg\": 38029.0543956044, \"total_avg\": 38475.476652314326, \"square_diff\": 958144751.5360333}, {\"event\": \"non_event\", \"revenue\": 26330.85, \"group_avg\": 38029.0543956044, \"total_avg\": 38475.476652314326, \"square_diff\": 147491956.52410352}, {\"event\": \"special\", \"revenue\": 26162.8, \"group_avg\": 39237.94054545455, \"total_avg\": 38475.476652314326, \"square_diff\": 151602006.34444633}, {\"event\": \"cobranding\", \"revenue\": 35172.44, \"group_avg\": 38288.11901595745, \"total_avg\": 38475.476652314326, \"square_diff\": 10910051.126531815}, {\"event\": \"cobranding\", \"revenue\": 35052.49, \"group_avg\": 38288.11901595745, \"total_avg\": 38475.476652314326, \"square_diff\": 11716837.621922052}, {\"event\": \"cobranding\", \"revenue\": 25643.62, \"group_avg\": 38288.11901595745, \"total_avg\": 38475.476652314326, \"square_diff\": 164656545.14554346}, {\"event\": \"non_event\", \"revenue\": 44117.41, \"group_avg\": 38029.0543956044, \"total_avg\": 38475.476652314326, \"square_diff\": 31831411.899727713}, {\"event\": \"special\", \"revenue\": 36938.32, \"group_avg\": 39237.94054545455, \"total_avg\": 38475.476652314326, \"square_diff\": 2362850.573754187}, {\"event\": \"non_event\", \"revenue\": 35444.97, \"group_avg\": 38029.0543956044, \"total_avg\": 38475.476652314326, \"square_diff\": 9183970.569721377}, {\"event\": \"non_event\", \"revenue\": 42181.81, \"group_avg\": 38029.0543956044, \"total_avg\": 38475.476652314326, \"square_diff\": 13736906.884166876}, {\"event\": \"cobranding\", \"revenue\": 39653.67, \"group_avg\": 38288.11901595745, \"total_avg\": 38475.476652314326, \"square_diff\": 1388139.564530771}, {\"event\": \"special\", \"revenue\": 35969.19, \"group_avg\": 39237.94054545455, \"total_avg\": 38475.476652314326, \"square_diff\": 6281472.78356894}, {\"event\": \"non_event\", \"revenue\": 18724.9, \"group_avg\": 38029.0543956044, \"total_avg\": 38475.476652314326, \"square_diff\": 390085278.0989437}, {\"event\": \"special\", \"revenue\": 36601.17, \"group_avg\": 39237.94054545455, \"total_avg\": 38475.476652314326, \"square_diff\": 3513025.426909743}, {\"event\": \"special\", \"revenue\": 23568.94, \"group_avg\": 39237.94054545455, \"total_avg\": 38475.476652314326, \"square_diff\": 222204834.96679044}, {\"event\": \"holiday\", \"revenue\": 57970.72, \"group_avg\": 37871.49489583333, \"total_avg\": 38475.476652314326, \"square_diff\": 380064513.18548256}, {\"event\": \"cobranding\", \"revenue\": 40901.57, \"group_avg\": 38288.11901595745, \"total_avg\": 38475.476652314326, \"square_diff\": 5885928.931684678}, {\"event\": \"special\", \"revenue\": 56984.93, \"group_avg\": 39237.94054545455, \"total_avg\": 38475.476652314326, \"square_diff\": 342599863.2301524}, {\"event\": \"cobranding\", \"revenue\": 31859.55, \"group_avg\": 38288.11901595745, \"total_avg\": 38475.476652314326, \"square_diff\": 43770485.468803056}, {\"event\": \"non_event\", \"revenue\": 37796.69, \"group_avg\": 38029.0543956044, \"total_avg\": 38475.476652314326, \"square_diff\": 460751.3193600868}, {\"event\": \"cobranding\", \"revenue\": 79342.07, \"group_avg\": 38288.11901595745, \"total_avg\": 38475.476652314326, \"square_diff\": 1670078451.8451076}, {\"event\": \"cobranding\", \"revenue\": 30283.01, \"group_avg\": 38288.11901595745, \"total_avg\": 38475.476652314326, \"square_diff\": 67116509.84928232}, {\"event\": \"cobranding\", \"revenue\": 27925.02, \"group_avg\": 38288.11901595745, \"total_avg\": 38475.476652314326, \"square_diff\": 111312135.57236362}, {\"event\": \"holiday\", \"revenue\": 50831.75, \"group_avg\": 37871.49489583333, \"total_avg\": 38475.476652314326, \"square_diff\": 152677491.04272732}, {\"event\": \"cobranding\", \"revenue\": 37505.68, \"group_avg\": 38288.11901595745, \"total_avg\": 38475.476652314326, \"square_diff\": 940505.5468400735}, {\"event\": \"special\", \"revenue\": 17884.83, \"group_avg\": 39237.94054545455, \"total_avg\": 38475.476652314326, \"square_diff\": 423974729.5604631}, {\"event\": \"special\", \"revenue\": 19162.18, \"group_avg\": 39237.94054545455, \"total_avg\": 38475.476652314326, \"square_diff\": 373003427.58029574}, {\"event\": \"special\", \"revenue\": 54174.34, \"group_avg\": 39237.94054545455, \"total_avg\": 38475.476652314326, \"square_diff\": 246454310.40930852}, {\"event\": \"cobranding\", \"revenue\": 33712.36, \"group_avg\": 38288.11901595745, \"total_avg\": 38475.476652314326, \"square_diff\": 22687280.24355403}, {\"event\": \"non_event\", \"revenue\": 45304.25, \"group_avg\": 38029.0543956044, \"total_avg\": 38475.476652314326, \"square_diff\": 46632145.434062205}, {\"event\": \"special\", \"revenue\": 55430.55, \"group_avg\": 39237.94054545455, \"total_avg\": 38475.476652314326, \"square_diff\": 287474512.22540116}, {\"event\": \"non_event\", \"revenue\": 35882.66, \"group_avg\": 38029.0543956044, \"total_avg\": 38475.476652314326, \"square_diff\": 6722698.192518451}, {\"event\": \"cobranding\", \"revenue\": 54132.81, \"group_avg\": 38288.11901595745, \"total_avg\": 38475.476652314326, \"square_diff\": 245152087.5605498}, {\"event\": \"special\", \"revenue\": 39234.34, \"group_avg\": 39237.94054545455, \"total_avg\": 38475.476652314326, \"square_diff\": 575873.5804607025}, {\"event\": \"cobranding\", \"revenue\": 54190.67, \"group_avg\": 38288.11901595745, \"total_avg\": 38475.476652314326, \"square_diff\": 246967301.955144}, {\"event\": \"non_event\", \"revenue\": 36693.49, \"group_avg\": 38029.0543956044, \"total_avg\": 38475.476652314326, \"square_diff\": 3175476.4290264267}, {\"event\": \"special\", \"revenue\": 32560.58, \"group_avg\": 39237.94054545455, \"total_avg\": 38475.476652314326, \"square_diff\": 34986002.4075592}, {\"event\": \"non_event\", \"revenue\": 36033.51, \"group_avg\": 38029.0543956044, \"total_avg\": 38475.476652314326, \"square_diff\": 5963201.131015227}, {\"event\": \"special\", \"revenue\": 46700.35, \"group_avg\": 39237.94054545455, \"total_avg\": 38475.476652314326, \"square_diff\": 67648541.58547013}, {\"event\": \"cobranding\", \"revenue\": 29193.63, \"group_avg\": 38288.11901595745, \"total_avg\": 38475.476652314326, \"square_diff\": 86152677.27707864}, {\"event\": \"special\", \"revenue\": 29277.32, \"group_avg\": 39237.94054545455, \"total_avg\": 38475.476652314326, \"square_diff\": 84606085.8005143}, {\"event\": \"special\", \"revenue\": 36899.47, \"group_avg\": 39237.94054545455, \"total_avg\": 38475.476652314326, \"square_diff\": 2483796.968139006}, {\"event\": \"special\", \"revenue\": 39553.13, \"group_avg\": 39237.94054545455, \"total_avg\": 38475.476652314326, \"square_diff\": 1161336.7377781342}, {\"event\": \"special\", \"revenue\": 49314.11, \"group_avg\": 39237.94054545455, \"total_avg\": 38475.476652314326, \"square_diff\": 117475972.84556396}, {\"event\": \"cobranding\", \"revenue\": 46012.68, \"group_avg\": 38288.11901595745, \"total_avg\": 38475.476652314326, \"square_diff\": 56809434.30436413}, {\"event\": \"special\", \"revenue\": 29993.43, \"group_avg\": 39237.94054545455, \"total_avg\": 38475.476652314326, \"square_diff\": 71945115.41203666}, {\"event\": \"holiday\", \"revenue\": 31946.87, \"group_avg\": 37871.49489583333, \"total_avg\": 38475.476652314326, \"square_diff\": 42622704.82064289}, {\"event\": \"cobranding\", \"revenue\": 35474.26, \"group_avg\": 38288.11901595745, \"total_avg\": 38475.476652314326, \"square_diff\": 9007301.3941288}, {\"event\": \"cobranding\", \"revenue\": 27711.35, \"group_avg\": 38288.11901595745, \"total_avg\": 38475.476652314326, \"square_diff\": 115866422.58706366}, {\"event\": \"cobranding\", \"revenue\": 33431.9, \"group_avg\": 38288.11901595745, \"total_avg\": 38475.476652314326, \"square_diff\": 25437665.44777017}, {\"event\": \"cobranding\", \"revenue\": 48701.09, \"group_avg\": 38288.11901595745, \"total_avg\": 38475.476652314326, \"square_diff\": 104563168.33636734}, {\"event\": \"cobranding\", \"revenue\": 50787.37, \"group_avg\": 38288.11901595745, \"total_avg\": 38475.476652314326, \"square_diff\": 151582717.8047868}, {\"event\": \"special\", \"revenue\": 32527.33, \"group_avg\": 39237.94054545455, \"total_avg\": 38475.476652314326, \"square_diff\": 35380448.597438104}, {\"event\": \"cobranding\", \"revenue\": 20974.55, \"group_avg\": 38288.11901595745, \"total_avg\": 38475.476652314326, \"square_diff\": 306282433.68968594}, {\"event\": \"cobranding\", \"revenue\": 34405.59, \"group_avg\": 38288.11901595745, \"total_avg\": 38475.476652314326, \"square_diff\": 16563977.362686342}, {\"event\": \"cobranding\", \"revenue\": 59142.15, \"group_avg\": 38288.11901595745, \"total_avg\": 38475.476652314326, \"square_diff\": 427111387.25994146}, {\"event\": \"special\", \"revenue\": 47785.41, \"group_avg\": 39237.94054545455, \"total_avg\": 38475.476652314326, \"square_diff\": 86674858.93834984}, {\"event\": \"cobranding\", \"revenue\": 42459.94, \"group_avg\": 38288.11901595745, \"total_avg\": 38475.476652314326, \"square_diff\": 15875948.169050545}, {\"event\": \"special\", \"revenue\": 24297.69, \"group_avg\": 39237.94054545455, \"total_avg\": 38475.476652314326, \"square_diff\": 201009634.3585423}, {\"event\": \"special\", \"revenue\": 47520.1, \"group_avg\": 39237.94054545455, \"total_avg\": 38475.476652314326, \"square_diff\": 81805211.50150079}, {\"event\": \"non_event\", \"revenue\": 29669.37, \"group_avg\": 38029.0543956044, \"total_avg\": 38475.476652314326, \"square_diff\": 77547514.37193465}, {\"event\": \"special\", \"revenue\": 55121.37, \"group_avg\": 39237.94054545455, \"total_avg\": 38475.476652314326, \"square_diff\": 277085765.34252626}, {\"event\": \"non_event\", \"revenue\": 36803.21, \"group_avg\": 38029.0543956044, \"total_avg\": 38475.476652314326, \"square_diff\": 2796475.7564425664}, {\"event\": \"cobranding\", \"revenue\": 50974.45, \"group_avg\": 38288.11901595745, \"total_avg\": 38475.476652314326, \"square_diff\": 156224334.74615675}, {\"event\": \"cobranding\", \"revenue\": 35128.18, \"group_avg\": 38288.11901595745, \"total_avg\": 38475.476652314326, \"square_diff\": 11204394.878594693}, {\"event\": \"special\", \"revenue\": 36485.31, \"group_avg\": 39237.94054545455, \"total_avg\": 38475.476652314326, \"square_diff\": 3960763.3039840213}, {\"event\": \"cobranding\", \"revenue\": 12773.19, \"group_avg\": 38288.11901595745, \"total_avg\": 38475.476652314326, \"square_diff\": 660607539.1577351}, {\"event\": \"cobranding\", \"revenue\": 25690.76, \"group_avg\": 38288.11901595745, \"total_avg\": 38475.476652314326, \"square_diff\": 163448979.87996328}, {\"event\": \"cobranding\", \"revenue\": 47842.85, \"group_avg\": 38288.11901595745, \"total_avg\": 38475.476652314326, \"square_diff\": 87747683.43493187}, {\"event\": \"cobranding\", \"revenue\": 35920.67, \"group_avg\": 38288.11901595745, \"total_avg\": 38475.476652314326, \"square_diff\": 6527037.030709543}, {\"event\": \"special\", \"revenue\": 49784.7, \"group_avg\": 39237.94054545455, \"total_avg\": 38475.476652314326, \"square_diff\": 127898532.7278387}, {\"event\": \"special\", \"revenue\": 29677.54, \"group_avg\": 39237.94054545455, \"total_avg\": 38475.476652314326, \"square_diff\": 77403689.3381358}, {\"event\": \"cobranding\", \"revenue\": 31153.0, \"group_avg\": 38288.11901595745, \"total_avg\": 38475.476652314326, \"square_diff\": 53618664.323688425}, {\"event\": \"holiday\", \"revenue\": 25615.24, \"group_avg\": 37871.49489583333, \"total_avg\": 38475.476652314326, \"square_diff\": 165385686.75352874}, {\"event\": \"cobranding\", \"revenue\": 36693.4, \"group_avg\": 38288.11901595745, \"total_avg\": 38475.476652314326, \"square_diff\": 3175797.1947238306}, {\"event\": \"non_event\", \"revenue\": 38193.35, \"group_avg\": 38029.0543956044, \"total_avg\": 38475.476652314326, \"square_diff\": 79595.44794608952}, {\"event\": \"non_event\", \"revenue\": 29913.38, \"group_avg\": 38029.0543956044, \"total_avg\": 38475.476652314326, \"square_diff\": 73309499.08357218}, {\"event\": \"non_event\", \"revenue\": 41154.82, \"group_avg\": 38029.0543956044, \"total_avg\": 38475.476652314326, \"square_diff\": 7178880.774787472}, {\"event\": \"special\", \"revenue\": 42131.06, \"group_avg\": 39237.94054545455, \"total_avg\": 38475.476652314326, \"square_diff\": 13363289.61187678}, {\"event\": \"cobranding\", \"revenue\": 32954.9, \"group_avg\": 38288.11901595745, \"total_avg\": 38475.476652314326, \"square_diff\": 30476766.57407804}, {\"event\": \"special\", \"revenue\": 29190.98, \"group_avg\": 39237.94054545455, \"total_avg\": 38475.476652314326, \"square_diff\": 86201878.08683594}, {\"event\": \"non_event\", \"revenue\": 45901.75, \"group_avg\": 38029.0543956044, \"total_avg\": 38475.476652314326, \"square_diff\": 55149535.83454658}, {\"event\": \"special\", \"revenue\": 19123.95, \"group_avg\": 39237.94054545455, \"total_avg\": 38475.476652314326, \"square_diff\": 374481583.77523166}, {\"event\": \"non_event\", \"revenue\": 51281.73, \"group_avg\": 38029.0543956044, \"total_avg\": 38475.476652314326, \"square_diff\": 164000124.8051106}, {\"event\": \"holiday\", \"revenue\": 20508.31, \"group_avg\": 37871.49489583333, \"total_avg\": 38475.476652314326, \"square_diff\": 322819077.51203597}, {\"event\": \"non_event\", \"revenue\": 41382.63, \"group_avg\": 38029.0543956044, \"total_avg\": 38475.476652314326, \"square_diff\": 8451540.586960005}, {\"event\": \"non_event\", \"revenue\": 49439.77, \"group_avg\": 38029.0543956044, \"total_avg\": 38475.476652314326, \"square_diff\": 120215728.61410426}, {\"event\": \"cobranding\", \"revenue\": 46565.81, \"group_avg\": 38288.11901595745, \"total_avg\": 38475.476652314326, \"square_diff\": 65453493.67667484}, {\"event\": \"holiday\", \"revenue\": 37513.78, \"group_avg\": 37871.49489583333, \"total_avg\": 38475.476652314326, \"square_diff\": 924860.4510725843}, {\"event\": \"special\", \"revenue\": 33365.95, \"group_avg\": 39237.94054545455, \"total_avg\": 38475.476652314326, \"square_diff\": 26107262.610710476}, {\"event\": \"non_event\", \"revenue\": 33673.16, \"group_avg\": 38029.0543956044, \"total_avg\": 38475.476652314326, \"square_diff\": 23062245.229095444}, {\"event\": \"non_event\", \"revenue\": 40150.37, \"group_avg\": 38029.0543956044, \"total_avg\": 38475.476652314326, \"square_diff\": 2805267.726121732}, {\"event\": \"cobranding\", \"revenue\": 40967.4, \"group_avg\": 38288.11901595745, \"total_avg\": 38475.476652314326, \"square_diff\": 6209681.970740982}, {\"event\": \"cobranding\", \"revenue\": 42434.11, \"group_avg\": 38288.11901595745, \"total_avg\": 38475.476652314326, \"square_diff\": 15670777.98140909}, {\"event\": \"cobranding\", \"revenue\": 46033.02, \"group_avg\": 38288.11901595745, \"total_avg\": 38475.476652314326, \"square_diff\": 57116461.45214793}, {\"event\": \"cobranding\", \"revenue\": 61349.56, \"group_avg\": 38288.11901595745, \"total_avg\": 38475.476652314326, \"square_diff\": 523223688.99687093}, {\"event\": \"holiday\", \"revenue\": 34834.28, \"group_avg\": 37871.49489583333, \"total_avg\": 38475.476652314326, \"square_diff\": 13258313.060825065}, {\"event\": \"non_event\", \"revenue\": 32433.77, \"group_avg\": 38029.0543956044, \"total_avg\": 38475.476652314326, \"square_diff\": 36502219.27261918}, {\"event\": \"special\", \"revenue\": 40570.7, \"group_avg\": 39237.94054545455, \"total_avg\": 38475.476652314326, \"square_diff\": 4389960.8766871495}, {\"event\": \"cobranding\", \"revenue\": 56731.17, \"group_avg\": 38288.11901595745, \"total_avg\": 38475.476652314326, \"square_diff\": 333270339.6047349}, {\"event\": \"cobranding\", \"revenue\": 44818.42, \"group_avg\": 38288.11901595745, \"total_avg\": 38475.476652314326, \"square_diff\": 40232930.31194992}, {\"event\": \"holiday\", \"revenue\": 30463.55, \"group_avg\": 37871.49489583333, \"total_avg\": 38475.476652314326, \"square_diff\": 64190968.68206466}, {\"event\": \"cobranding\", \"revenue\": 45806.28, \"group_avg\": 38288.11901595745, \"total_avg\": 38475.476652314326, \"square_diff\": 53740677.72243947}, {\"event\": \"non_event\", \"revenue\": 45646.66, \"group_avg\": 38029.0543956044, \"total_avg\": 38475.476652314326, \"square_diff\": 51425870.60612436}, {\"event\": \"cobranding\", \"revenue\": 50755.75, \"group_avg\": 38288.11901595745, \"total_avg\": 38475.476652314326, \"square_diff\": 150805113.4938791}, {\"event\": \"non_event\", \"revenue\": 25984.08, \"group_avg\": 38029.0543956044, \"total_avg\": 38475.476652314326, \"square_diff\": 156034990.32544953}, {\"event\": \"special\", \"revenue\": 22284.54, \"group_avg\": 39237.94054545455, \"total_avg\": 38475.476652314326, \"square_diff\": 262146429.67925543}, {\"event\": \"non_event\", \"revenue\": 44675.03, \"group_avg\": 38029.0543956044, \"total_avg\": 38475.476652314326, \"square_diff\": 38434461.71080063}, {\"event\": \"cobranding\", \"revenue\": 36379.17, \"group_avg\": 38288.11901595745, \"total_avg\": 38475.476652314326, \"square_diff\": 4394501.580537304}, {\"event\": \"holiday\", \"revenue\": 44281.06, \"group_avg\": 37871.49489583333, \"total_avg\": 38475.476652314326, \"square_diff\": 33704798.006925166}, {\"event\": \"special\", \"revenue\": 54634.7, \"group_avg\": 39237.94054545455, \"total_avg\": 38475.476652314326, \"square_diff\": 261120499.2003897}, {\"event\": \"cobranding\", \"revenue\": 39092.52, \"group_avg\": 38288.11901595745, \"total_avg\": 38475.476652314326, \"square_diff\": 380742.49292313936}, {\"event\": \"non_event\", \"revenue\": 36599.0, \"group_avg\": 38029.0543956044, \"total_avg\": 38475.476652314326, \"square_diff\": 3521164.6266807807}, {\"event\": \"special\", \"revenue\": 29531.04, \"group_avg\": 39237.94054545455, \"total_avg\": 38475.476652314326, \"square_diff\": 80002947.0272639}, {\"event\": \"cobranding\", \"revenue\": 43255.52, \"group_avg\": 38288.11901595745, \"total_avg\": 38475.476652314326, \"square_diff\": 22848814.405754033}, {\"event\": \"holiday\", \"revenue\": 38863.73, \"group_avg\": 37871.49489583333, \"total_avg\": 38475.476652314326, \"square_diff\": 150740.6619891352}, {\"event\": \"special\", \"revenue\": 43000.19, \"group_avg\": 39237.94054545455, \"total_avg\": 38475.476652314326, \"square_diff\": 20473030.878724918}, {\"event\": \"non_event\", \"revenue\": 46209.51, \"group_avg\": 38029.0543956044, \"total_avg\": 38475.476652314326, \"square_diff\": 59815271.823114105}, {\"event\": \"special\", \"revenue\": 49781.7, \"group_avg\": 39237.94054545455, \"total_avg\": 38475.476652314326, \"square_diff\": 127830686.38775258}, {\"event\": \"cobranding\", \"revenue\": 28218.24, \"group_avg\": 38288.11901595745, \"total_avg\": 38475.476652314326, \"square_diff\": 105210903.74158037}, {\"event\": \"cobranding\", \"revenue\": 41200.79, \"group_avg\": 38288.11901595745, \"total_avg\": 38475.476652314326, \"square_diff\": 7427332.843073699}, {\"event\": \"cobranding\", \"revenue\": 31381.72, \"group_avg\": 38288.11901595745, \"total_avg\": 38475.476652314326, \"square_diff\": 50321383.44225374}, {\"event\": \"cobranding\", \"revenue\": 48141.49, \"group_avg\": 38288.11901595745, \"total_avg\": 38475.476652314326, \"square_diff\": 93431814.03763756}, {\"event\": \"special\", \"revenue\": 53389.9, \"group_avg\": 39237.94054545455, \"total_avg\": 38475.476652314326, \"square_diff\": 222440023.7939916}, {\"event\": \"non_event\", \"revenue\": 40021.64, \"group_avg\": 38029.0543956044, \"total_avg\": 38475.476652314326, \"square_diff\": 2390621.097726568}, {\"event\": \"special\", \"revenue\": 36826.52, \"group_avg\": 39237.94054545455, \"total_avg\": 38475.476652314326, \"square_diff\": 2719058.04121168}, {\"event\": \"special\", \"revenue\": 38840.98, \"group_avg\": 39237.94054545455, \"total_avg\": 38475.476652314326, \"square_diff\": 133592.6971694369}, {\"event\": \"cobranding\", \"revenue\": 60789.94, \"group_avg\": 38288.11901595745, \"total_avg\": 38475.476652314326, \"square_diff\": 497935274.4952074}, {\"event\": \"holiday\", \"revenue\": 48825.77, \"group_avg\": 37871.49489583333, \"total_avg\": 38475.476652314326, \"square_diff\": 107128572.38314624}, {\"event\": \"special\", \"revenue\": 34007.09, \"group_avg\": 39237.94054545455, \"total_avg\": 38475.476652314326, \"square_diff\": 19966479.274580862}, {\"event\": \"cobranding\", \"revenue\": 32459.56, \"group_avg\": 38288.11901595745, \"total_avg\": 38475.476652314326, \"square_diff\": 36191253.16759279}, {\"event\": \"cobranding\", \"revenue\": 43150.56, \"group_avg\": 38288.11901595745, \"total_avg\": 38475.476652314326, \"square_diff\": 21856404.307807866}, {\"event\": \"cobranding\", \"revenue\": 44493.61, \"group_avg\": 38288.11901595745, \"total_avg\": 38475.476652314326, \"square_diff\": 36217928.990526386}, {\"event\": \"cobranding\", \"revenue\": 49586.48, \"group_avg\": 38288.11901595745, \"total_avg\": 38475.476652314326, \"square_diff\": 123454395.39228232}, {\"event\": \"cobranding\", \"revenue\": 25519.52, \"group_avg\": 38288.11901595745, \"total_avg\": 38475.476652314326, \"square_diff\": 167856812.77664784}, {\"event\": \"special\", \"revenue\": 56895.72, \"group_avg\": 39237.94054545455, \"total_avg\": 38475.476652314326, \"square_diff\": 339305364.9879584}, {\"event\": \"cobranding\", \"revenue\": 55866.49, \"group_avg\": 38288.11901595745, \"total_avg\": 38475.476652314326, \"square_diff\": 302447345.2593812}, {\"event\": \"special\", \"revenue\": 28854.15, \"group_avg\": 39237.94054545455, \"total_avg\": 38475.476652314326, \"square_diff\": 92569926.55053397}, {\"event\": \"special\", \"revenue\": 33264.83, \"group_avg\": 39237.94054545455, \"total_avg\": 38475.476652314326, \"square_diff\": 27150838.535274476}, {\"event\": \"non_event\", \"revenue\": 27701.59, \"group_avg\": 38029.0543956044, \"total_avg\": 38475.476652314326, \"square_diff\": 116076633.5969168}, {\"event\": \"non_event\", \"revenue\": 37920.19, \"group_avg\": 38029.0543956044, \"total_avg\": 38475.476652314326, \"square_diff\": 308343.2662384488}, {\"event\": \"special\", \"revenue\": 27875.45, \"group_avg\": 39237.94054545455, \"total_avg\": 38475.476652314326, \"square_diff\": 112360565.02977404}, {\"event\": \"cobranding\", \"revenue\": 56721.03, \"group_avg\": 38288.11901595745, \"total_avg\": 38475.476652314326, \"square_diff\": 332900216.96324384}, {\"event\": \"non_event\", \"revenue\": 25739.86, \"group_avg\": 38029.0543956044, \"total_avg\": 38475.476652314326, \"square_diff\": 162195931.51470596}, {\"event\": \"special\", \"revenue\": 13614.72, \"group_avg\": 39237.94054545455, \"total_avg\": 38475.476652314326, \"square_diff\": 618057221.325591}, {\"event\": \"special\", \"revenue\": 50034.35, \"group_avg\": 39237.94054545455, \"total_avg\": 38475.476652314326, \"square_diff\": 133607553.06783818}, {\"event\": \"cobranding\", \"revenue\": 64424.11, \"group_avg\": 38288.11901595745, \"total_avg\": 38475.476652314326, \"square_diff\": 673331572.612625}, {\"event\": \"holiday\", \"revenue\": 39133.28, \"group_avg\": 37871.49489583333, \"total_avg\": 38475.476652314326, \"square_diff\": 432705.2442264779}, {\"event\": \"cobranding\", \"revenue\": 29287.7, \"group_avg\": 38288.11901595745, \"total_avg\": 38475.476652314326, \"square_diff\": 84415239.81281224}, {\"event\": \"holiday\", \"revenue\": 5000.0, \"group_avg\": 37871.49489583333, \"total_avg\": 38475.476652314326, \"square_diff\": 1120607537.0996416}, {\"event\": \"cobranding\", \"revenue\": 34802.11, \"group_avg\": 38288.11901595745, \"total_avg\": 38475.476652314326, \"square_diff\": 13493622.562334955}, {\"event\": \"cobranding\", \"revenue\": 9121.99, \"group_avg\": 38288.11901595745, \"total_avg\": 38475.476652314326, \"square_diff\": 861627178.6475954}, {\"event\": \"holiday\", \"revenue\": 53317.69, \"group_avg\": 37871.49489583333, \"total_avg\": 38475.476652314326, \"square_diff\": 220291297.05821884}, {\"event\": \"cobranding\", \"revenue\": 33772.24, \"group_avg\": 38288.11901595745, \"total_avg\": 38475.476652314326, \"square_diff\": 22120435.00767289}, {\"event\": \"non_event\", \"revenue\": 12252.77, \"group_avg\": 38029.0543956044, \"total_avg\": 38475.476652314326, \"square_diff\": 687630344.17333}, {\"event\": \"cobranding\", \"revenue\": 52461.44, \"group_avg\": 38288.11901595745, \"total_avg\": 38475.476652314326, \"square_diff\": 195607170.76280713}, {\"event\": \"non_event\", \"revenue\": 40854.13, \"group_avg\": 38029.0543956044, \"total_avg\": 38475.476652314326, \"square_diff\": 5657991.748456251}, {\"event\": \"special\", \"revenue\": 50719.15, \"group_avg\": 39237.94054545455, \"total_avg\": 38475.476652314326, \"square_diff\": 149907537.04482856}, {\"event\": \"holiday\", \"revenue\": 36028.46, \"group_avg\": 37871.49489583333, \"total_avg\": 38475.476652314326, \"square_diff\": 5987890.496703616}, {\"event\": \"cobranding\", \"revenue\": 44033.71, \"group_avg\": 38288.11901595745, \"total_avg\": 38475.476652314326, \"square_diff\": 30893957.947325084}, {\"event\": \"non_event\", \"revenue\": 28928.96, \"group_avg\": 38029.0543956044, \"total_avg\": 38475.476652314326, \"square_diff\": 91135980.19291474}, {\"event\": \"non_event\", \"revenue\": 26576.85, \"group_avg\": 38029.0543956044, \"total_avg\": 38475.476652314326, \"square_diff\": 141577316.21116486}, {\"event\": \"special\", \"revenue\": 46394.87, \"group_avg\": 39237.94054545455, \"total_avg\": 38475.476652314326, \"square_diff\": 62716790.995368145}, {\"event\": \"cobranding\", \"revenue\": 47352.4, \"group_avg\": 38288.11901595745, \"total_avg\": 38475.476652314326, \"square_diff\": 78799768.12068705}, {\"event\": \"cobranding\", \"revenue\": 38572.62, \"group_avg\": 38288.11901595745, \"total_avg\": 38475.476652314326, \"square_diff\": 9436.829999580214}, {\"event\": \"non_event\", \"revenue\": 25880.17, \"group_avg\": 38029.0543956044, \"total_avg\": 38475.476652314326, \"square_diff\": 158641749.66583356}, {\"event\": \"special\", \"revenue\": 37407.58, \"group_avg\": 39237.94054545455, \"total_avg\": 38475.476652314326, \"square_diff\": 1140403.2600241413}, {\"event\": \"cobranding\", \"revenue\": 39072.46, \"group_avg\": 38288.11901595745, \"total_avg\": 38475.476652314326, \"square_diff\": 356389.11741399305}, {\"event\": \"non_event\", \"revenue\": 28554.67, \"group_avg\": 38029.0543956044, \"total_avg\": 38475.476652314326, \"square_diff\": 98422404.63260423}, {\"event\": \"cobranding\", \"revenue\": 30585.78, \"group_avg\": 38288.11901595745, \"total_avg\": 38475.476652314326, \"square_diff\": 62247313.26553991}, {\"event\": \"special\", \"revenue\": 30734.23, \"group_avg\": 39237.94054545455, \"total_avg\": 38475.476652314326, \"square_diff\": 59926899.73196777}, {\"event\": \"cobranding\", \"revenue\": 49886.71, \"group_avg\": 38288.11901595745, \"total_avg\": 38475.476652314326, \"square_diff\": 130216246.51533356}, {\"event\": \"non_event\", \"revenue\": 46492.97, \"group_avg\": 38029.0543956044, \"total_avg\": 38475.476652314326, \"square_diff\": 64280199.58018405}, {\"event\": \"special\", \"revenue\": 34271.29, \"group_avg\": 39237.94054545455, \"total_avg\": 38475.476652314326, \"square_diff\": 17675185.407497935}, {\"event\": \"cobranding\", \"revenue\": 44268.8, \"group_avg\": 38288.11901595745, \"total_avg\": 38475.476652314326, \"square_diff\": 33562595.410839975}, {\"event\": \"cobranding\", \"revenue\": 39074.71, \"group_avg\": 38288.11901595745, \"total_avg\": 38475.476652314326, \"square_diff\": 359080.6049785786}, {\"event\": \"special\", \"revenue\": 41017.35, \"group_avg\": 39237.94054545455, \"total_avg\": 38475.476652314326, \"square_diff\": 6461120.115674767}, {\"event\": \"cobranding\", \"revenue\": 45725.75, \"group_avg\": 38288.11901595745, \"total_avg\": 38475.476652314326, \"square_diff\": 52566463.61616123}, {\"event\": \"holiday\", \"revenue\": 42154.95, \"group_avg\": 37871.49489583333, \"total_avg\": 38475.476652314326, \"square_diff\": 13538524.116329199}, {\"event\": \"cobranding\", \"revenue\": 40417.91, \"group_avg\": 38288.11901595745, \"total_avg\": 38475.476652314326, \"square_diff\": 3773047.3102013874}, {\"event\": \"special\", \"revenue\": 71757.5, \"group_avg\": 39237.94054545455, \"total_avg\": 38475.476652314326, \"square_diff\": 1107693078.1158943}, {\"event\": \"cobranding\", \"revenue\": 37598.83, \"group_avg\": 38288.11901595745, \"total_avg\": 38475.476652314326, \"square_diff\": 768509.3530139121}, {\"event\": \"special\", \"revenue\": 24543.12, \"group_avg\": 39237.94054545455, \"total_avg\": 38475.476652314326, \"square_diff\": 194110561.8872873}, {\"event\": \"holiday\", \"revenue\": 52726.4, \"group_avg\": 37871.49489583333, \"total_avg\": 38475.476652314326, \"square_diff\": 203088816.26161268}, {\"event\": \"holiday\", \"revenue\": 33410.76, \"group_avg\": 37871.49489583333, \"total_avg\": 38475.476652314326, \"square_diff\": 25651354.768230014}, {\"event\": \"cobranding\", \"revenue\": 34780.21, \"group_avg\": 38288.11901595745, \"total_avg\": 38475.476652314326, \"square_diff\": 13654995.631706335}, {\"event\": \"holiday\", \"revenue\": 44046.74, \"group_avg\": 37871.49489583333, \"total_avg\": 38475.476652314326, \"square_diff\": 31038975.28926576}, {\"event\": \"special\", \"revenue\": 45379.58, \"group_avg\": 39237.94054545455, \"total_avg\": 38475.476652314326, \"square_diff\": 47666643.035524555}, {\"event\": \"special\", \"revenue\": 50024.3, \"group_avg\": 39237.94054545455, \"total_avg\": 38475.476652314326, \"square_diff\": 133375320.7160498}, {\"event\": \"cobranding\", \"revenue\": 35817.24, \"group_avg\": 38288.11901595745, \"total_avg\": 38475.476652314326, \"square_diff\": 7066222.099707287}, {\"event\": \"cobranding\", \"revenue\": 18865.24, \"group_avg\": 38288.11901595745, \"total_avg\": 38475.476652314326, \"square_diff\": 384561381.55977213}, {\"event\": \"cobranding\", \"revenue\": 30762.85, \"group_avg\": 38288.11901595745, \"total_avg\": 38475.476652314326, \"square_diff\": 59484609.877989314}, {\"event\": \"cobranding\", \"revenue\": 36310.72, \"group_avg\": 38288.11901595745, \"total_avg\": 38475.476652314326, \"square_diff\": 4686171.363739124}, {\"event\": \"cobranding\", \"revenue\": 40484.91, \"group_avg\": 38288.11901595745, \"total_avg\": 38475.476652314326, \"square_diff\": 4037822.378791268}, {\"event\": \"special\", \"revenue\": 16282.72, \"group_avg\": 39237.94054545455, \"total_avg\": 38475.476652314326, \"square_diff\": 492518447.82884175}, {\"event\": \"non_event\", \"revenue\": 42159.98, \"group_avg\": 38029.0543956044, \"total_avg\": 38475.476652314326, \"square_diff\": 13575564.91910696}, {\"event\": \"non_event\", \"revenue\": 44646.19, \"group_avg\": 38029.0543956044, \"total_avg\": 38475.476652314326, \"square_diff\": 38077703.21930616}, {\"event\": \"cobranding\", \"revenue\": 42175.58, \"group_avg\": 38288.11901595745, \"total_avg\": 38475.476652314326, \"square_diff\": 13690764.783554744}, {\"event\": \"non_event\", \"revenue\": 55887.64, \"group_avg\": 38029.0543956044, \"total_avg\": 38475.476652314326, \"square_diff\": 303183432.4464883}, {\"event\": \"cobranding\", \"revenue\": 28212.75, \"group_avg\": 38288.11901595745, \"total_avg\": 38475.476652314326, \"square_diff\": 105323558.34012282}, {\"event\": \"holiday\", \"revenue\": 14711.98, \"group_avg\": 37871.49489583333, \"total_avg\": 38475.476652314326, \"square_diff\": 564703773.1445543}, {\"event\": \"special\", \"revenue\": 35691.18, \"group_avg\": 39237.94054545455, \"total_avg\": 38475.476652314326, \"square_diff\": 7752307.848088763}, {\"event\": \"special\", \"revenue\": 48283.05, \"group_avg\": 39237.94054545455, \"total_avg\": 38475.476652314326, \"square_diff\": 96188494.97023444}, {\"event\": \"special\", \"revenue\": 34144.68, \"group_avg\": 39237.94054545455, \"total_avg\": 38475.476652314326, \"square_diff\": 18755799.64369697}, {\"event\": \"non_event\", \"revenue\": 52170.35, \"group_avg\": 38029.0543956044, \"total_avg\": 38475.476652314326, \"square_diff\": 187549556.00915137}, {\"event\": \"cobranding\", \"revenue\": 39580.5, \"group_avg\": 38288.11901595745, \"total_avg\": 38475.476652314326, \"square_diff\": 1221076.5989304534}, {\"event\": \"special\", \"revenue\": 32606.44, \"group_avg\": 39237.94054545455, \"total_avg\": 38475.476652314326, \"square_diff\": 34445591.22620897}, {\"event\": \"cobranding\", \"revenue\": 35517.27, \"group_avg\": 38288.11901595745, \"total_avg\": 38475.476652314326, \"square_diff\": 8750986.597796751}, {\"event\": \"non_event\", \"revenue\": 31622.93, \"group_avg\": 38029.0543956044, \"total_avg\": 38475.476652314326, \"square_diff\": 46957395.622144274}, {\"event\": \"non_event\", \"revenue\": 26358.7, \"group_avg\": 38029.0543956044, \"total_avg\": 38475.476652314326, \"square_diff\": 146816276.44206956}, {\"event\": \"holiday\", \"revenue\": 29488.42, \"group_avg\": 37871.49489583333, \"total_avg\": 38475.476652314326, \"square_diff\": 80767187.27190721}, {\"event\": \"cobranding\", \"revenue\": 32628.63, \"group_avg\": 38288.11901595745, \"total_avg\": 38475.476652314326, \"square_diff\": 34185615.77567923}, {\"event\": \"cobranding\", \"revenue\": 42819.49, \"group_avg\": 38288.11901595745, \"total_avg\": 38475.476652314326, \"square_diff\": 18870451.964871276}, {\"event\": \"cobranding\", \"revenue\": 25112.42, \"group_avg\": 38288.11901595745, \"total_avg\": 38475.476652314326, \"square_diff\": 178571283.0929622}, {\"event\": \"special\", \"revenue\": 34579.43, \"group_avg\": 39237.94054545455, \"total_avg\": 38475.476652314326, \"square_diff\": 15179179.517009666}, {\"event\": \"special\", \"revenue\": 26857.28, \"group_avg\": 39237.94054545455, \"total_avg\": 38475.476652314326, \"square_diff\": 134982493.45184785}, {\"event\": \"cobranding\", \"revenue\": 55523.85, \"group_avg\": 38288.11901595745, \"total_avg\": 38475.476652314326, \"square_diff\": 290647033.8020792}, {\"event\": \"holiday\", \"revenue\": 28712.63, \"group_avg\": 37871.49489583333, \"total_avg\": 38475.476652314326, \"square_diff\": 95313174.75660503}, {\"event\": \"special\", \"revenue\": 43200.85, \"group_avg\": 39237.94054545455, \"total_avg\": 38475.476652314326, \"square_diff\": 22329153.2750181}, {\"event\": \"cobranding\", \"revenue\": 29422.28, \"group_avg\": 38288.11901595745, \"total_avg\": 38475.476652314326, \"square_diff\": 81960369.62547535}, {\"event\": \"cobranding\", \"revenue\": 28381.49, \"group_avg\": 38288.11901595745, \"total_avg\": 38475.476652314326, \"square_diff\": 101888566.53709975}, {\"event\": \"cobranding\", \"revenue\": 25749.67, \"group_avg\": 38288.11901595745, \"total_avg\": 38475.476652314326, \"square_diff\": 161946154.9520876}, {\"event\": \"cobranding\", \"revenue\": 38112.32, \"group_avg\": 38288.11901595745, \"total_avg\": 38475.476652314326, \"square_diff\": 131882.75412014863}, {\"event\": \"holiday\", \"revenue\": 34976.86, \"group_avg\": 37871.49489583333, \"total_avg\": 38475.476652314326, \"square_diff\": 12240318.479851099}, {\"event\": \"non_event\", \"revenue\": 29092.85, \"group_avg\": 38029.0543956044, \"total_avg\": 38475.476652314326, \"square_diff\": 88033682.89671917}, {\"event\": \"non_event\", \"revenue\": 20325.96, \"group_avg\": 38029.0543956044, \"total_avg\": 38475.476652314326, \"square_diff\": 329404954.71263504}, {\"event\": \"cobranding\", \"revenue\": 50734.05, \"group_avg\": 38288.11901595745, \"total_avg\": 38475.476652314326, \"square_diff\": 150272620.52058962}, {\"event\": \"non_event\", \"revenue\": 40357.58, \"group_avg\": 38029.0543956044, \"total_avg\": 38475.476652314326, \"square_diff\": 3542313.011369627}, {\"event\": \"cobranding\", \"revenue\": 48517.27, \"group_avg\": 38288.11901595745, \"total_avg\": 38475.476652314326, \"square_diff\": 100837613.63762419}, {\"event\": \"special\", \"revenue\": 49418.79, \"group_avg\": 39237.94054545455, \"total_avg\": 38475.476652314326, \"square_diff\": 119756107.02563545}, {\"event\": \"special\", \"revenue\": 35391.85, \"group_avg\": 39237.94054545455, \"total_avg\": 38475.476652314326, \"square_diff\": 9508753.330863267}, {\"event\": \"cobranding\", \"revenue\": 43146.52, \"group_avg\": 38288.11901595745, \"total_avg\": 38475.476652314326, \"square_diff\": 21818645.955958556}, {\"event\": \"cobranding\", \"revenue\": 46336.47, \"group_avg\": 38288.11901595745, \"total_avg\": 38475.476652314326, \"square_diff\": 61795216.41235843}, {\"event\": \"non_event\", \"revenue\": 26798.45, \"group_avg\": 38029.0543956044, \"total_avg\": 38475.476652314326, \"square_diff\": 136352951.4388591}, {\"event\": \"non_event\", \"revenue\": 34815.04, \"group_avg\": 38029.0543956044, \"total_avg\": 38475.476652314326, \"square_diff\": 13398796.485606104}, {\"event\": \"holiday\", \"revenue\": 45982.16, \"group_avg\": 37871.49489583333, \"total_avg\": 38475.476652314326, \"square_diff\": 56350294.88242145}, {\"event\": \"special\", \"revenue\": 66074.12, \"group_avg\": 39237.94054545455, \"total_avg\": 38475.476652314326, \"square_diff\": 761685114.6327544}, {\"event\": \"special\", \"revenue\": 53212.11, \"group_avg\": 39237.94054545455, \"total_avg\": 38475.476652314326, \"square_diff\": 217168362.4241215}, {\"event\": \"cobranding\", \"revenue\": 38902.83, \"group_avg\": 38288.11901595745, \"total_avg\": 38475.476652314326, \"square_diff\": 182630.8837781539}, {\"event\": \"cobranding\", \"revenue\": 52366.71, \"group_avg\": 38288.11901595745, \"total_avg\": 38475.476652314326, \"square_diff\": 192966363.91985452}, {\"event\": \"special\", \"revenue\": 37258.3, \"group_avg\": 39237.94054545455, \"total_avg\": 38475.476652314326, \"square_diff\": 1481519.002939103}, {\"event\": \"special\", \"revenue\": 51036.6, \"group_avg\": 39237.94054545455, \"total_avg\": 38475.476652314326, \"square_diff\": 157781819.7557741}, {\"event\": \"special\", \"revenue\": 39715.16, \"group_avg\": 39237.94054545455, \"total_avg\": 38475.476652314326, \"square_diff\": 1536814.8025291678}, {\"event\": \"cobranding\", \"revenue\": 41996.1, \"group_avg\": 38288.11901595745, \"total_avg\": 38475.476652314326, \"square_diff\": 12394788.75626947}, {\"event\": \"cobranding\", \"revenue\": 22925.47, \"group_avg\": 38288.11901595745, \"total_avg\": 38475.476652314326, \"square_diff\": 241802706.88701975}, {\"event\": \"special\", \"revenue\": 37559.08, \"group_avg\": 39237.94054545455, \"total_avg\": 38475.476652314326, \"square_diff\": 839782.8243729009}, {\"event\": \"holiday\", \"revenue\": 10921.78, \"group_avg\": 37871.49489583333, \"total_avg\": 38475.476652314326, \"square_diff\": 759206199.2077577}, {\"event\": \"cobranding\", \"revenue\": 58792.99, \"group_avg\": 38288.11901595745, \"total_avg\": 38475.476652314326, \"square_diff\": 412801348.6333854}, {\"event\": \"special\", \"revenue\": 42139.74, \"group_avg\": 39237.94054545455, \"total_avg\": 38475.476652314326, \"square_diff\": 13426825.881192606}, {\"event\": \"holiday\", \"revenue\": 47704.56, \"group_avg\": 37871.49489583333, \"total_avg\": 38475.476652314326, \"square_diff\": 85175979.43852895}, {\"event\": \"cobranding\", \"revenue\": 53812.7, \"group_avg\": 38288.11901595745, \"total_avg\": 38475.476652314326, \"square_diff\": 235230420.01679444}, {\"event\": \"non_event\", \"revenue\": 32038.65, \"group_avg\": 38029.0543956044, \"total_avg\": 38475.476652314326, \"square_diff\": 41432737.35194404}, {\"event\": \"non_event\", \"revenue\": 32005.52, \"group_avg\": 38029.0543956044, \"total_avg\": 38475.476652314326, \"square_diff\": 41860339.0828264}, {\"event\": \"cobranding\", \"revenue\": 40924.87, \"group_avg\": 38288.11901595745, \"total_avg\": 38475.476652314326, \"square_diff\": 5999527.7716868445}, {\"event\": \"cobranding\", \"revenue\": 16443.85, \"group_avg\": 38288.11901595745, \"total_avg\": 38475.476652314326, \"square_diff\": 485392572.946967}, {\"event\": \"cobranding\", \"revenue\": 43585.45, \"group_avg\": 38288.11901595745, \"total_avg\": 38475.476652314326, \"square_diff\": 26111827.614057902}, {\"event\": \"holiday\", \"revenue\": 34374.52, \"group_avg\": 37871.49489583333, \"total_avg\": 38475.476652314326, \"square_diff\": 16817845.46416115}, {\"event\": \"special\", \"revenue\": 40750.16, \"group_avg\": 39237.94054545455, \"total_avg\": 38475.476652314326, \"square_diff\": 5174184.33223852}, {\"event\": \"cobranding\", \"revenue\": 46324.83, \"group_avg\": 38288.11901595745, \"total_avg\": 38475.476652314326, \"square_diff\": 61612347.97682432}, {\"event\": \"non_event\", \"revenue\": 62236.15, \"group_avg\": 38029.0543956044, \"total_avg\": 38475.476652314326, \"square_diff\": 564569597.9354204}, {\"event\": \"special\", \"revenue\": 39619.28, \"group_avg\": 39237.94054545455, \"total_avg\": 38475.476652314326, \"square_diff\": 1308286.0981769518}, {\"event\": \"special\", \"revenue\": 41427.48, \"group_avg\": 39237.94054545455, \"total_avg\": 38475.476652314326, \"square_diff\": 8714323.764747445}, {\"event\": \"cobranding\", \"revenue\": 46503.74, \"group_avg\": 38288.11901595745, \"total_avg\": 38475.476652314326, \"square_diff\": 64453012.37979315}, {\"event\": \"non_event\", \"revenue\": 47431.62, \"group_avg\": 38029.0543956044, \"total_avg\": 38475.476652314326, \"square_diff\": 80212503.66429439}, {\"event\": \"cobranding\", \"revenue\": 31209.17, \"group_avg\": 38288.11901595745, \"total_avg\": 38475.476652314326, \"square_diff\": 52799212.36546746}, {\"event\": \"special\", \"revenue\": 42247.8, \"group_avg\": 39237.94054545455, \"total_avg\": 38475.476652314326, \"square_diff\": 14230423.43949447}, {\"event\": \"special\", \"revenue\": 59546.57, \"group_avg\": 39237.94054545455, \"total_avg\": 38475.476652314326, \"square_diff\": 443990974.86688346}, {\"event\": \"non_event\", \"revenue\": 31138.22, \"group_avg\": 38029.0543956044, \"total_avg\": 38475.476652314326, \"square_diff\": 53835335.18193082}, {\"event\": \"cobranding\", \"revenue\": 59909.1, \"group_avg\": 38288.11901595745, \"total_avg\": 38475.476652314326, \"square_diff\": 459400209.8104564}, {\"event\": \"cobranding\", \"revenue\": 32274.64, \"group_avg\": 38288.11901595745, \"total_avg\": 38475.476652314326, \"square_diff\": 38450375.18868475}]}}, {\"mode\": \"vega-lite\"});\n",
       "</script>"
      ],
      "text/plain": [
       "alt.Chart(...)"
      ]
     },
     "execution_count": 5,
     "metadata": {},
     "output_type": "execute_result"
    }
   ],
   "source": [
    "import altair as alt\n",
    "alt.Chart(events, width=300).mark_boxplot(\n",
    ").encode(\n",
    "    x = 'event', y ='revenue'\n",
    ")"
   ]
  },
  {
   "cell_type": "markdown",
   "id": "2583e28a",
   "metadata": {},
   "source": [
    "## 特征筛选\n",
    "DictVectorizer结果为9个特征都应该保留"
   ]
  },
  {
   "cell_type": "code",
   "execution_count": 6,
   "id": "64bab245",
   "metadata": {},
   "outputs": [
    {
     "data": {
      "text/plain": [
       "(9,\n",
       " ['event=cobranding',\n",
       "  'event=holiday',\n",
       "  'event=non_event',\n",
       "  'event=special',\n",
       "  'instore',\n",
       "  'local_tv',\n",
       "  'online',\n",
       "  'person',\n",
       "  'reach'])"
      ]
     },
     "execution_count": 6,
     "metadata": {},
     "output_type": "execute_result"
    }
   ],
   "source": [
    "X = df.drop('revenue', axis=1)\n",
    "y = df['revenue']\n",
    "from sklearn.feature_extraction import DictVectorizer\n",
    "vec = DictVectorizer()\n",
    "X = vec.fit_transform(X.to_dict(orient='record'))\n",
    "len(vec.feature_names_), vec.feature_names_"
   ]
  },
  {
   "cell_type": "markdown",
   "id": "64fd0d10",
   "metadata": {},
   "source": [
    "使用SelectKBest保留最主要的4个特征。结果显示最主要的4个特征为local_tv(本地电视广告投入)、online(线上广告投入)、person(门店销售人员投入)、和reach(微信推送次数)。"
   ]
  },
  {
   "cell_type": "code",
   "execution_count": 7,
   "id": "a10f29a1",
   "metadata": {},
   "outputs": [
    {
     "data": {
      "text/html": [
       "<div>\n",
       "<style scoped>\n",
       "    .dataframe tbody tr th:only-of-type {\n",
       "        vertical-align: middle;\n",
       "    }\n",
       "\n",
       "    .dataframe tbody tr th {\n",
       "        vertical-align: top;\n",
       "    }\n",
       "\n",
       "    .dataframe thead th {\n",
       "        text-align: right;\n",
       "    }\n",
       "</style>\n",
       "<table border=\"1\" class=\"dataframe\">\n",
       "  <thead>\n",
       "    <tr style=\"text-align: right;\">\n",
       "      <th></th>\n",
       "      <th>0</th>\n",
       "      <th>1</th>\n",
       "      <th>2</th>\n",
       "      <th>3</th>\n",
       "    </tr>\n",
       "  </thead>\n",
       "  <tbody>\n",
       "    <tr>\n",
       "      <th>0</th>\n",
       "      <td>31694.91</td>\n",
       "      <td>2115.0</td>\n",
       "      <td>8.0</td>\n",
       "      <td>2.0</td>\n",
       "    </tr>\n",
       "    <tr>\n",
       "      <th>1</th>\n",
       "      <td>35040.17</td>\n",
       "      <td>1826.0</td>\n",
       "      <td>14.0</td>\n",
       "      <td>2.0</td>\n",
       "    </tr>\n",
       "    <tr>\n",
       "      <th>2</th>\n",
       "      <td>30992.82</td>\n",
       "      <td>1851.0</td>\n",
       "      <td>6.0</td>\n",
       "      <td>4.0</td>\n",
       "    </tr>\n",
       "    <tr>\n",
       "      <th>3</th>\n",
       "      <td>29417.78</td>\n",
       "      <td>2437.0</td>\n",
       "      <td>12.0</td>\n",
       "      <td>2.0</td>\n",
       "    </tr>\n",
       "    <tr>\n",
       "      <th>4</th>\n",
       "      <td>35611.11</td>\n",
       "      <td>1122.0</td>\n",
       "      <td>13.0</td>\n",
       "      <td>2.0</td>\n",
       "    </tr>\n",
       "    <tr>\n",
       "      <th>...</th>\n",
       "      <td>...</td>\n",
       "      <td>...</td>\n",
       "      <td>...</td>\n",
       "      <td>...</td>\n",
       "    </tr>\n",
       "    <tr>\n",
       "      <th>924</th>\n",
       "      <td>30527.57</td>\n",
       "      <td>1407.0</td>\n",
       "      <td>12.0</td>\n",
       "      <td>3.0</td>\n",
       "    </tr>\n",
       "    <tr>\n",
       "      <th>925</th>\n",
       "      <td>31233.04</td>\n",
       "      <td>1849.0</td>\n",
       "      <td>18.0</td>\n",
       "      <td>2.0</td>\n",
       "    </tr>\n",
       "    <tr>\n",
       "      <th>926</th>\n",
       "      <td>34346.13</td>\n",
       "      <td>1200.0</td>\n",
       "      <td>8.0</td>\n",
       "      <td>3.0</td>\n",
       "    </tr>\n",
       "    <tr>\n",
       "      <th>927</th>\n",
       "      <td>30215.90</td>\n",
       "      <td>1532.0</td>\n",
       "      <td>16.0</td>\n",
       "      <td>3.0</td>\n",
       "    </tr>\n",
       "    <tr>\n",
       "      <th>928</th>\n",
       "      <td>30535.26</td>\n",
       "      <td>2381.0</td>\n",
       "      <td>12.0</td>\n",
       "      <td>4.0</td>\n",
       "    </tr>\n",
       "  </tbody>\n",
       "</table>\n",
       "<p>929 rows × 4 columns</p>\n",
       "</div>"
      ],
      "text/plain": [
       "            0       1     2    3\n",
       "0    31694.91  2115.0   8.0  2.0\n",
       "1    35040.17  1826.0  14.0  2.0\n",
       "2    30992.82  1851.0   6.0  4.0\n",
       "3    29417.78  2437.0  12.0  2.0\n",
       "4    35611.11  1122.0  13.0  2.0\n",
       "..        ...     ...   ...  ...\n",
       "924  30527.57  1407.0  12.0  3.0\n",
       "925  31233.04  1849.0  18.0  2.0\n",
       "926  34346.13  1200.0   8.0  3.0\n",
       "927  30215.90  1532.0  16.0  3.0\n",
       "928  30535.26  2381.0  12.0  4.0\n",
       "\n",
       "[929 rows x 4 columns]"
      ]
     },
     "execution_count": 7,
     "metadata": {},
     "output_type": "execute_result"
    }
   ],
   "source": [
    "from sklearn.feature_selection import SelectKBest, f_classif\n",
    "selector = SelectKBest(f_classif, k=4)\n",
    "selector.fit(X,y)\n",
    "X_new = selector.transform(X)\n",
    "X_new = pd.DataFrame(X_new.toarray())\n",
    "X_new"
   ]
  },
  {
   "cell_type": "code",
   "execution_count": 8,
   "id": "59ec5cd8",
   "metadata": {},
   "outputs": [
    {
     "data": {
      "text/html": [
       "<div>\n",
       "<style scoped>\n",
       "    .dataframe tbody tr th:only-of-type {\n",
       "        vertical-align: middle;\n",
       "    }\n",
       "\n",
       "    .dataframe tbody tr th {\n",
       "        vertical-align: top;\n",
       "    }\n",
       "\n",
       "    .dataframe thead th {\n",
       "        text-align: right;\n",
       "    }\n",
       "</style>\n",
       "<table border=\"1\" class=\"dataframe\">\n",
       "  <thead>\n",
       "    <tr style=\"text-align: right;\">\n",
       "      <th></th>\n",
       "      <th>local_tv</th>\n",
       "      <th>online</th>\n",
       "      <th>person</th>\n",
       "      <th>reach</th>\n",
       "    </tr>\n",
       "  </thead>\n",
       "  <tbody>\n",
       "    <tr>\n",
       "      <th>0</th>\n",
       "      <td>31694.91</td>\n",
       "      <td>2115.0</td>\n",
       "      <td>8.0</td>\n",
       "      <td>2.0</td>\n",
       "    </tr>\n",
       "    <tr>\n",
       "      <th>1</th>\n",
       "      <td>35040.17</td>\n",
       "      <td>1826.0</td>\n",
       "      <td>14.0</td>\n",
       "      <td>2.0</td>\n",
       "    </tr>\n",
       "    <tr>\n",
       "      <th>2</th>\n",
       "      <td>30992.82</td>\n",
       "      <td>1851.0</td>\n",
       "      <td>6.0</td>\n",
       "      <td>4.0</td>\n",
       "    </tr>\n",
       "    <tr>\n",
       "      <th>3</th>\n",
       "      <td>29417.78</td>\n",
       "      <td>2437.0</td>\n",
       "      <td>12.0</td>\n",
       "      <td>2.0</td>\n",
       "    </tr>\n",
       "    <tr>\n",
       "      <th>4</th>\n",
       "      <td>35611.11</td>\n",
       "      <td>1122.0</td>\n",
       "      <td>13.0</td>\n",
       "      <td>2.0</td>\n",
       "    </tr>\n",
       "    <tr>\n",
       "      <th>...</th>\n",
       "      <td>...</td>\n",
       "      <td>...</td>\n",
       "      <td>...</td>\n",
       "      <td>...</td>\n",
       "    </tr>\n",
       "    <tr>\n",
       "      <th>924</th>\n",
       "      <td>30527.57</td>\n",
       "      <td>1407.0</td>\n",
       "      <td>12.0</td>\n",
       "      <td>3.0</td>\n",
       "    </tr>\n",
       "    <tr>\n",
       "      <th>925</th>\n",
       "      <td>31233.04</td>\n",
       "      <td>1849.0</td>\n",
       "      <td>18.0</td>\n",
       "      <td>2.0</td>\n",
       "    </tr>\n",
       "    <tr>\n",
       "      <th>926</th>\n",
       "      <td>34346.13</td>\n",
       "      <td>1200.0</td>\n",
       "      <td>8.0</td>\n",
       "      <td>3.0</td>\n",
       "    </tr>\n",
       "    <tr>\n",
       "      <th>927</th>\n",
       "      <td>30215.90</td>\n",
       "      <td>1532.0</td>\n",
       "      <td>16.0</td>\n",
       "      <td>3.0</td>\n",
       "    </tr>\n",
       "    <tr>\n",
       "      <th>928</th>\n",
       "      <td>30535.26</td>\n",
       "      <td>2381.0</td>\n",
       "      <td>12.0</td>\n",
       "      <td>4.0</td>\n",
       "    </tr>\n",
       "  </tbody>\n",
       "</table>\n",
       "<p>929 rows × 4 columns</p>\n",
       "</div>"
      ],
      "text/plain": [
       "     local_tv  online  person  reach\n",
       "0    31694.91  2115.0     8.0    2.0\n",
       "1    35040.17  1826.0    14.0    2.0\n",
       "2    30992.82  1851.0     6.0    4.0\n",
       "3    29417.78  2437.0    12.0    2.0\n",
       "4    35611.11  1122.0    13.0    2.0\n",
       "..        ...     ...     ...    ...\n",
       "924  30527.57  1407.0    12.0    3.0\n",
       "925  31233.04  1849.0    18.0    2.0\n",
       "926  34346.13  1200.0     8.0    3.0\n",
       "927  30215.90  1532.0    16.0    3.0\n",
       "928  30535.26  2381.0    12.0    4.0\n",
       "\n",
       "[929 rows x 4 columns]"
      ]
     },
     "execution_count": 8,
     "metadata": {},
     "output_type": "execute_result"
    }
   ],
   "source": [
    "X_new.columns = ['local_tv','online','person','reach']\n",
    "X_new"
   ]
  },
  {
   "cell_type": "markdown",
   "id": "2d41086f",
   "metadata": {},
   "source": [
    "## 训练数据测试数据划分"
   ]
  },
  {
   "cell_type": "code",
   "execution_count": 9,
   "id": "53ea2ee1",
   "metadata": {},
   "outputs": [],
   "source": [
    "from sklearn.model_selection import train_test_split\n",
    "X_train, X_test, y_train, y_test = train_test_split(X_new, y, test_size=0.2, random_state=42, shuffle=True)"
   ]
  },
  {
   "cell_type": "markdown",
   "id": "f9f5d673",
   "metadata": {},
   "source": [
    "## 随机森林"
   ]
  },
  {
   "cell_type": "code",
   "execution_count": 10,
   "id": "0e6ffdde",
   "metadata": {},
   "outputs": [
    {
     "data": {
      "text/plain": [
       "0.9476181488347754"
      ]
     },
     "execution_count": 10,
     "metadata": {},
     "output_type": "execute_result"
    }
   ],
   "source": [
    "from sklearn.ensemble import RandomForestRegressor\n",
    "from sklearn.metrics import mean_squared_error as mse\n",
    "\n",
    "rf = RandomForestRegressor(random_state=42)\n",
    "rf.fit(X_train, y_train)\n",
    "score_rf = rf.score(X_train, y_train)\n",
    "score_rf"
   ]
  },
  {
   "cell_type": "code",
   "execution_count": 11,
   "id": "c7a01952",
   "metadata": {},
   "outputs": [
    {
     "data": {
      "text/plain": [
       "53635433.91058462"
      ]
     },
     "execution_count": 11,
     "metadata": {},
     "output_type": "execute_result"
    }
   ],
   "source": [
    "MSE_rf = mse(y_test, rf.predict(X_test))\n",
    "MSE_rf"
   ]
  },
  {
   "cell_type": "code",
   "execution_count": 12,
   "id": "ce910c46",
   "metadata": {},
   "outputs": [
    {
     "data": {
      "text/plain": [
       "5876.683041935483"
      ]
     },
     "execution_count": 12,
     "metadata": {},
     "output_type": "execute_result"
    }
   ],
   "source": [
    "MAE_rf = np.mean(abs(y_test - rf.predict(X_test)))\n",
    "MAE_rf"
   ]
  },
  {
   "cell_type": "markdown",
   "id": "93fdc086",
   "metadata": {},
   "source": [
    "## SVM"
   ]
  },
  {
   "cell_type": "code",
   "execution_count": 13,
   "id": "e7ad7f14",
   "metadata": {},
   "outputs": [
    {
     "data": {
      "text/plain": [
       "0.5988046494640198"
      ]
     },
     "execution_count": 13,
     "metadata": {},
     "output_type": "execute_result"
    }
   ],
   "source": [
    "from sklearn.pipeline import Pipeline\n",
    "from sklearn.preprocessing import StandardScaler\n",
    "from sklearn import svm\n",
    "\n",
    "# svr = Pipeline([\n",
    "#     ('scaler', StandardScaler()),\n",
    "#     ('linear_svr', svm.SVR(kernel='linear'))\n",
    "# ])\n",
    "svr = svm.SVR(kernel='linear')\n",
    "svr.fit(X_train, y_train)\n",
    "score_svr = svr.score(X_train, y_train)\n",
    "score_svr"
   ]
  },
  {
   "cell_type": "code",
   "execution_count": 14,
   "id": "2dd76a89",
   "metadata": {},
   "outputs": [
    {
     "data": {
      "text/plain": [
       "61664671.877914995"
      ]
     },
     "execution_count": 14,
     "metadata": {},
     "output_type": "execute_result"
    }
   ],
   "source": [
    "MSE_svr = mse(y_test, svr.predict(X_test))\n",
    "MSE_svr"
   ]
  },
  {
   "cell_type": "code",
   "execution_count": 15,
   "id": "71e260b9",
   "metadata": {},
   "outputs": [
    {
     "data": {
      "text/plain": [
       "6306.673476991544"
      ]
     },
     "execution_count": 15,
     "metadata": {},
     "output_type": "execute_result"
    }
   ],
   "source": [
    "MAE_svr = np.mean(abs(y_test - svr.predict(X_test)))\n",
    "MAE_svr"
   ]
  },
  {
   "cell_type": "markdown",
   "id": "fb37fe96",
   "metadata": {},
   "source": [
    "## xgboost"
   ]
  },
  {
   "cell_type": "code",
   "execution_count": 16,
   "id": "e653d702",
   "metadata": {},
   "outputs": [
    {
     "data": {
      "text/plain": [
       "0.9915167351137204"
      ]
     },
     "execution_count": 16,
     "metadata": {},
     "output_type": "execute_result"
    }
   ],
   "source": [
    "import xgboost\n",
    "\n",
    "xgb = xgboost.XGBRegressor(random_state=42)\n",
    "xgb.fit(X_train, y_train)\n",
    "score_xgb = xgb.score(X_train, y_train)\n",
    "score_xgb"
   ]
  },
  {
   "cell_type": "code",
   "execution_count": 17,
   "id": "beeeb259",
   "metadata": {},
   "outputs": [
    {
     "data": {
      "text/plain": [
       "58501712.41569456"
      ]
     },
     "execution_count": 17,
     "metadata": {},
     "output_type": "execute_result"
    }
   ],
   "source": [
    "MSE_xgb = mse(y_test, xgb.predict(X_test))\n",
    "MSE_xgb"
   ]
  },
  {
   "cell_type": "code",
   "execution_count": 18,
   "id": "30b6fb71",
   "metadata": {},
   "outputs": [
    {
     "data": {
      "text/plain": [
       "6201.112864163306"
      ]
     },
     "execution_count": 18,
     "metadata": {},
     "output_type": "execute_result"
    }
   ],
   "source": [
    "MAE_xgb = np.mean(abs(y_test - xgb.predict(X_test)))\n",
    "MAE_xgb"
   ]
  },
  {
   "cell_type": "markdown",
   "id": "4e376783",
   "metadata": {},
   "source": [
    "## ANN"
   ]
  },
  {
   "cell_type": "code",
   "execution_count": 19,
   "id": "47ef6612",
   "metadata": {},
   "outputs": [
    {
     "data": {
      "text/plain": [
       "0.34259222301466274"
      ]
     },
     "execution_count": 19,
     "metadata": {},
     "output_type": "execute_result"
    }
   ],
   "source": [
    "from sklearn.neural_network import MLPRegressor\n",
    "\n",
    "nn = MLPRegressor(random_state=42)\n",
    "nn.fit(X_train, y_train)\n",
    "score_nn = nn.score(X_train, y_train)\n",
    "score_nn"
   ]
  },
  {
   "cell_type": "code",
   "execution_count": 20,
   "id": "51c397ea",
   "metadata": {},
   "outputs": [
    {
     "data": {
      "text/plain": [
       "89252423.91407908"
      ]
     },
     "execution_count": 20,
     "metadata": {},
     "output_type": "execute_result"
    }
   ],
   "source": [
    "MSE_nn = mse(y_test, nn.predict(X_test))\n",
    "MSE_nn"
   ]
  },
  {
   "cell_type": "code",
   "execution_count": 21,
   "id": "be161b62",
   "metadata": {},
   "outputs": [
    {
     "data": {
      "text/plain": [
       "7661.942534641474"
      ]
     },
     "execution_count": 21,
     "metadata": {},
     "output_type": "execute_result"
    }
   ],
   "source": [
    "MAE_nn = np.mean(abs(y_test - nn.predict(X_test)))\n",
    "MAE_nn"
   ]
  },
  {
   "cell_type": "markdown",
   "id": "565f2d7f",
   "metadata": {},
   "source": [
    "## 模型对比"
   ]
  },
  {
   "cell_type": "code",
   "execution_count": 22,
   "id": "1e9c4467",
   "metadata": {},
   "outputs": [
    {
     "data": {
      "text/html": [
       "<div>\n",
       "<style scoped>\n",
       "    .dataframe tbody tr th:only-of-type {\n",
       "        vertical-align: middle;\n",
       "    }\n",
       "\n",
       "    .dataframe tbody tr th {\n",
       "        vertical-align: top;\n",
       "    }\n",
       "\n",
       "    .dataframe thead th {\n",
       "        text-align: right;\n",
       "    }\n",
       "</style>\n",
       "<table border=\"1\" class=\"dataframe\">\n",
       "  <thead>\n",
       "    <tr style=\"text-align: right;\">\n",
       "      <th></th>\n",
       "      <th>随机森林</th>\n",
       "      <th>SVM</th>\n",
       "      <th>XGBoost</th>\n",
       "      <th>Neural Nets</th>\n",
       "    </tr>\n",
       "  </thead>\n",
       "  <tbody>\n",
       "    <tr>\n",
       "      <th>score</th>\n",
       "      <td>0.95</td>\n",
       "      <td>0.60</td>\n",
       "      <td>0.99</td>\n",
       "      <td>0.34</td>\n",
       "    </tr>\n",
       "    <tr>\n",
       "      <th>MSE</th>\n",
       "      <td>53635433.91</td>\n",
       "      <td>61664671.88</td>\n",
       "      <td>58501712.42</td>\n",
       "      <td>89252423.91</td>\n",
       "    </tr>\n",
       "    <tr>\n",
       "      <th>MAE</th>\n",
       "      <td>5876.68</td>\n",
       "      <td>6306.67</td>\n",
       "      <td>6201.11</td>\n",
       "      <td>7661.94</td>\n",
       "    </tr>\n",
       "  </tbody>\n",
       "</table>\n",
       "</div>"
      ],
      "text/plain": [
       "              随机森林          SVM      XGBoost  Neural Nets\n",
       "score         0.95         0.60         0.99         0.34\n",
       "MSE    53635433.91  61664671.88  58501712.42  89252423.91\n",
       "MAE        5876.68      6306.67      6201.11      7661.94"
      ]
     },
     "execution_count": 22,
     "metadata": {},
     "output_type": "execute_result"
    }
   ],
   "source": [
    "scores = [score_rf, score_svr, score_xgb, score_nn]\n",
    "MSEs = [MSE_rf, MSE_svr, MSE_xgb, MSE_nn]\n",
    "MAEs = [MAE_rf, MAE_svr, MAE_xgb, MAE_nn]\n",
    "summary = pd.DataFrame([scores, MSEs, MAEs], index = ['score','MSE','MAE']).apply(lambda x:round(x,2))\n",
    "summary.columns = ['随机森林','SVM','XGBoost','Neural Nets']\n",
    "summary"
   ]
  },
  {
   "cell_type": "markdown",
   "id": "2da18017",
   "metadata": {},
   "source": [
    "对比这四个模型，随机森林的结果最好。虽然随机森林的R^2没有XGBoost高，但其MSE（均方误差）和MAE（平均绝对误差）都是四个模型中最低的。"
   ]
  },
  {
   "cell_type": "code",
   "execution_count": null,
   "id": "64a90aff",
   "metadata": {},
   "outputs": [],
   "source": []
  }
 ],
 "metadata": {
  "kernelspec": {
   "display_name": "Python 3 (ipykernel)",
   "language": "python",
   "name": "python3"
  },
  "language_info": {
   "codemirror_mode": {
    "name": "ipython",
    "version": 3
   },
   "file_extension": ".py",
   "mimetype": "text/x-python",
   "name": "python",
   "nbconvert_exporter": "python",
   "pygments_lexer": "ipython3",
   "version": "3.9.13"
  }
 },
 "nbformat": 4,
 "nbformat_minor": 5
}
