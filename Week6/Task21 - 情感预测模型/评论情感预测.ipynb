{
 "cells": [
  {
   "cell_type": "code",
   "execution_count": 1,
   "id": "a228b24a",
   "metadata": {},
   "outputs": [],
   "source": [
    "import pandas as pd\n",
    "import numpy as np\n",
    "import jieba\n",
    "import warnings\n",
    "warnings.filterwarnings(\"ignore\")"
   ]
  },
  {
   "cell_type": "markdown",
   "id": "cdabc006",
   "metadata": {},
   "source": [
    "## 读取好评差评文本，文本处理"
   ]
  },
  {
   "cell_type": "code",
   "execution_count": 2,
   "id": "860a6c7d",
   "metadata": {
    "scrolled": true
   },
   "outputs": [
    {
     "name": "stderr",
     "output_type": "stream",
     "text": [
      "Building prefix dict from the default dictionary ...\n",
      "Loading model from cache C:\\Users\\hejin\\AppData\\Local\\Temp\\jieba.cache\n",
      "Loading model cost 0.512 seconds.\n",
      "Prefix dict has been built successfully.\n"
     ]
    }
   ],
   "source": [
    "pos = pd.read_csv('comment_con 好评.csv').values.tolist()\n",
    "neg = pd.read_csv('comment_con 差评.csv').values.tolist()\n",
    "\n",
    "def context_cut(sentence):\n",
    "    words_list=[]\n",
    "    #获取停用词\n",
    "    stop=open('stopwords/cn_stopwords.txt', 'r', encoding='utf-8')\n",
    "    stopwords=stop.read().split('\\n') + [' ','*','\\n','hellip']\n",
    "    cut_words=list(jieba.cut(sentence))\n",
    "    for word in cut_words:\n",
    "        if not(word in stopwords):\n",
    "            words_list.append(word)\n",
    "        words_str=','.join(words_list)\n",
    "    return words_str,words_list\n",
    "\n",
    "words=[]\n",
    "word_list=[]\n",
    "for i in neg:\n",
    "    cut_words_str,cut_words_list=context_cut(i[0])\n",
    "    word_list.append((cut_words_str,-1))\n",
    "    words.append(cut_words_list)\n",
    "for j in pos:\n",
    "    cut_words_str2,cut_words_list2=context_cut(j[0])\n",
    "    word_list.append((cut_words_str2,1))\n",
    "    words.append(cut_words_list2)"
   ]
  },
  {
   "cell_type": "markdown",
   "id": "8958b06d",
   "metadata": {},
   "source": [
    "## 划分训练集和测试集"
   ]
  },
  {
   "cell_type": "code",
   "execution_count": 3,
   "id": "5099ac81",
   "metadata": {},
   "outputs": [],
   "source": [
    "from sklearn.model_selection import train_test_split\n",
    "\n",
    "x,y=zip(*word_list)\n",
    "x_train,x_test,y_train,y_test=train_test_split(x,y,test_size=0.2,random_state=42)"
   ]
  },
  {
   "cell_type": "markdown",
   "id": "4bf7ac95",
   "metadata": {},
   "source": [
    "## 使用Tfidf提取特征"
   ]
  },
  {
   "cell_type": "code",
   "execution_count": 4,
   "id": "f77b6463",
   "metadata": {},
   "outputs": [],
   "source": [
    "from sklearn.feature_extraction.text import CountVectorizer\n",
    "from sklearn.feature_extraction.text import TfidfVectorizer\n",
    "\n",
    "vec = TfidfVectorizer(analyzer='word', ngram_range=(1,4), max_features=500)\n",
    "tfidf_x_train = vec.fit_transform(x_train)\n",
    "tfidf_x_test = vec.fit_transform(x_test)"
   ]
  },
  {
   "cell_type": "markdown",
   "id": "a72425d4",
   "metadata": {},
   "source": [
    "## LinearSVC模型"
   ]
  },
  {
   "cell_type": "code",
   "execution_count": 5,
   "id": "cef6dbd9",
   "metadata": {},
   "outputs": [
    {
     "data": {
      "text/plain": [
       "SVC(kernel='linear')"
      ]
     },
     "execution_count": 5,
     "metadata": {},
     "output_type": "execute_result"
    }
   ],
   "source": [
    "from sklearn import svm\n",
    "\n",
    "classfier = svm.SVC(kernel='linear')\n",
    "classfier.fit(vec.transform(x_train),y_train)"
   ]
  },
  {
   "cell_type": "markdown",
   "id": "c8352be9",
   "metadata": {},
   "source": [
    "## 评估"
   ]
  },
  {
   "cell_type": "code",
   "execution_count": 6,
   "id": "64f6cc23",
   "metadata": {},
   "outputs": [
    {
     "name": "stdout",
     "output_type": "stream",
     "text": [
      "训练集score: 0.9770594369134515\n",
      "测试集score: 0.9791666666666666\n",
      "准确率: 0.9770594369134515\n",
      "召回率: 0.9754901960784313\n",
      "F1值: 0.9863692688971499\n",
      "ROC值: 0.9807520910462088\n"
     ]
    }
   ],
   "source": [
    "score_train = classfier.score(vec.transform(x_train), y_train) # 训练集score\n",
    "score_test = classfier.score(vec.transform(x_test), y_test) # 测试集score\n",
    "\n",
    "from sklearn.metrics import accuracy_score\n",
    "from sklearn.metrics import recall_score\n",
    "from sklearn.metrics import f1_score\n",
    "from sklearn.metrics import roc_auc_score\n",
    "\n",
    "y_train_hat=classfier.predict(vec.transform(x_train))\n",
    "precision = accuracy_score(y_train_hat,y_train) # 准确率\n",
    "recall = recall_score(y_train_hat,y_train) # 召回率\n",
    "F1 = f1_score(y_train_hat,y_train) # F1值\n",
    "ROC = roc_auc_score(y_train_hat,y_train) # ROC值\n",
    "\n",
    "print(f'训练集score: {score_train}\\n测试集score: {score_test}\\n准确率: {precision}\\n召回率: {recall}\\nF1值: {F1}\\nROC值: {ROC}')"
   ]
  },
  {
   "cell_type": "code",
   "execution_count": 7,
   "id": "5d6d9478",
   "metadata": {},
   "outputs": [
    {
     "name": "stdout",
     "output_type": "stream",
     "text": [
      "              precision    recall  f1-score   support\n",
      "\n",
      "         负情感       0.88      0.99      0.93       143\n",
      "         正情感       1.00      0.98      0.99       816\n",
      "\n",
      "    accuracy                           0.98       959\n",
      "   macro avg       0.94      0.98      0.96       959\n",
      "weighted avg       0.98      0.98      0.98       959\n",
      "\n"
     ]
    }
   ],
   "source": [
    "from sklearn.metrics import classification_report\n",
    "print(classification_report(y_train_hat,y_train, target_names=['负情感','正情感']))"
   ]
  },
  {
   "cell_type": "markdown",
   "id": "29c2cfb4",
   "metadata": {},
   "source": [
    "## LDA主题模型"
   ]
  },
  {
   "cell_type": "code",
   "execution_count": 9,
   "id": "21cfbec3",
   "metadata": {},
   "outputs": [
    {
     "data": {
      "text/plain": [
       "[(0,\n",
       "  '0.032*\"安装\" + 0.017*\"非常\" + 0.016*\"快\" + 0.012*\"师傅\" + 0.011*\"不错\" + 0.009*\"外观\" + 0.009*\"美的\" + 0.008*\"服务\" + 0.008*\"满意\" + 0.007*\"质量\"'),\n",
       " (1,\n",
       "  '0.042*\"非常\" + 0.029*\"安装\" + 0.020*\"不错\" + 0.018*\"满意\" + 0.017*\"师傅\" + 0.013*\"空调\" + 0.012*\"快\" + 0.011*\"服务\" + 0.011*\"质量\" + 0.010*\"外观\"'),\n",
       " (2,\n",
       "  '0.046*\"安装\" + 0.044*\"效果\" + 0.023*\"静音\" + 0.018*\"很快\" + 0.016*\"外观\" + 0.015*\"师傅\" + 0.015*\"空调\" + 0.014*\"制冷\" + 0.013*\"送货\" + 0.013*\"冷暖\"'),\n",
       " (3,\n",
       "  '0.042*\"安装\" + 0.039*\"非常\" + 0.016*\"师傅\" + 0.015*\"效果\" + 0.013*\"空调\" + 0.012*\"服务\" + 0.012*\"值得\" + 0.011*\"质量\" + 0.011*\"不错\" + 0.010*\"买\"'),\n",
       " (4,\n",
       "  '0.035*\"安装\" + 0.021*\"很快\" + 0.017*\"空调\" + 0.016*\"师傅\" + 0.015*\"不错\" + 0.014*\"非常\" + 0.014*\"制冷\" + 0.012*\"物流\" + 0.010*\"效果\" + 0.009*\"没有\"'),\n",
       " (5,\n",
       "  '0.060*\"安装\" + 0.031*\"师傅\" + 0.029*\"空调\" + 0.015*\"非常\" + 0.014*\"送货\" + 0.012*\"效果\" + 0.012*\"外观\" + 0.011*\"快\" + 0.011*\"买\" + 0.011*\"服务\"'),\n",
       " (6,\n",
       "  '0.033*\"安装\" + 0.027*\"师傅\" + 0.019*\"不错\" + 0.018*\"满意\" + 0.014*\"空调\" + 0.013*\"买\" + 0.012*\"质量\" + 0.012*\"非常\" + 0.010*\"物流\" + 0.010*\"服务\"'),\n",
       " (7,\n",
       "  '0.034*\"安装\" + 0.031*\"非常\" + 0.020*\"空调\" + 0.017*\"师傅\" + 0.015*\"买\" + 0.012*\"美的\" + 0.012*\"效果\" + 0.011*\"不错\" + 0.010*\"送货\" + 0.010*\"制冷\"'),\n",
       " (8,\n",
       "  '0.034*\"非常\" + 0.025*\"安装\" + 0.020*\"不错\" + 0.017*\"师傅\" + 0.016*\"满意\" + 0.015*\"买\" + 0.015*\"快\" + 0.015*\"服务\" + 0.012*\"物流\" + 0.012*\"速度\"'),\n",
       " (9,\n",
       "  '0.035*\"安装\" + 0.022*\"非常\" + 0.022*\"师傅\" + 0.015*\"空调\" + 0.015*\"很快\" + 0.015*\"效果\" + 0.014*\"送货\" + 0.014*\"买\" + 0.013*\"美的\" + 0.012*\"满意\"')]"
      ]
     },
     "execution_count": 9,
     "metadata": {},
     "output_type": "execute_result"
    }
   ],
   "source": [
    "from gensim.models.ldamodel import LdaModel\n",
    "from gensim import corpora\n",
    "\n",
    "dictionary = corpora.Dictionary(words)  # 构建词典\n",
    "corpus = [dictionary.doc2bow(text) for text in words]\n",
    "ldamodel = LdaModel(corpus, num_topics=10, id2word=dictionary, random_state = 42)\n",
    "ldamodel.print_topics(num_topics=10)"
   ]
  },
  {
   "cell_type": "markdown",
   "id": "bc1c6b97",
   "metadata": {},
   "source": [
    "## 根据主题一致性，优化主题数"
   ]
  },
  {
   "cell_type": "code",
   "execution_count": 13,
   "id": "3bc92bf4",
   "metadata": {},
   "outputs": [
    {
     "name": "stdout",
     "output_type": "stream",
     "text": [
      "0.45334817022361873\n",
      "0.4203210619108001\n",
      "0.4295283371358387\n",
      "0.4384712435254164\n",
      "0.4400100429376198\n",
      "0.454568140951336\n",
      "0.45122661525483815\n",
      "0.46856692982721926\n",
      "0.47102616176727197\n",
      "0.4690255864426546\n",
      "0.47692940344475976\n",
      "0.4757666270907423\n",
      "0.4718666559468612\n",
      "0.46523252269193954\n"
     ]
    },
    {
     "data": {
      "image/png": "[encoded data removed]",
      "text/plain": [
       "<Figure size 640x480 with 1 Axes>"
      ]
     },
     "metadata": {},
     "output_type": "display_data"
    }
   ],
   "source": [
    "from gensim.models.coherencemodel import CoherenceModel\n",
    "import matplotlib as mpl\n",
    "import matplotlib.pyplot as plt\n",
    "\n",
    "mpl.rcParams['font.family'] = 'SimHei'\n",
    "mpl.rcParams['axes.unicode_minus'] = False\n",
    "\n",
    "def coherence(num_topics):\n",
    "    ldamodel = LdaModel(corpus, num_topics=num_topics, id2word = dictionary, random_state = 42)\n",
    "#     print(ldamodel.print_topics(num_topics=num_topics, num_words=10))\n",
    "    ldacm = CoherenceModel(model=ldamodel, texts=words, dictionary=dictionary, coherence='c_v')\n",
    "    print(ldacm.get_coherence())\n",
    "    return ldacm.get_coherence()\n",
    "\n",
    "\n",
    "x = range(1,15)\n",
    "y = [coherence(i) for i in x]\n",
    "plt.plot(x, y)\n",
    "plt.xlabel('主题数目')\n",
    "plt.ylabel('一致性')\n",
    "plt.show()"
   ]
  },
  {
   "cell_type": "markdown",
   "id": "972bda2d",
   "metadata": {},
   "source": [
    "## 主题数最优为11，建立模型"
   ]
  },
  {
   "cell_type": "code",
   "execution_count": 14,
   "id": "2702a61b",
   "metadata": {},
   "outputs": [
    {
     "name": "stdout",
     "output_type": "stream",
     "text": [
      "[(0, '0.035*\"安装\" + 0.017*\"非常\" + 0.016*\"快\" + 0.013*\"师傅\" + 0.010*\"不错\" + 0.010*\"到货\" + 0.009*\"美的\" + 0.009*\"服务\" + 0.009*\"空调\" + 0.009*\"外观\"'), (1, '0.043*\"非常\" + 0.033*\"安装\" + 0.019*\"满意\" + 0.017*\"不错\" + 0.017*\"师傅\" + 0.016*\"空调\" + 0.012*\"快\" + 0.011*\"买\" + 0.011*\"服务\" + 0.011*\"质量\"'), (2, '0.048*\"安装\" + 0.034*\"效果\" + 0.020*\"空调\" + 0.020*\"很快\" + 0.018*\"师傅\" + 0.016*\"静音\" + 0.015*\"制冷\" + 0.013*\"外观\" + 0.012*\"送货\" + 0.011*\"买\"'), (3, '0.045*\"安装\" + 0.037*\"非常\" + 0.017*\"师傅\" + 0.015*\"效果\" + 0.013*\"值得\" + 0.012*\"服务\" + 0.012*\"空调\" + 0.012*\"不错\" + 0.011*\"买\" + 0.010*\"质量\"'), (4, '0.028*\"安装\" + 0.020*\"空调\" + 0.019*\"很快\" + 0.018*\"不错\" + 0.013*\"师傅\" + 0.013*\"非常\" + 0.012*\"制冷\" + 0.011*\"没有\" + 0.010*\"物流\" + 0.010*\"外观\"'), (5, '0.056*\"安装\" + 0.029*\"师傅\" + 0.027*\"空调\" + 0.013*\"非常\" + 0.012*\"送货\" + 0.012*\"外观\" + 0.011*\"服务\" + 0.011*\"效果\" + 0.011*\"特别\" + 0.011*\"美的\"'), (6, '0.034*\"安装\" + 0.029*\"师傅\" + 0.019*\"不错\" + 0.017*\"满意\" + 0.015*\"空调\" + 0.014*\"买\" + 0.014*\"质量\" + 0.012*\"非常\" + 0.011*\"物流\" + 0.010*\"美的\"'), (7, '0.035*\"非常\" + 0.034*\"安装\" + 0.020*\"空调\" + 0.015*\"师傅\" + 0.014*\"美的\" + 0.013*\"买\" + 0.013*\"送货\" + 0.012*\"不错\" + 0.012*\"效果\" + 0.011*\"快\"'), (8, '0.033*\"非常\" + 0.022*\"安装\" + 0.022*\"不错\" + 0.018*\"满意\" + 0.015*\"服务\" + 0.015*\"师傅\" + 0.015*\"快\" + 0.014*\"买\" + 0.013*\"物流\" + 0.011*\"喜欢\"'), (9, '0.035*\"安装\" + 0.021*\"非常\" + 0.020*\"师傅\" + 0.014*\"很快\" + 0.014*\"空调\" + 0.014*\"买\" + 0.013*\"送货\" + 0.012*\"效果\" + 0.011*\"满意\" + 0.011*\"美的\"'), (10, '0.034*\"安装\" + 0.034*\"效果\" + 0.024*\"师傅\" + 0.024*\"非常\" + 0.015*\"送货\" + 0.014*\"外观\" + 0.014*\"制冷\" + 0.012*\"静音\" + 0.012*\"空调\" + 0.010*\"不错\"')]\n"
     ]
    }
   ],
   "source": [
    "lda = LdaModel(corpus=corpus, id2word=dictionary, num_topics=11, random_state=42)\n",
    "topic_list = lda.print_topics()\n",
    "\n",
    "print(topic_list)"
   ]
  },
  {
   "cell_type": "code",
   "execution_count": 26,
   "id": "34849248",
   "metadata": {},
   "outputs": [
    {
     "data": {
      "text/plain": [
       "1     182\n",
       "5     157\n",
       "8     153\n",
       "6     107\n",
       "10    107\n",
       "2     106\n",
       "3     102\n",
       "7      95\n",
       "9      75\n",
       "4      69\n",
       "0      46\n",
       "dtype: int64"
      ]
     },
     "execution_count": 26,
     "metadata": {},
     "output_type": "execute_result"
    }
   ],
   "source": [
    "topics = []\n",
    "for i in lda.get_document_topics(corpus)[:]:\n",
    "    listj=[]\n",
    "    for j in i:\n",
    "        listj.append(j[1])\n",
    "    topics.append(i[listj.index(max(listj))][0])\n",
    "pd.DataFrame(topics).value_counts() # 所有评论中，主题1最多"
   ]
  },
  {
   "cell_type": "markdown",
   "id": "888f322f",
   "metadata": {},
   "source": [
    "## 输出可视化"
   ]
  },
  {
   "cell_type": "code",
   "execution_count": 32,
   "id": "b5a2de89",
   "metadata": {},
   "outputs": [],
   "source": [
    "import pyLDAvis\n",
    "import pyLDAvis.gensim_models as gensimvis\n",
    "\n",
    "pyLDAvis.enable_notebook()\n",
    "data = gensimvis.prepare(lda, corpus, dictionary)\n",
    "pyLDAvis.save_html(data, '主题.html')"
   ]
  },
  {
   "cell_type": "code",
   "execution_count": null,
   "id": "0164036a",
   "metadata": {},
   "outputs": [],
   "source": []
  }
 ],
 "metadata": {
  "kernelspec": {
   "display_name": "Python 3 (ipykernel)",
   "language": "python",
   "name": "python3"
  },
  "language_info": {
   "codemirror_mode": {
    "name": "ipython",
    "version": 3
   },
   "file_extension": ".py",
   "mimetype": "text/x-python",
   "name": "python",
   "nbconvert_exporter": "python",
   "pygments_lexer": "ipython3",
   "version": "3.9.13"
  }
 },
 "nbformat": 4,
 "nbformat_minor": 5
}
